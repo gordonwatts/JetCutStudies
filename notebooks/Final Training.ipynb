{
 "cells": [
  {
   "cell_type": "markdown",
   "metadata": {},
   "source": [
    "# Final Training\n",
    "This notebook contains the final training that is used in the analysis."
   ]
  },
  {
   "cell_type": "markdown",
   "metadata": {},
   "source": [
    "## Initalization"
   ]
  },
  {
   "cell_type": "code",
   "execution_count": 2,
   "metadata": {},
   "outputs": [],
   "source": [
    "from bdt_training_scikit_tools import load_trimmed_sample, default_training_variable_list, \\\n",
    "    test_train_samples, prep_samples, default_training, calc_performance, get_fraction_of_events\n",
    "import matplotlib.pyplot as plt\n",
    "plt.rc('font', size=14)\n",
    "from matplotlib.colors import LogNorm\n",
    "import pandas as pd\n",
    "import numpy as np\n",
    "import multiprocessing as mp\n",
    "import itertools"
   ]
  },
  {
   "cell_type": "markdown",
   "metadata": {},
   "source": [
    "## Load data"
   ]
  },
  {
   "cell_type": "code",
   "execution_count": 44,
   "metadata": {},
   "outputs": [
    {
     "name": "stdout",
     "output_type": "stream",
     "text": [
      "Job 106:\n",
      "  BIB: 800000 events\n",
      "  Multijet: 800000 events\n",
      "  Signal: 800000 events\n",
      "  [800000, 800000, 504190]\n"
     ]
    }
   ],
   "source": [
    "input_events = load_trimmed_sample(106)"
   ]
  },
  {
   "cell_type": "code",
   "execution_count": 45,
   "metadata": {},
   "outputs": [
    {
     "name": "stdout",
     "output_type": "stream",
     "text": [
      "[201018, 200123, 126005]\n"
     ]
    }
   ],
   "source": [
    "events_25 = get_fraction_of_events(input_events, 0.25)\n",
    "print ([len(i.index) for i in events_25])"
   ]
  },
  {
   "cell_type": "markdown",
   "metadata": {},
   "source": [
    "## Training\n",
    "Default training variables. Likely were arrived at by analysis in the Training Variables workbook."
   ]
  },
  {
   "cell_type": "code",
   "execution_count": 7,
   "metadata": {},
   "outputs": [],
   "source": [
    "training_variables = ['EnergyDensity',\n",
    " 'BIBDeltaTimingM',\n",
    " 'JetPt',\n",
    " 'HadronicLayer1Fraction',\n",
    " 'ShowerCenter',\n",
    " 'JetLat',\n",
    " 'FirstClusterRadius',\n",
    " 'JetLong',\n",
    " 'MaxTrackPt',\n",
    " 'PredictedLxy',\n",
    " 'BIBDeltaTimingP',\n",
    " 'PredictedLz',\n",
    " 'SumPtOfAllTracks']"
   ]
  },
  {
   "cell_type": "markdown",
   "metadata": {},
   "source": [
    "Run the training to get a bdt back."
   ]
  },
  {
   "cell_type": "code",
   "execution_count": 8,
   "metadata": {},
   "outputs": [
    {
     "name": "stdout",
     "output_type": "stream",
     "text": [
      "CPU times: user 136 ms, sys: 81.1 ms, total: 217 ms\n",
      "Wall time: 213 ms\n"
     ]
    }
   ],
   "source": [
    "%%time\n",
    "# Split into testing and training samples\n",
    "train, test = test_train_samples(events_25)\n",
    "\n",
    "# Prep samples for training\n",
    "all_events, all_events_class, training_weight, evaluation_weight = prep_samples(train[0], train[1], train[2], training_variable_list=training_variables)"
   ]
  },
  {
   "cell_type": "code",
   "execution_count": null,
   "metadata": {},
   "outputs": [],
   "source": [
    "# Run training\n",
    "bdt = default_training(all_events, training_weight, all_events_class)\n",
    "\n",
    "# pulled out of the utility python file for easy reference\n",
    "#def default_training (events, events_weight, events_class):\n",
    "#    bdt = GradientBoostingClassifier(max_depth=3, n_estimators=1000)\n",
    "#    bdt.fit(events, events_class.Class, sample_weight = events_weight)\n",
    "#    return bdt"
   ]
  },
  {
   "cell_type": "markdown",
   "metadata": {},
   "source": [
    "Calculate the performance for this training"
   ]
  },
  {
   "cell_type": "code",
   "execution_count": 6,
   "metadata": {},
   "outputs": [
    {
     "name": "stdout",
     "output_type": "stream",
     "text": [
      "CPU times: user 50.8 s, sys: 820 ms, total: 51.7 s\n",
      "Wall time: 51.4 s\n"
     ]
    },
    {
     "data": {
      "text/plain": [
       "{'BIBBack': 688666572.509355,\n",
       " 'BIBEff': 0.6489275,\n",
       " 'BIBSsqrtB': 19.782522318259858,\n",
       " 'BIBTotalCount': 800000,\n",
       " 'BIBTotalWeight': 800000.0,\n",
       " 'BIBinBIB': 519142.0,\n",
       " 'BIBinHSS': 19031.0,\n",
       " 'BIBinMJ': 261827.0,\n",
       " 'HSSBack': 29459870.69691914,\n",
       " 'HSSEff': 0.98546778000357,\n",
       " 'HSSSsqrtB': 91.54217757840817,\n",
       " 'HSSTotalCount': 504190,\n",
       " 'HSSTotalWeight': 504190.0,\n",
       " 'HSSinBIB': 3902.0,\n",
       " 'HSSinHSS': 496863.0,\n",
       " 'HSSinMJ': 3425.0,\n",
       " 'MJBack': 265252.0,\n",
       " 'MJEff': 0.7117782877217131,\n",
       " 'MJSsqrtB': 3443307.1006705863,\n",
       " 'MJTotalCount': 800000,\n",
       " 'MJTotalWeight': 2491496926.202851,\n",
       " 'MJinBIB': 688662670.509355,\n",
       " 'MJinHSS': 29440839.69691914,\n",
       " 'MJinMJ': 1773393415.9965768}"
      ]
     },
     "execution_count": 6,
     "metadata": {},
     "output_type": "execute_result"
    }
   ],
   "source": [
    "%%time\n",
    "calc_performance(bdt, input_events, training_variables=training_variables)"
   ]
  },
  {
   "cell_type": "code",
   "execution_count": 12,
   "metadata": {},
   "outputs": [
    {
     "data": {
      "text/plain": [
       "['test_106_Grad1000.pkl']"
      ]
     },
     "execution_count": 12,
     "metadata": {},
     "output_type": "execute_result"
    }
   ],
   "source": [
    "from sklearn.externals import joblib\n",
    "joblib.dump(bdt, 'test_106_Grad1000.pkl') "
   ]
  },
  {
   "cell_type": "markdown",
   "metadata": {},
   "source": [
    "## Conversion to TMVA format"
   ]
  },
  {
   "cell_type": "code",
   "execution_count": 13,
   "metadata": {},
   "outputs": [],
   "source": [
    "import mlglue\n",
    "import mlglue.tree\n",
    "from sklearn.externals import joblib\n",
    "bdt1 = joblib.load('test_106_Grad1000.pkl')\n",
    "bdtGeneral = mlglue.tree.BDTsklearn(bdt1, list(all_events.columns), ['BIB', 'MJ', 'Signal'])\n",
    "bdtGeneral.to_tmva(\"training_106_Grad1000.xml\")"
   ]
  },
  {
   "cell_type": "markdown",
   "metadata": {},
   "source": [
    "## Performance\n",
    "Look at some generic performance plots for the bdt."
   ]
  },
  {
   "cell_type": "code",
   "execution_count": 14,
   "metadata": {},
   "outputs": [],
   "source": [
    "perf_events, perf_events_class, perf_training_weight, perf_evaluation_weight = prep_samples(input_events[0], input_events[1], input_events[2], training_variable_list=training_variables)"
   ]
  },
  {
   "cell_type": "code",
   "execution_count": 15,
   "metadata": {},
   "outputs": [],
   "source": [
    "predicted_class = bdt1.predict(perf_events)"
   ]
  },
  {
   "cell_type": "code",
   "execution_count": 26,
   "metadata": {},
   "outputs": [
    {
     "data": {
      "text/plain": [
       "Text(0.5,1,'HSS')"
      ]
     },
     "execution_count": 26,
     "metadata": {},
     "output_type": "execute_result"
    },
    {
     "data": {
      "image/png": "[encoded data removed]",
      "text/plain": [
       "<matplotlib.figure.Figure at 0x7f2a61337518>"
      ]
     },
     "metadata": {},
     "output_type": "display_data"
    }
   ],
   "source": [
    "fig = plt.figure(figsize=(15,15))\n",
    "\n",
    "ax = plt.subplot(221)\n",
    "ax.hist(predicted_class[perf_events_class.Class == 0], bins=3)\n",
    "ax.set_xlabel('Class')\n",
    "ax.set_title('BIB')\n",
    "\n",
    "ax = plt.subplot(222)\n",
    "ax.hist(predicted_class[perf_events_class.Class == 1], bins=3)\n",
    "ax.set_xlabel('Class')\n",
    "ax.set_title('MJ')\n",
    "\n",
    "ax = plt.subplot(223)\n",
    "ax.hist(predicted_class[perf_events_class.Class == 2], bins=3)\n",
    "ax.set_xlabel('Class')\n",
    "ax.set_title('HSS')"
   ]
  },
  {
   "cell_type": "code",
   "execution_count": 28,
   "metadata": {},
   "outputs": [],
   "source": [
    "predicted_prob = bdt1.predict_proba(perf_events)"
   ]
  },
  {
   "cell_type": "code",
   "execution_count": 42,
   "metadata": {},
   "outputs": [
    {
     "data": {
      "text/plain": [
       "<matplotlib.legend.Legend at 0x7f2a5c0a2b00>"
      ]
     },
     "execution_count": 42,
     "metadata": {},
     "output_type": "execute_result"
    },
    {
     "data": {
      "image/png": "[encoded data removed]",
      "text/plain": [
       "<matplotlib.figure.Figure at 0x7f2a5c290908>"
      ]
     },
     "metadata": {},
     "output_type": "display_data"
    }
   ],
   "source": [
    "fig = plt.figure(figsize=(15,10))\n",
    "\n",
    "ax = plt.subplot(221)\n",
    "ax.hist(predicted_prob[perf_events_class.Class == 0], label=('BiB', \"MJ\", 'HSS'), bins=50, histtype = 'step')\n",
    "ax.set_xlabel('Weight')\n",
    "ax.set_title('Class: BIB')\n",
    "ax.legend()\n",
    "\n",
    "ax = plt.subplot(222)\n",
    "ax.hist(predicted_prob[perf_events_class.Class == 1], label=('BiB', \"MJ\", 'HSS'), bins=50, histtype = 'step')\n",
    "ax.set_xlabel('Weight')\n",
    "ax.set_title('Class: MJ')\n",
    "ax.legend()\n",
    "\n",
    "ax = plt.subplot(223)\n",
    "ax.hist(predicted_prob[perf_events_class.Class == 2], label=('BiB', \"MJ\", 'HSS'), bins=50, histtype = 'step')\n",
    "ax.set_xlabel('Weight')\n",
    "ax.set_title('Class: HSS')\n",
    "ax.legend()"
   ]
  },
  {
   "cell_type": "markdown",
   "metadata": {},
   "source": [
    "## TMVA Cross Check\n",
    "We always have trouble with that. We need to look to see what we can expect with TMVA. Below there is Bib, MJ, and Signal, all three classes. 5 events are taken (first jet pt eta phi are shown along with event number so they can be correlated with the real full root trees). The full inputs are shown, in the proper order to be fed to the bdt. Then the result of the TMVA translation is evaluated, and then the probabilities from the sklean classifier are shown. A direct match isn't expected, but the trents (e.g. signal has the class2 column always larger than the bib or mj columns).\n",
    "\n",
    "### What is wrong with this translation?\n",
    "I'm using a slightly modified version of mlglue to do the translation. Yet, as you can see below, the MJ, Sig, and background come out almost alike. And the classifier works rather well when it is run internally. So... what is going on?\n",
    "\n",
    "### BiB (class 0)\n",
    "First lets look at BiB. We'll get some absolute numbers out of the weight calculations"
   ]
  },
  {
   "cell_type": "code",
   "execution_count": 57,
   "metadata": {},
   "outputs": [
    {
     "data": {
      "text/html": [
       "<div>\n",
       "<style scoped>\n",
       "    .dataframe tbody tr th:only-of-type {\n",
       "        vertical-align: middle;\n",
       "    }\n",
       "\n",
       "    .dataframe tbody tr th {\n",
       "        vertical-align: top;\n",
       "    }\n",
       "\n",
       "    .dataframe thead th {\n",
       "        text-align: right;\n",
       "    }\n",
       "</style>\n",
       "<table border=\"1\" class=\"dataframe\">\n",
       "  <thead>\n",
       "    <tr style=\"text-align: right;\">\n",
       "      <th></th>\n",
       "      <th>RunNumber</th>\n",
       "      <th>EventNumber</th>\n",
       "      <th>JetPt</th>\n",
       "      <th>JetEta</th>\n",
       "      <th>JetPhi</th>\n",
       "    </tr>\n",
       "  </thead>\n",
       "  <tbody>\n",
       "    <tr>\n",
       "      <th>0</th>\n",
       "      <td>311170</td>\n",
       "      <td>927379924</td>\n",
       "      <td>191.9800</td>\n",
       "      <td>0.751230</td>\n",
       "      <td>1.51744</td>\n",
       "    </tr>\n",
       "    <tr>\n",
       "      <th>3</th>\n",
       "      <td>311170</td>\n",
       "      <td>929187568</td>\n",
       "      <td>155.0430</td>\n",
       "      <td>-0.640188</td>\n",
       "      <td>1.34265</td>\n",
       "    </tr>\n",
       "    <tr>\n",
       "      <th>4</th>\n",
       "      <td>311170</td>\n",
       "      <td>929187568</td>\n",
       "      <td>91.3555</td>\n",
       "      <td>0.247285</td>\n",
       "      <td>-2.10950</td>\n",
       "    </tr>\n",
       "    <tr>\n",
       "      <th>5</th>\n",
       "      <td>311170</td>\n",
       "      <td>929187568</td>\n",
       "      <td>41.3577</td>\n",
       "      <td>-0.138648</td>\n",
       "      <td>0.02486</td>\n",
       "    </tr>\n",
       "    <tr>\n",
       "      <th>9</th>\n",
       "      <td>311170</td>\n",
       "      <td>932610428</td>\n",
       "      <td>182.9320</td>\n",
       "      <td>-1.274750</td>\n",
       "      <td>1.42699</td>\n",
       "    </tr>\n",
       "  </tbody>\n",
       "</table>\n",
       "</div>"
      ],
      "text/plain": [
       "   RunNumber  EventNumber     JetPt    JetEta   JetPhi\n",
       "0     311170    927379924  191.9800  0.751230  1.51744\n",
       "3     311170    929187568  155.0430 -0.640188  1.34265\n",
       "4     311170    929187568   91.3555  0.247285 -2.10950\n",
       "5     311170    929187568   41.3577 -0.138648  0.02486\n",
       "9     311170    932610428  182.9320 -1.274750  1.42699"
      ]
     },
     "execution_count": 57,
     "metadata": {},
     "output_type": "execute_result"
    }
   ],
   "source": [
    "events_25[0][:5][['RunNumber', 'EventNumber', 'JetPt', 'JetEta', 'JetPhi']]"
   ]
  },
  {
   "cell_type": "code",
   "execution_count": 89,
   "metadata": {},
   "outputs": [
    {
     "data": {
      "text/html": [
       "<div>\n",
       "<style scoped>\n",
       "    .dataframe tbody tr th:only-of-type {\n",
       "        vertical-align: middle;\n",
       "    }\n",
       "\n",
       "    .dataframe tbody tr th {\n",
       "        vertical-align: top;\n",
       "    }\n",
       "\n",
       "    .dataframe thead th {\n",
       "        text-align: right;\n",
       "    }\n",
       "</style>\n",
       "<table border=\"1\" class=\"dataframe\">\n",
       "  <thead>\n",
       "    <tr style=\"text-align: right;\">\n",
       "      <th></th>\n",
       "      <th>EnergyDensity</th>\n",
       "      <th>BIBDeltaTimingM</th>\n",
       "      <th>JetPt</th>\n",
       "      <th>HadronicLayer1Fraction</th>\n",
       "      <th>ShowerCenter</th>\n",
       "      <th>JetLat</th>\n",
       "      <th>FirstClusterRadius</th>\n",
       "      <th>JetLong</th>\n",
       "      <th>MaxTrackPt</th>\n",
       "      <th>PredictedLxy</th>\n",
       "      <th>BIBDeltaTimingP</th>\n",
       "      <th>PredictedLz</th>\n",
       "      <th>SumPtOfAllTracks</th>\n",
       "    </tr>\n",
       "  </thead>\n",
       "  <tbody>\n",
       "    <tr>\n",
       "      <th>0</th>\n",
       "      <td>0.001389</td>\n",
       "      <td>15.063000</td>\n",
       "      <td>191.9800</td>\n",
       "      <td>0.745036</td>\n",
       "      <td>1784.0</td>\n",
       "      <td>0.859375</td>\n",
       "      <td>3376</td>\n",
       "      <td>0.953125</td>\n",
       "      <td>0.000000</td>\n",
       "      <td>2052.750</td>\n",
       "      <td>0.503155</td>\n",
       "      <td>1810.120</td>\n",
       "      <td>0.000000</td>\n",
       "    </tr>\n",
       "    <tr>\n",
       "      <th>1</th>\n",
       "      <td>0.001686</td>\n",
       "      <td>4.304950</td>\n",
       "      <td>155.0430</td>\n",
       "      <td>0.610702</td>\n",
       "      <td>916.0</td>\n",
       "      <td>0.964844</td>\n",
       "      <td>2656</td>\n",
       "      <td>0.660156</td>\n",
       "      <td>53.608300</td>\n",
       "      <td>719.184</td>\n",
       "      <td>13.267500</td>\n",
       "      <td>455.200</td>\n",
       "      <td>102.263000</td>\n",
       "    </tr>\n",
       "    <tr>\n",
       "      <th>2</th>\n",
       "      <td>0.005402</td>\n",
       "      <td>7.480070</td>\n",
       "      <td>91.3555</td>\n",
       "      <td>0.306610</td>\n",
       "      <td>218.0</td>\n",
       "      <td>0.867188</td>\n",
       "      <td>1840</td>\n",
       "      <td>0.695312</td>\n",
       "      <td>14.953600</td>\n",
       "      <td>741.596</td>\n",
       "      <td>2.930280</td>\n",
       "      <td>156.224</td>\n",
       "      <td>28.833500</td>\n",
       "    </tr>\n",
       "    <tr>\n",
       "      <th>3</th>\n",
       "      <td>0.002838</td>\n",
       "      <td>27.441500</td>\n",
       "      <td>41.3577</td>\n",
       "      <td>0.914956</td>\n",
       "      <td>310.0</td>\n",
       "      <td>0.910156</td>\n",
       "      <td>1832</td>\n",
       "      <td>0.894531</td>\n",
       "      <td>0.000000</td>\n",
       "      <td>1001.520</td>\n",
       "      <td>29.424500</td>\n",
       "      <td>346.007</td>\n",
       "      <td>0.000000</td>\n",
       "    </tr>\n",
       "    <tr>\n",
       "      <th>4</th>\n",
       "      <td>0.002960</td>\n",
       "      <td>-0.050031</td>\n",
       "      <td>182.9320</td>\n",
       "      <td>0.005701</td>\n",
       "      <td>2592.0</td>\n",
       "      <td>0.392578</td>\n",
       "      <td>5440</td>\n",
       "      <td>0.271484</td>\n",
       "      <td>0.423082</td>\n",
       "      <td>2646.290</td>\n",
       "      <td>30.758200</td>\n",
       "      <td>4184.980</td>\n",
       "      <td>0.423082</td>\n",
       "    </tr>\n",
       "  </tbody>\n",
       "</table>\n",
       "</div>"
      ],
      "text/plain": [
       "   EnergyDensity  BIBDeltaTimingM     JetPt  HadronicLayer1Fraction  \\\n",
       "0       0.001389        15.063000  191.9800                0.745036   \n",
       "1       0.001686         4.304950  155.0430                0.610702   \n",
       "2       0.005402         7.480070   91.3555                0.306610   \n",
       "3       0.002838        27.441500   41.3577                0.914956   \n",
       "4       0.002960        -0.050031  182.9320                0.005701   \n",
       "\n",
       "   ShowerCenter    JetLat  FirstClusterRadius   JetLong  MaxTrackPt  \\\n",
       "0        1784.0  0.859375                3376  0.953125    0.000000   \n",
       "1         916.0  0.964844                2656  0.660156   53.608300   \n",
       "2         218.0  0.867188                1840  0.695312   14.953600   \n",
       "3         310.0  0.910156                1832  0.894531    0.000000   \n",
       "4        2592.0  0.392578                5440  0.271484    0.423082   \n",
       "\n",
       "   PredictedLxy  BIBDeltaTimingP  PredictedLz  SumPtOfAllTracks  \n",
       "0      2052.750         0.503155     1810.120          0.000000  \n",
       "1       719.184        13.267500      455.200        102.263000  \n",
       "2       741.596         2.930280      156.224         28.833500  \n",
       "3      1001.520        29.424500      346.007          0.000000  \n",
       "4      2646.290        30.758200     4184.980          0.423082  "
      ]
     },
     "execution_count": 89,
     "metadata": {},
     "output_type": "execute_result"
    }
   ],
   "source": [
    "subsample = all_events[all_events_class.Class==0][:5]\n",
    "subsample"
   ]
  },
  {
   "cell_type": "code",
   "execution_count": 90,
   "metadata": {},
   "outputs": [
    {
     "data": {
      "text/plain": [
       "array([[0.34207481, 0.32719708, 0.33072811],\n",
       "       [0.33981821, 0.33936401, 0.32081778],\n",
       "       [0.34003145, 0.33785093, 0.32211763],\n",
       "       [0.33805661, 0.33368641, 0.32825698],\n",
       "       [0.35016682, 0.32668432, 0.32314886]])"
      ]
     },
     "execution_count": 90,
     "metadata": {},
     "output_type": "execute_result"
    }
   ],
   "source": [
    "bdtGeneral.eval(subsample)"
   ]
  },
  {
   "cell_type": "code",
   "execution_count": 91,
   "metadata": {},
   "outputs": [
    {
     "data": {
      "text/plain": [
       "array([[9.59878561e-01, 1.14691427e-02, 2.86522959e-02],\n",
       "       [5.27753684e-01, 4.70789005e-01, 1.45731082e-03],\n",
       "       [6.49440147e-01, 3.48036238e-01, 2.52361490e-03],\n",
       "       [7.55547825e-01, 2.09725962e-01, 3.47262129e-02],\n",
       "       [9.98732158e-01, 9.84602217e-04, 2.83239874e-04]])"
      ]
     },
     "execution_count": 91,
     "metadata": {},
     "output_type": "execute_result"
    }
   ],
   "source": [
    "bdt1.predict_proba(subsample)"
   ]
  },
  {
   "cell_type": "markdown",
   "metadata": {},
   "source": [
    "### MultiJet (class 1)\n",
    "\n",
    "Ok, now lets look at MJ, which is class 1. Note that the run number is not pulled correctly here. :("
   ]
  },
  {
   "cell_type": "code",
   "execution_count": 80,
   "metadata": {},
   "outputs": [
    {
     "data": {
      "text/html": [
       "<div>\n",
       "<style scoped>\n",
       "    .dataframe tbody tr th:only-of-type {\n",
       "        vertical-align: middle;\n",
       "    }\n",
       "\n",
       "    .dataframe tbody tr th {\n",
       "        vertical-align: top;\n",
       "    }\n",
       "\n",
       "    .dataframe thead th {\n",
       "        text-align: right;\n",
       "    }\n",
       "</style>\n",
       "<table border=\"1\" class=\"dataframe\">\n",
       "  <thead>\n",
       "    <tr style=\"text-align: right;\">\n",
       "      <th></th>\n",
       "      <th>RunNumber</th>\n",
       "      <th>EventNumber</th>\n",
       "      <th>JetPt</th>\n",
       "      <th>JetEta</th>\n",
       "      <th>JetPhi</th>\n",
       "    </tr>\n",
       "  </thead>\n",
       "  <tbody>\n",
       "    <tr>\n",
       "      <th>1</th>\n",
       "      <td>284500</td>\n",
       "      <td>4160</td>\n",
       "      <td>58.6659</td>\n",
       "      <td>0.915437</td>\n",
       "      <td>0.622971</td>\n",
       "    </tr>\n",
       "    <tr>\n",
       "      <th>3</th>\n",
       "      <td>284500</td>\n",
       "      <td>4144</td>\n",
       "      <td>143.7050</td>\n",
       "      <td>0.985570</td>\n",
       "      <td>-1.977800</td>\n",
       "    </tr>\n",
       "    <tr>\n",
       "      <th>4</th>\n",
       "      <td>284500</td>\n",
       "      <td>4144</td>\n",
       "      <td>53.9551</td>\n",
       "      <td>-1.521310</td>\n",
       "      <td>-2.185010</td>\n",
       "    </tr>\n",
       "    <tr>\n",
       "      <th>5</th>\n",
       "      <td>284500</td>\n",
       "      <td>4144</td>\n",
       "      <td>49.4316</td>\n",
       "      <td>0.858851</td>\n",
       "      <td>-1.415250</td>\n",
       "    </tr>\n",
       "    <tr>\n",
       "      <th>6</th>\n",
       "      <td>284500</td>\n",
       "      <td>4072</td>\n",
       "      <td>85.1043</td>\n",
       "      <td>0.613642</td>\n",
       "      <td>2.203130</td>\n",
       "    </tr>\n",
       "  </tbody>\n",
       "</table>\n",
       "</div>"
      ],
      "text/plain": [
       "   RunNumber  EventNumber     JetPt    JetEta    JetPhi\n",
       "1     284500         4160   58.6659  0.915437  0.622971\n",
       "3     284500         4144  143.7050  0.985570 -1.977800\n",
       "4     284500         4144   53.9551 -1.521310 -2.185010\n",
       "5     284500         4144   49.4316  0.858851 -1.415250\n",
       "6     284500         4072   85.1043  0.613642  2.203130"
      ]
     },
     "execution_count": 80,
     "metadata": {},
     "output_type": "execute_result"
    }
   ],
   "source": [
    "events_25[1][:5][['RunNumber', 'EventNumber', 'JetPt', 'JetEta', 'JetPhi']]"
   ]
  },
  {
   "cell_type": "code",
   "execution_count": 92,
   "metadata": {},
   "outputs": [
    {
     "data": {
      "text/html": [
       "<div>\n",
       "<style scoped>\n",
       "    .dataframe tbody tr th:only-of-type {\n",
       "        vertical-align: middle;\n",
       "    }\n",
       "\n",
       "    .dataframe tbody tr th {\n",
       "        vertical-align: top;\n",
       "    }\n",
       "\n",
       "    .dataframe thead th {\n",
       "        text-align: right;\n",
       "    }\n",
       "</style>\n",
       "<table border=\"1\" class=\"dataframe\">\n",
       "  <thead>\n",
       "    <tr style=\"text-align: right;\">\n",
       "      <th></th>\n",
       "      <th>EnergyDensity</th>\n",
       "      <th>BIBDeltaTimingM</th>\n",
       "      <th>JetPt</th>\n",
       "      <th>HadronicLayer1Fraction</th>\n",
       "      <th>ShowerCenter</th>\n",
       "      <th>JetLat</th>\n",
       "      <th>FirstClusterRadius</th>\n",
       "      <th>JetLong</th>\n",
       "      <th>MaxTrackPt</th>\n",
       "      <th>PredictedLxy</th>\n",
       "      <th>BIBDeltaTimingP</th>\n",
       "      <th>PredictedLz</th>\n",
       "      <th>SumPtOfAllTracks</th>\n",
       "    </tr>\n",
       "  </thead>\n",
       "  <tbody>\n",
       "    <tr>\n",
       "      <th>133694</th>\n",
       "      <td>0.003311</td>\n",
       "      <td>14.31030</td>\n",
       "      <td>58.6659</td>\n",
       "      <td>0.570251</td>\n",
       "      <td>362.0</td>\n",
       "      <td>0.933594</td>\n",
       "      <td>2512</td>\n",
       "      <td>0.988281</td>\n",
       "      <td>2.38707</td>\n",
       "      <td>675.068</td>\n",
       "      <td>2.18954</td>\n",
       "      <td>577.785</td>\n",
       "      <td>3.81886</td>\n",
       "    </tr>\n",
       "    <tr>\n",
       "      <th>133695</th>\n",
       "      <td>0.004364</td>\n",
       "      <td>14.50810</td>\n",
       "      <td>143.7050</td>\n",
       "      <td>0.533774</td>\n",
       "      <td>251.0</td>\n",
       "      <td>0.886719</td>\n",
       "      <td>2512</td>\n",
       "      <td>0.917969</td>\n",
       "      <td>32.18010</td>\n",
       "      <td>655.481</td>\n",
       "      <td>1.97326</td>\n",
       "      <td>741.678</td>\n",
       "      <td>85.33030</td>\n",
       "    </tr>\n",
       "    <tr>\n",
       "      <th>133696</th>\n",
       "      <td>0.011231</td>\n",
       "      <td>1.26047</td>\n",
       "      <td>53.9551</td>\n",
       "      <td>0.213439</td>\n",
       "      <td>50.0</td>\n",
       "      <td>0.648438</td>\n",
       "      <td>3312</td>\n",
       "      <td>0.320312</td>\n",
       "      <td>3.21193</td>\n",
       "      <td>458.212</td>\n",
       "      <td>21.01740</td>\n",
       "      <td>938.516</td>\n",
       "      <td>3.21193</td>\n",
       "    </tr>\n",
       "    <tr>\n",
       "      <th>133697</th>\n",
       "      <td>0.006104</td>\n",
       "      <td>14.42450</td>\n",
       "      <td>49.4316</td>\n",
       "      <td>0.814982</td>\n",
       "      <td>246.0</td>\n",
       "      <td>0.519531</td>\n",
       "      <td>2432</td>\n",
       "      <td>0.718750</td>\n",
       "      <td>7.72666</td>\n",
       "      <td>698.374</td>\n",
       "      <td>2.70632</td>\n",
       "      <td>596.755</td>\n",
       "      <td>7.72666</td>\n",
       "    </tr>\n",
       "    <tr>\n",
       "      <th>133698</th>\n",
       "      <td>0.000149</td>\n",
       "      <td>17.00240</td>\n",
       "      <td>85.1043</td>\n",
       "      <td>0.374585</td>\n",
       "      <td>1608.0</td>\n",
       "      <td>0.835938</td>\n",
       "      <td>3296</td>\n",
       "      <td>0.664062</td>\n",
       "      <td>24.43720</td>\n",
       "      <td>1064.960</td>\n",
       "      <td>5.30982</td>\n",
       "      <td>662.527</td>\n",
       "      <td>49.71430</td>\n",
       "    </tr>\n",
       "  </tbody>\n",
       "</table>\n",
       "</div>"
      ],
      "text/plain": [
       "        EnergyDensity  BIBDeltaTimingM     JetPt  HadronicLayer1Fraction  \\\n",
       "133694       0.003311         14.31030   58.6659                0.570251   \n",
       "133695       0.004364         14.50810  143.7050                0.533774   \n",
       "133696       0.011231          1.26047   53.9551                0.213439   \n",
       "133697       0.006104         14.42450   49.4316                0.814982   \n",
       "133698       0.000149         17.00240   85.1043                0.374585   \n",
       "\n",
       "        ShowerCenter    JetLat  FirstClusterRadius   JetLong  MaxTrackPt  \\\n",
       "133694         362.0  0.933594                2512  0.988281     2.38707   \n",
       "133695         251.0  0.886719                2512  0.917969    32.18010   \n",
       "133696          50.0  0.648438                3312  0.320312     3.21193   \n",
       "133697         246.0  0.519531                2432  0.718750     7.72666   \n",
       "133698        1608.0  0.835938                3296  0.664062    24.43720   \n",
       "\n",
       "        PredictedLxy  BIBDeltaTimingP  PredictedLz  SumPtOfAllTracks  \n",
       "133694       675.068          2.18954      577.785           3.81886  \n",
       "133695       655.481          1.97326      741.678          85.33030  \n",
       "133696       458.212         21.01740      938.516           3.21193  \n",
       "133697       698.374          2.70632      596.755           7.72666  \n",
       "133698      1064.960          5.30982      662.527          49.71430  "
      ]
     },
     "execution_count": 92,
     "metadata": {},
     "output_type": "execute_result"
    }
   ],
   "source": [
    "subsample = all_events[all_events_class.Class==1][:5]\n",
    "subsample"
   ]
  },
  {
   "cell_type": "code",
   "execution_count": 93,
   "metadata": {},
   "outputs": [
    {
     "data": {
      "text/plain": [
       "array([[0.33474463, 0.33581647, 0.32943889],\n",
       "       [0.3382659 , 0.34168465, 0.32004945],\n",
       "       [0.33506811, 0.3371751 , 0.32775679],\n",
       "       [0.33511847, 0.33714463, 0.3277369 ],\n",
       "       [0.33797426, 0.33891934, 0.3231064 ]])"
      ]
     },
     "execution_count": 93,
     "metadata": {},
     "output_type": "execute_result"
    }
   ],
   "source": [
    "bdtGeneral.eval(subsample)"
   ]
  },
  {
   "cell_type": "code",
   "execution_count": 94,
   "metadata": {},
   "outputs": [
    {
     "data": {
      "text/plain": [
       "array([[0.38758609, 0.54411158, 0.06830233],\n",
       "       [0.26379036, 0.73530373, 0.00090592],\n",
       "       [0.33283115, 0.63525153, 0.03191732],\n",
       "       [0.33816484, 0.63008337, 0.03175179],\n",
       "       [0.42410826, 0.57178391, 0.00410783]])"
      ]
     },
     "execution_count": 94,
     "metadata": {},
     "output_type": "execute_result"
    }
   ],
   "source": [
    "bdt1.predict_proba(subsample)"
   ]
  },
  {
   "cell_type": "markdown",
   "metadata": {},
   "source": [
    "### Signal (class 2)\n",
    "\n",
    "Finally, lets look at signal"
   ]
  },
  {
   "cell_type": "code",
   "execution_count": 84,
   "metadata": {},
   "outputs": [
    {
     "data": {
      "text/html": [
       "<div>\n",
       "<style scoped>\n",
       "    .dataframe tbody tr th:only-of-type {\n",
       "        vertical-align: middle;\n",
       "    }\n",
       "\n",
       "    .dataframe tbody tr th {\n",
       "        vertical-align: top;\n",
       "    }\n",
       "\n",
       "    .dataframe thead th {\n",
       "        text-align: right;\n",
       "    }\n",
       "</style>\n",
       "<table border=\"1\" class=\"dataframe\">\n",
       "  <thead>\n",
       "    <tr style=\"text-align: right;\">\n",
       "      <th></th>\n",
       "      <th>RunNumber</th>\n",
       "      <th>EventNumber</th>\n",
       "      <th>JetPt</th>\n",
       "      <th>JetEta</th>\n",
       "      <th>JetPhi</th>\n",
       "    </tr>\n",
       "  </thead>\n",
       "  <tbody>\n",
       "    <tr>\n",
       "      <th>2</th>\n",
       "      <td>284500</td>\n",
       "      <td>11752</td>\n",
       "      <td>208.314</td>\n",
       "      <td>0.965120</td>\n",
       "      <td>1.787220</td>\n",
       "    </tr>\n",
       "    <tr>\n",
       "      <th>9</th>\n",
       "      <td>284500</td>\n",
       "      <td>11784</td>\n",
       "      <td>360.325</td>\n",
       "      <td>0.599033</td>\n",
       "      <td>3.006070</td>\n",
       "    </tr>\n",
       "    <tr>\n",
       "      <th>25</th>\n",
       "      <td>284500</td>\n",
       "      <td>11564</td>\n",
       "      <td>350.417</td>\n",
       "      <td>-0.457128</td>\n",
       "      <td>-2.612860</td>\n",
       "    </tr>\n",
       "    <tr>\n",
       "      <th>27</th>\n",
       "      <td>284500</td>\n",
       "      <td>11508</td>\n",
       "      <td>191.903</td>\n",
       "      <td>1.241270</td>\n",
       "      <td>2.207490</td>\n",
       "    </tr>\n",
       "    <tr>\n",
       "      <th>29</th>\n",
       "      <td>284500</td>\n",
       "      <td>11092</td>\n",
       "      <td>502.285</td>\n",
       "      <td>0.030178</td>\n",
       "      <td>-0.760794</td>\n",
       "    </tr>\n",
       "  </tbody>\n",
       "</table>\n",
       "</div>"
      ],
      "text/plain": [
       "    RunNumber  EventNumber    JetPt    JetEta    JetPhi\n",
       "2      284500        11752  208.314  0.965120  1.787220\n",
       "9      284500        11784  360.325  0.599033  3.006070\n",
       "25     284500        11564  350.417 -0.457128 -2.612860\n",
       "27     284500        11508  191.903  1.241270  2.207490\n",
       "29     284500        11092  502.285  0.030178 -0.760794"
      ]
     },
     "execution_count": 84,
     "metadata": {},
     "output_type": "execute_result"
    }
   ],
   "source": [
    "events_25[2][:5][['RunNumber', 'EventNumber', 'JetPt', 'JetEta', 'JetPhi']]"
   ]
  },
  {
   "cell_type": "code",
   "execution_count": 86,
   "metadata": {},
   "outputs": [
    {
     "data": {
      "text/html": [
       "<div>\n",
       "<style scoped>\n",
       "    .dataframe tbody tr th:only-of-type {\n",
       "        vertical-align: middle;\n",
       "    }\n",
       "\n",
       "    .dataframe tbody tr th {\n",
       "        vertical-align: top;\n",
       "    }\n",
       "\n",
       "    .dataframe thead th {\n",
       "        text-align: right;\n",
       "    }\n",
       "</style>\n",
       "<table border=\"1\" class=\"dataframe\">\n",
       "  <thead>\n",
       "    <tr style=\"text-align: right;\">\n",
       "      <th></th>\n",
       "      <th>EnergyDensity</th>\n",
       "      <th>BIBDeltaTimingM</th>\n",
       "      <th>JetPt</th>\n",
       "      <th>HadronicLayer1Fraction</th>\n",
       "      <th>ShowerCenter</th>\n",
       "      <th>JetLat</th>\n",
       "      <th>FirstClusterRadius</th>\n",
       "      <th>JetLong</th>\n",
       "      <th>MaxTrackPt</th>\n",
       "      <th>PredictedLxy</th>\n",
       "      <th>BIBDeltaTimingP</th>\n",
       "      <th>PredictedLz</th>\n",
       "      <th>SumPtOfAllTracks</th>\n",
       "    </tr>\n",
       "  </thead>\n",
       "  <tbody>\n",
       "    <tr>\n",
       "      <th>267306</th>\n",
       "      <td>0.000660</td>\n",
       "      <td>36.55420</td>\n",
       "      <td>208.314</td>\n",
       "      <td>-0.001131</td>\n",
       "      <td>3936.0</td>\n",
       "      <td>0.371094</td>\n",
       "      <td>5440</td>\n",
       "      <td>0.322266</td>\n",
       "      <td>0.00000</td>\n",
       "      <td>3293.99</td>\n",
       "      <td>8.81774</td>\n",
       "      <td>3404.0600</td>\n",
       "      <td>0.00000</td>\n",
       "    </tr>\n",
       "    <tr>\n",
       "      <th>267307</th>\n",
       "      <td>0.043213</td>\n",
       "      <td>7.72208</td>\n",
       "      <td>350.417</td>\n",
       "      <td>0.784341</td>\n",
       "      <td>296.0</td>\n",
       "      <td>0.691406</td>\n",
       "      <td>1952</td>\n",
       "      <td>0.449219</td>\n",
       "      <td>1.07012</td>\n",
       "      <td>1657.43</td>\n",
       "      <td>13.22330</td>\n",
       "      <td>910.3080</td>\n",
       "      <td>1.07012</td>\n",
       "    </tr>\n",
       "    <tr>\n",
       "      <th>267308</th>\n",
       "      <td>0.016479</td>\n",
       "      <td>10.67530</td>\n",
       "      <td>502.285</td>\n",
       "      <td>0.492913</td>\n",
       "      <td>780.0</td>\n",
       "      <td>0.953125</td>\n",
       "      <td>2272</td>\n",
       "      <td>0.531250</td>\n",
       "      <td>0.00000</td>\n",
       "      <td>1278.63</td>\n",
       "      <td>9.89789</td>\n",
       "      <td>86.4325</td>\n",
       "      <td>0.00000</td>\n",
       "    </tr>\n",
       "    <tr>\n",
       "      <th>267309</th>\n",
       "      <td>0.013611</td>\n",
       "      <td>31.38300</td>\n",
       "      <td>258.119</td>\n",
       "      <td>0.722778</td>\n",
       "      <td>772.0</td>\n",
       "      <td>0.941406</td>\n",
       "      <td>4640</td>\n",
       "      <td>0.800781</td>\n",
       "      <td>0.00000</td>\n",
       "      <td>1335.53</td>\n",
       "      <td>1.65931</td>\n",
       "      <td>3660.3500</td>\n",
       "      <td>0.00000</td>\n",
       "    </tr>\n",
       "    <tr>\n",
       "      <th>267310</th>\n",
       "      <td>0.001190</td>\n",
       "      <td>10.04690</td>\n",
       "      <td>287.651</td>\n",
       "      <td>0.023426</td>\n",
       "      <td>2720.0</td>\n",
       "      <td>0.890625</td>\n",
       "      <td>5568</td>\n",
       "      <td>0.945312</td>\n",
       "      <td>0.00000</td>\n",
       "      <td>2696.14</td>\n",
       "      <td>41.47700</td>\n",
       "      <td>4180.5300</td>\n",
       "      <td>0.00000</td>\n",
       "    </tr>\n",
       "  </tbody>\n",
       "</table>\n",
       "</div>"
      ],
      "text/plain": [
       "        EnergyDensity  BIBDeltaTimingM    JetPt  HadronicLayer1Fraction  \\\n",
       "267306       0.000660         36.55420  208.314               -0.001131   \n",
       "267307       0.043213          7.72208  350.417                0.784341   \n",
       "267308       0.016479         10.67530  502.285                0.492913   \n",
       "267309       0.013611         31.38300  258.119                0.722778   \n",
       "267310       0.001190         10.04690  287.651                0.023426   \n",
       "\n",
       "        ShowerCenter    JetLat  FirstClusterRadius   JetLong  MaxTrackPt  \\\n",
       "267306        3936.0  0.371094                5440  0.322266     0.00000   \n",
       "267307         296.0  0.691406                1952  0.449219     1.07012   \n",
       "267308         780.0  0.953125                2272  0.531250     0.00000   \n",
       "267309         772.0  0.941406                4640  0.800781     0.00000   \n",
       "267310        2720.0  0.890625                5568  0.945312     0.00000   \n",
       "\n",
       "        PredictedLxy  BIBDeltaTimingP  PredictedLz  SumPtOfAllTracks  \n",
       "267306       3293.99          8.81774    3404.0600           0.00000  \n",
       "267307       1657.43         13.22330     910.3080           1.07012  \n",
       "267308       1278.63          9.89789      86.4325           0.00000  \n",
       "267309       1335.53          1.65931    3660.3500           0.00000  \n",
       "267310       2696.14         41.47700    4180.5300           0.00000  "
      ]
     },
     "execution_count": 86,
     "metadata": {},
     "output_type": "execute_result"
    }
   ],
   "source": [
    "subsample = all_events[all_events_class.Class==2][:5]\n",
    "subsample"
   ]
  },
  {
   "cell_type": "code",
   "execution_count": 87,
   "metadata": {},
   "outputs": [
    {
     "data": {
      "text/plain": [
       "array([[0.33087839, 0.323093  , 0.3460286 ],\n",
       "       [0.32639066, 0.32112945, 0.35247989],\n",
       "       [0.32355035, 0.32350206, 0.35294758],\n",
       "       [0.32796696, 0.32344575, 0.34858729],\n",
       "       [0.32808424, 0.32095073, 0.35096503]])"
      ]
     },
     "execution_count": 87,
     "metadata": {},
     "output_type": "execute_result"
    }
   ],
   "source": [
    "bdtGeneral.eval(subsample)"
   ]
  },
  {
   "cell_type": "code",
   "execution_count": 88,
   "metadata": {},
   "outputs": [
    {
     "data": {
      "text/plain": [
       "array([[1.28688380e-02, 1.21321028e-03, 9.85917952e-01],\n",
       "       [5.24954057e-04, 1.05401145e-04, 9.99369645e-01],\n",
       "       [1.91891967e-04, 1.92777657e-04, 9.99615330e-01],\n",
       "       [2.57339961e-03, 6.54826390e-04, 9.96771774e-01],\n",
       "       [1.35380007e-03, 1.53227389e-04, 9.98492973e-01]])"
      ]
     },
     "execution_count": 88,
     "metadata": {},
     "output_type": "execute_result"
    }
   ],
   "source": [
    "bdt1.predict_proba(subsample)"
   ]
  },
  {
   "cell_type": "markdown",
   "metadata": {},
   "source": [
    "## Plots of TMVA Translation Performance"
   ]
  },
  {
   "cell_type": "code",
   "execution_count": 95,
   "metadata": {},
   "outputs": [],
   "source": [
    "%%time\n",
    "predicted_tmva_weights = bdtGeneral.eval(perf_events)"
   ]
  },
  {
   "cell_type": "code",
   "execution_count": 96,
   "metadata": {},
   "outputs": [
    {
     "data": {
      "text/plain": [
       "<matplotlib.legend.Legend at 0x7f2a52585a20>"
      ]
     },
     "execution_count": 96,
     "metadata": {},
     "output_type": "execute_result"
    },
    {
     "data": {
      "image/png": "[encoded data removed]",
      "text/plain": [
       "<matplotlib.figure.Figure at 0x7f2a525e71d0>"
      ]
     },
     "metadata": {},
     "output_type": "display_data"
    }
   ],
   "source": [
    "fig = plt.figure(figsize=(15,10))\n",
    "\n",
    "ax = plt.subplot(221)\n",
    "ax.hist(predicted_tmva_weights[perf_events_class.Class == 0], label=('BiB', \"MJ\", 'HSS'), bins=50, histtype = 'step')\n",
    "ax.set_xlabel('Weight')\n",
    "ax.set_title('Class: BIB')\n",
    "ax.legend()\n",
    "\n",
    "ax = plt.subplot(222)\n",
    "ax.hist(predicted_tmva_weights[perf_events_class.Class == 1], label=('BiB', \"MJ\", 'HSS'), bins=50, histtype = 'step')\n",
    "ax.set_xlabel('Weight')\n",
    "ax.set_title('Class: MJ')\n",
    "ax.legend()\n",
    "\n",
    "ax = plt.subplot(223)\n",
    "ax.hist(predicted_tmva_weights[perf_events_class.Class == 2], label=('BiB', \"MJ\", 'HSS'), bins=50, histtype = 'step')\n",
    "ax.set_xlabel('Weight')\n",
    "ax.set_title('Class: HSS')\n",
    "ax.legend()"
   ]
  },
  {
   "cell_type": "markdown",
   "metadata": {},
   "source": [
    "Note in this version how everything is on top of itself. :("
   ]
  },
  {
   "cell_type": "code",
   "execution_count": null,
   "metadata": {},
   "outputs": [],
   "source": []
  }
 ],
 "metadata": {
  "kernelspec": {
   "display_name": "Python 3",
   "language": "python",
   "name": "python3"
  },
  "language_info": {
   "codemirror_mode": {
    "name": "ipython",
    "version": 3
   },
   "file_extension": ".py",
   "mimetype": "text/x-python",
   "name": "python",
   "nbconvert_exporter": "python",
   "pygments_lexer": "ipython3",
   "version": "3.6.4"
  }
 },
 "nbformat": 4,
 "nbformat_minor": 2
}
