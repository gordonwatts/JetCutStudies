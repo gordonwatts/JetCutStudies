{
 "cells": [
  {
   "cell_type": "markdown",
   "metadata": {},
   "source": [
    "# Final Training\n",
    "This notebook contains the final training that is used in the analysis.\n",
    "\n",
    "Set the name of this training, and the job number it is based on. This will keep the resulting output xml files seperate below."
   ]
  },
  {
   "cell_type": "code",
   "execution_count": 1,
   "metadata": {},
   "outputs": [],
   "source": [
    "jobId = 106\n",
    "training_name = \"full_event_grad1000\""
   ]
  },
  {
   "cell_type": "markdown",
   "metadata": {},
   "source": [
    "## Initalization"
   ]
  },
  {
   "cell_type": "code",
   "execution_count": 2,
   "metadata": {},
   "outputs": [],
   "source": [
    "from bdt_training_scikit_tools import load_trimmed_sample, default_training_variable_list, \\\n",
    "    test_train_samples, prep_samples, default_training, calc_performance, get_fraction_of_events\n",
    "import matplotlib.pyplot as plt\n",
    "plt.rc('font', size=14)\n",
    "from matplotlib.colors import LogNorm\n",
    "import pandas as pd\n",
    "import numpy as np\n",
    "import multiprocessing as mp\n",
    "import itertools"
   ]
  },
  {
   "cell_type": "code",
   "execution_count": 3,
   "metadata": {},
   "outputs": [],
   "source": [
    "training_file_stub = 'training_{0}_{1}'.format(jobId, training_name)"
   ]
  },
  {
   "cell_type": "markdown",
   "metadata": {},
   "source": [
    "## Load data"
   ]
  },
  {
   "cell_type": "code",
   "execution_count": 4,
   "metadata": {},
   "outputs": [
    {
     "name": "stdout",
     "output_type": "stream",
     "text": [
      "Job 106:\n",
      "  BIB: 800000 events\n",
      "  Multijet: 800000 events\n",
      "  Signal: 800000 events\n",
      "  [800000, 800000, 504190]\n",
      "Wall time: 29.9 s\n"
     ]
    }
   ],
   "source": [
    "%%time\n",
    "input_events = load_trimmed_sample(jobId)"
   ]
  },
  {
   "cell_type": "code",
   "execution_count": 5,
   "metadata": {},
   "outputs": [
    {
     "name": "stdout",
     "output_type": "stream",
     "text": [
      "[201018, 200123, 126005]\n"
     ]
    }
   ],
   "source": [
    "events_25 = get_fraction_of_events(input_events, 0.25)\n",
    "print ([len(i.index) for i in events_25])"
   ]
  },
  {
   "cell_type": "code",
   "execution_count": 6,
   "metadata": {},
   "outputs": [],
   "source": [
    "events_to_use = input_events"
   ]
  },
  {
   "cell_type": "markdown",
   "metadata": {},
   "source": [
    "## Training\n",
    "Default training variables. Likely were arrived at by analysis in the Training Variables workbook."
   ]
  },
  {
   "cell_type": "code",
   "execution_count": 7,
   "metadata": {},
   "outputs": [],
   "source": [
    "training_variables = ['EnergyDensity',\n",
    " 'BIBDeltaTimingM',\n",
    " 'JetPt',\n",
    " 'HadronicLayer1Fraction',\n",
    " 'ShowerCenter',\n",
    " 'JetLat',\n",
    " 'FirstClusterRadius',\n",
    " 'JetLong',\n",
    " 'MaxTrackPt',\n",
    " 'PredictedLxy',\n",
    " 'BIBDeltaTimingP',\n",
    " 'PredictedLz',\n",
    " 'SumPtOfAllTracks']"
   ]
  },
  {
   "cell_type": "markdown",
   "metadata": {},
   "source": [
    "Run the training to get a bdt back."
   ]
  },
  {
   "cell_type": "code",
   "execution_count": 8,
   "metadata": {},
   "outputs": [
    {
     "name": "stdout",
     "output_type": "stream",
     "text": [
      "Wall time: 3.2 s\n"
     ]
    }
   ],
   "source": [
    "%%time\n",
    "# Split into testing and training samples\n",
    "train, test = test_train_samples(events_to_use)\n",
    "\n",
    "# Prep samples for training\n",
    "all_events, all_events_class, training_weight, evaluation_weight = prep_samples(train[0], train[1], train[2], training_variable_list=training_variables)"
   ]
  },
  {
   "cell_type": "code",
   "execution_count": 9,
   "metadata": {},
   "outputs": [
    {
     "name": "stdout",
     "output_type": "stream",
     "text": [
      "Wall time: 6h 53min 4s\n"
     ]
    }
   ],
   "source": [
    "%%time\n",
    "bdt = default_training(all_events, training_weight, all_events_class)"
   ]
  },
  {
   "cell_type": "markdown",
   "metadata": {},
   "source": [
    "Calculate the performance for this training"
   ]
  },
  {
   "cell_type": "code",
   "execution_count": 10,
   "metadata": {},
   "outputs": [
    {
     "name": "stdout",
     "output_type": "stream",
     "text": [
      "Wall time: 2min 50s\n"
     ]
    },
    {
     "data": {
      "text/plain": [
       "{'BIBBack': 617119616.3334253,\n",
       " 'BIBEff': 0.6472625,\n",
       " 'BIBSsqrtB': 20.844225245284438,\n",
       " 'BIBTotalCount': 800000,\n",
       " 'BIBTotalWeight': 800000.0,\n",
       " 'BIBinBIB': 517810.0,\n",
       " 'BIBinHSS': 18788.0,\n",
       " 'BIBinMJ': 263402.0,\n",
       " 'HSSBack': 29770962.38499081,\n",
       " 'HSSEff': 0.9861163450286599,\n",
       " 'HSSSsqrtB': 91.12256750078656,\n",
       " 'HSSTotalCount': 504190,\n",
       " 'HSSTotalWeight': 504190.0,\n",
       " 'HSSinBIB': 3521.0,\n",
       " 'HSSinHSS': 497190.0,\n",
       " 'HSSinMJ': 3479.0,\n",
       " 'MJBack': 266881.0,\n",
       " 'MJEff': 0.7403696296329428,\n",
       " 'MJSsqrtB': 3570673.3571174936,\n",
       " 'MJTotalCount': 800000,\n",
       " 'MJTotalWeight': 2491496926.202845,\n",
       " 'MJinBIB': 617116095.3334253,\n",
       " 'MJinHSS': 29752174.38499081,\n",
       " 'MJinMJ': 1844628656.484416}"
      ]
     },
     "execution_count": 10,
     "metadata": {},
     "output_type": "execute_result"
    }
   ],
   "source": [
    "%%time\n",
    "calc_performance(bdt, input_events, training_variables=training_variables)"
   ]
  },
  {
   "cell_type": "code",
   "execution_count": 11,
   "metadata": {},
   "outputs": [
    {
     "data": {
      "text/plain": [
       "['training_106_full_event_grad1000.pkl']"
      ]
     },
     "execution_count": 11,
     "metadata": {},
     "output_type": "execute_result"
    }
   ],
   "source": [
    "from sklearn.externals import joblib\n",
    "joblib.dump(bdt, training_file_stub + '.pkl') "
   ]
  },
  {
   "cell_type": "markdown",
   "metadata": {},
   "source": [
    "## Conversion to TMVA format"
   ]
  },
  {
   "cell_type": "code",
   "execution_count": 12,
   "metadata": {
    "collapsed": true
   },
   "outputs": [],
   "source": [
    "import mlglue\n",
    "import mlglue.tree\n",
    "from sklearn.externals import joblib\n",
    "bdt1 = joblib.load(training_file_stub + '.pkl')\n",
    "bdtGeneral = mlglue.tree.BDTsklearn(bdt1, list(all_events.columns), ['BIB', 'MJ', 'Signal'])\n",
    "bdtGeneral.to_tmva(training_file_stub + \".xml\")"
   ]
  },
  {
   "cell_type": "markdown",
   "metadata": {},
   "source": [
    "## Performance\n",
    "Look at some generic performance plots for the bdt."
   ]
  },
  {
   "cell_type": "code",
   "execution_count": 13,
   "metadata": {
    "collapsed": true
   },
   "outputs": [],
   "source": [
    "perf_events, perf_events_class, perf_training_weight, perf_evaluation_weight = prep_samples(input_events[0], input_events[1], input_events[2], training_variable_list=training_variables)"
   ]
  },
  {
   "cell_type": "code",
   "execution_count": 14,
   "metadata": {
    "collapsed": true
   },
   "outputs": [],
   "source": [
    "predicted_class = bdt1.predict(perf_events)"
   ]
  },
  {
   "cell_type": "code",
   "execution_count": 15,
   "metadata": {
    "scrolled": false
   },
   "outputs": [
    {
     "data": {
      "text/plain": [
       "Text(0.5,1,'HSS')"
      ]
     },
     "execution_count": 15,
     "metadata": {},
     "output_type": "execute_result"
    }
   ],
   "source": [
    "fig = plt.figure(figsize=(15,15))\n",
    "\n",
    "ax = plt.subplot(221)\n",
    "ax.hist(predicted_class[perf_events_class.Class == 0], bins=3)\n",
    "ax.set_xlabel('Class')\n",
    "ax.set_title('BIB')\n",
    "\n",
    "ax = plt.subplot(222)\n",
    "ax.hist(predicted_class[perf_events_class.Class == 1], bins=3)\n",
    "ax.set_xlabel('Class')\n",
    "ax.set_title('MJ')\n",
    "\n",
    "ax = plt.subplot(223)\n",
    "ax.hist(predicted_class[perf_events_class.Class == 2], bins=3)\n",
    "ax.set_xlabel('Class')\n",
    "ax.set_title('HSS')"
   ]
  },
  {
   "cell_type": "code",
   "execution_count": 16,
   "metadata": {
    "collapsed": true
   },
   "outputs": [],
   "source": [
    "predicted_prob = bdt1.predict_proba(perf_events)"
   ]
  },
  {
   "cell_type": "code",
   "execution_count": 17,
   "metadata": {},
   "outputs": [
    {
     "data": {
      "text/plain": [
       "<matplotlib.legend.Legend at 0x1d83803d550>"
      ]
     },
     "execution_count": 17,
     "metadata": {},
     "output_type": "execute_result"
    }
   ],
   "source": [
    "fig = plt.figure(figsize=(15,10))\n",
    "\n",
    "ax = plt.subplot(221)\n",
    "ax.hist(predicted_prob[perf_events_class.Class == 0], label=('BiB', \"MJ\", 'HSS'), bins=50, histtype = 'step')\n",
    "ax.set_xlabel('Weight')\n",
    "ax.set_title('Class: BIB')\n",
    "ax.legend()\n",
    "\n",
    "ax = plt.subplot(222)\n",
    "ax.hist(predicted_prob[perf_events_class.Class == 1], label=('BiB', \"MJ\", 'HSS'), bins=50, histtype = 'step')\n",
    "ax.set_xlabel('Weight')\n",
    "ax.set_title('Class: MJ')\n",
    "ax.legend()\n",
    "\n",
    "ax = plt.subplot(223)\n",
    "ax.hist(predicted_prob[perf_events_class.Class == 2], label=('BiB', \"MJ\", 'HSS'), bins=50, histtype = 'step')\n",
    "ax.set_xlabel('Weight')\n",
    "ax.set_title('Class: HSS')\n",
    "ax.legend()"
   ]
  },
  {
   "cell_type": "markdown",
   "metadata": {},
   "source": [
    "## TMVA Cross Check\n",
    "We always have trouble with that. We need to look to see what we can expect with TMVA. Below there is Bib, MJ, and Signal, all three classes. 5 events are taken (first jet pt eta phi are shown along with event number so they can be correlated with the real full root trees). The full inputs are shown, in the proper order to be fed to the bdt. Then the result of the TMVA translation is evaluated, and then the probabilities from the sklean classifier are shown. A direct match isn't expected, but the trents (e.g. signal has the class2 column always larger than the bib or mj columns).\n",
    "\n",
    "### What is wrong with this translation?\n",
    "I'm using a slightly modified version of mlglue to do the translation. Yet, as you can see below, the MJ, Sig, and background come out almost alike. And the classifier works rather well when it is run internally. So... what is going on?\n",
    "\n",
    "### BiB (class 0)\n",
    "First lets look at BiB. We'll get some absolute numbers out of the weight calculations"
   ]
  },
  {
   "cell_type": "code",
   "execution_count": 18,
   "metadata": {},
   "outputs": [
    {
     "data": {
      "text/html": [
       "<div>\n",
       "<style>\n",
       "    .dataframe thead tr:only-child th {\n",
       "        text-align: right;\n",
       "    }\n",
       "\n",
       "    .dataframe thead th {\n",
       "        text-align: left;\n",
       "    }\n",
       "\n",
       "    .dataframe tbody tr th {\n",
       "        vertical-align: top;\n",
       "    }\n",
       "</style>\n",
       "<table border=\"1\" class=\"dataframe\">\n",
       "  <thead>\n",
       "    <tr style=\"text-align: right;\">\n",
       "      <th></th>\n",
       "      <th>RunNumber</th>\n",
       "      <th>EventNumber</th>\n",
       "      <th>JetPt</th>\n",
       "      <th>JetEta</th>\n",
       "      <th>JetPhi</th>\n",
       "    </tr>\n",
       "  </thead>\n",
       "  <tbody>\n",
       "    <tr>\n",
       "      <th>0</th>\n",
       "      <td>311170</td>\n",
       "      <td>927379924</td>\n",
       "      <td>191.9800</td>\n",
       "      <td>0.751230</td>\n",
       "      <td>1.51744</td>\n",
       "    </tr>\n",
       "    <tr>\n",
       "      <th>1</th>\n",
       "      <td>311170</td>\n",
       "      <td>933624178</td>\n",
       "      <td>129.4040</td>\n",
       "      <td>0.155269</td>\n",
       "      <td>-2.99099</td>\n",
       "    </tr>\n",
       "    <tr>\n",
       "      <th>2</th>\n",
       "      <td>311170</td>\n",
       "      <td>932123345</td>\n",
       "      <td>115.3560</td>\n",
       "      <td>-0.260263</td>\n",
       "      <td>3.09345</td>\n",
       "    </tr>\n",
       "    <tr>\n",
       "      <th>3</th>\n",
       "      <td>311170</td>\n",
       "      <td>929187568</td>\n",
       "      <td>155.0430</td>\n",
       "      <td>-0.640188</td>\n",
       "      <td>1.34265</td>\n",
       "    </tr>\n",
       "    <tr>\n",
       "      <th>4</th>\n",
       "      <td>311170</td>\n",
       "      <td>929187568</td>\n",
       "      <td>91.3555</td>\n",
       "      <td>0.247285</td>\n",
       "      <td>-2.10950</td>\n",
       "    </tr>\n",
       "  </tbody>\n",
       "</table>\n",
       "</div>"
      ],
      "text/plain": [
       "   RunNumber  EventNumber     JetPt    JetEta   JetPhi\n",
       "0     311170    927379924  191.9800  0.751230  1.51744\n",
       "1     311170    933624178  129.4040  0.155269 -2.99099\n",
       "2     311170    932123345  115.3560 -0.260263  3.09345\n",
       "3     311170    929187568  155.0430 -0.640188  1.34265\n",
       "4     311170    929187568   91.3555  0.247285 -2.10950"
      ]
     },
     "execution_count": 18,
     "metadata": {},
     "output_type": "execute_result"
    }
   ],
   "source": [
    "events_to_use[0][:5][['RunNumber', 'EventNumber', 'JetPt', 'JetEta', 'JetPhi']]"
   ]
  },
  {
   "cell_type": "code",
   "execution_count": 19,
   "metadata": {},
   "outputs": [
    {
     "data": {
      "text/html": [
       "<div>\n",
       "<style>\n",
       "    .dataframe thead tr:only-child th {\n",
       "        text-align: right;\n",
       "    }\n",
       "\n",
       "    .dataframe thead th {\n",
       "        text-align: left;\n",
       "    }\n",
       "\n",
       "    .dataframe tbody tr th {\n",
       "        vertical-align: top;\n",
       "    }\n",
       "</style>\n",
       "<table border=\"1\" class=\"dataframe\">\n",
       "  <thead>\n",
       "    <tr style=\"text-align: right;\">\n",
       "      <th></th>\n",
       "      <th>EnergyDensity</th>\n",
       "      <th>BIBDeltaTimingM</th>\n",
       "      <th>JetPt</th>\n",
       "      <th>HadronicLayer1Fraction</th>\n",
       "      <th>ShowerCenter</th>\n",
       "      <th>JetLat</th>\n",
       "      <th>FirstClusterRadius</th>\n",
       "      <th>JetLong</th>\n",
       "      <th>MaxTrackPt</th>\n",
       "      <th>PredictedLxy</th>\n",
       "      <th>BIBDeltaTimingP</th>\n",
       "      <th>PredictedLz</th>\n",
       "      <th>SumPtOfAllTracks</th>\n",
       "    </tr>\n",
       "  </thead>\n",
       "  <tbody>\n",
       "    <tr>\n",
       "      <th>0</th>\n",
       "      <td>0.001389</td>\n",
       "      <td>15.063000</td>\n",
       "      <td>191.9800</td>\n",
       "      <td>0.745036</td>\n",
       "      <td>1784.0</td>\n",
       "      <td>0.859375</td>\n",
       "      <td>3376</td>\n",
       "      <td>0.953125</td>\n",
       "      <td>0.0000</td>\n",
       "      <td>2052.750</td>\n",
       "      <td>0.503155</td>\n",
       "      <td>1810.120</td>\n",
       "      <td>0.0000</td>\n",
       "    </tr>\n",
       "    <tr>\n",
       "      <th>1</th>\n",
       "      <td>0.002548</td>\n",
       "      <td>0.652127</td>\n",
       "      <td>129.4040</td>\n",
       "      <td>0.991674</td>\n",
       "      <td>952.0</td>\n",
       "      <td>0.283203</td>\n",
       "      <td>2496</td>\n",
       "      <td>0.312500</td>\n",
       "      <td>0.0000</td>\n",
       "      <td>1897.490</td>\n",
       "      <td>-2.198750</td>\n",
       "      <td>447.772</td>\n",
       "      <td>0.0000</td>\n",
       "    </tr>\n",
       "    <tr>\n",
       "      <th>2</th>\n",
       "      <td>0.002991</td>\n",
       "      <td>-3.603590</td>\n",
       "      <td>115.3560</td>\n",
       "      <td>1.000830</td>\n",
       "      <td>948.0</td>\n",
       "      <td>0.886719</td>\n",
       "      <td>2528</td>\n",
       "      <td>0.355469</td>\n",
       "      <td>0.0000</td>\n",
       "      <td>1961.130</td>\n",
       "      <td>0.726138</td>\n",
       "      <td>686.700</td>\n",
       "      <td>0.0000</td>\n",
       "    </tr>\n",
       "    <tr>\n",
       "      <th>3</th>\n",
       "      <td>0.001686</td>\n",
       "      <td>4.304950</td>\n",
       "      <td>155.0430</td>\n",
       "      <td>0.610702</td>\n",
       "      <td>916.0</td>\n",
       "      <td>0.964844</td>\n",
       "      <td>2656</td>\n",
       "      <td>0.660156</td>\n",
       "      <td>53.6083</td>\n",
       "      <td>719.184</td>\n",
       "      <td>13.267500</td>\n",
       "      <td>455.200</td>\n",
       "      <td>102.2630</td>\n",
       "    </tr>\n",
       "    <tr>\n",
       "      <th>4</th>\n",
       "      <td>0.005402</td>\n",
       "      <td>7.480070</td>\n",
       "      <td>91.3555</td>\n",
       "      <td>0.306610</td>\n",
       "      <td>218.0</td>\n",
       "      <td>0.867188</td>\n",
       "      <td>1840</td>\n",
       "      <td>0.695312</td>\n",
       "      <td>14.9536</td>\n",
       "      <td>741.596</td>\n",
       "      <td>2.930280</td>\n",
       "      <td>156.224</td>\n",
       "      <td>28.8335</td>\n",
       "    </tr>\n",
       "  </tbody>\n",
       "</table>\n",
       "</div>"
      ],
      "text/plain": [
       "   EnergyDensity  BIBDeltaTimingM     JetPt  HadronicLayer1Fraction  \\\n",
       "0       0.001389        15.063000  191.9800                0.745036   \n",
       "1       0.002548         0.652127  129.4040                0.991674   \n",
       "2       0.002991        -3.603590  115.3560                1.000830   \n",
       "3       0.001686         4.304950  155.0430                0.610702   \n",
       "4       0.005402         7.480070   91.3555                0.306610   \n",
       "\n",
       "   ShowerCenter    JetLat  FirstClusterRadius   JetLong  MaxTrackPt  \\\n",
       "0        1784.0  0.859375                3376  0.953125      0.0000   \n",
       "1         952.0  0.283203                2496  0.312500      0.0000   \n",
       "2         948.0  0.886719                2528  0.355469      0.0000   \n",
       "3         916.0  0.964844                2656  0.660156     53.6083   \n",
       "4         218.0  0.867188                1840  0.695312     14.9536   \n",
       "\n",
       "   PredictedLxy  BIBDeltaTimingP  PredictedLz  SumPtOfAllTracks  \n",
       "0      2052.750         0.503155     1810.120            0.0000  \n",
       "1      1897.490        -2.198750      447.772            0.0000  \n",
       "2      1961.130         0.726138      686.700            0.0000  \n",
       "3       719.184        13.267500      455.200          102.2630  \n",
       "4       741.596         2.930280      156.224           28.8335  "
      ]
     },
     "execution_count": 19,
     "metadata": {},
     "output_type": "execute_result"
    }
   ],
   "source": [
    "subsample = all_events[all_events_class.Class==0][:5]\n",
    "subsample"
   ]
  },
  {
   "cell_type": "code",
   "execution_count": 20,
   "metadata": {},
   "outputs": [
    {
     "data": {
      "text/plain": [
       "array([[ 0.34370283,  0.32543338,  0.33086379],\n",
       "       [ 0.35621121,  0.32911476,  0.31467402],\n",
       "       [ 0.35374018,  0.32925487,  0.31700496],\n",
       "       [ 0.3398921 ,  0.33985466,  0.32025324],\n",
       "       [ 0.34024986,  0.339238  ,  0.32051214]])"
      ]
     },
     "execution_count": 20,
     "metadata": {},
     "output_type": "execute_result"
    }
   ],
   "source": [
    "bdtGeneral.eval(subsample)"
   ]
  },
  {
   "cell_type": "code",
   "execution_count": 21,
   "metadata": {},
   "outputs": [
    {
     "data": {
      "text/plain": [
       "array([[  9.76997972e-01,   4.15236339e-03,   1.88496644e-02],\n",
       "       [  9.99629712e-01,   3.66707391e-04,   3.58069049e-06],\n",
       "       [  9.99217720e-01,   7.67262076e-04,   1.50183803e-05],\n",
       "       [  5.01894739e-01,   4.96971149e-01,   1.13411202e-03],\n",
       "       [  5.72904826e-01,   4.25831800e-01,   1.26337376e-03]])"
      ]
     },
     "execution_count": 21,
     "metadata": {},
     "output_type": "execute_result"
    }
   ],
   "source": [
    "bdt1.predict_proba(subsample)"
   ]
  },
  {
   "cell_type": "markdown",
   "metadata": {},
   "source": [
    "### MultiJet (class 1)\n",
    "\n",
    "Ok, now lets look at MJ, which is class 1. Note that the run number is not pulled correctly here. :("
   ]
  },
  {
   "cell_type": "code",
   "execution_count": 22,
   "metadata": {},
   "outputs": [
    {
     "data": {
      "text/html": [
       "<div>\n",
       "<style>\n",
       "    .dataframe thead tr:only-child th {\n",
       "        text-align: right;\n",
       "    }\n",
       "\n",
       "    .dataframe thead th {\n",
       "        text-align: left;\n",
       "    }\n",
       "\n",
       "    .dataframe tbody tr th {\n",
       "        vertical-align: top;\n",
       "    }\n",
       "</style>\n",
       "<table border=\"1\" class=\"dataframe\">\n",
       "  <thead>\n",
       "    <tr style=\"text-align: right;\">\n",
       "      <th></th>\n",
       "      <th>RunNumber</th>\n",
       "      <th>EventNumber</th>\n",
       "      <th>JetPt</th>\n",
       "      <th>JetEta</th>\n",
       "      <th>JetPhi</th>\n",
       "    </tr>\n",
       "  </thead>\n",
       "  <tbody>\n",
       "    <tr>\n",
       "      <th>0</th>\n",
       "      <td>284500</td>\n",
       "      <td>4157</td>\n",
       "      <td>46.9367</td>\n",
       "      <td>0.588283</td>\n",
       "      <td>-0.197074</td>\n",
       "    </tr>\n",
       "    <tr>\n",
       "      <th>1</th>\n",
       "      <td>284500</td>\n",
       "      <td>4160</td>\n",
       "      <td>58.6659</td>\n",
       "      <td>0.915437</td>\n",
       "      <td>0.622971</td>\n",
       "    </tr>\n",
       "    <tr>\n",
       "      <th>2</th>\n",
       "      <td>284500</td>\n",
       "      <td>4011</td>\n",
       "      <td>50.7740</td>\n",
       "      <td>0.682670</td>\n",
       "      <td>-0.738367</td>\n",
       "    </tr>\n",
       "    <tr>\n",
       "      <th>3</th>\n",
       "      <td>284500</td>\n",
       "      <td>4144</td>\n",
       "      <td>143.7050</td>\n",
       "      <td>0.985570</td>\n",
       "      <td>-1.977800</td>\n",
       "    </tr>\n",
       "    <tr>\n",
       "      <th>4</th>\n",
       "      <td>284500</td>\n",
       "      <td>4144</td>\n",
       "      <td>53.9551</td>\n",
       "      <td>-1.521310</td>\n",
       "      <td>-2.185010</td>\n",
       "    </tr>\n",
       "  </tbody>\n",
       "</table>\n",
       "</div>"
      ],
      "text/plain": [
       "   RunNumber  EventNumber     JetPt    JetEta    JetPhi\n",
       "0     284500         4157   46.9367  0.588283 -0.197074\n",
       "1     284500         4160   58.6659  0.915437  0.622971\n",
       "2     284500         4011   50.7740  0.682670 -0.738367\n",
       "3     284500         4144  143.7050  0.985570 -1.977800\n",
       "4     284500         4144   53.9551 -1.521310 -2.185010"
      ]
     },
     "execution_count": 22,
     "metadata": {},
     "output_type": "execute_result"
    }
   ],
   "source": [
    "events_to_use[1][:5][['RunNumber', 'EventNumber', 'JetPt', 'JetEta', 'JetPhi']]"
   ]
  },
  {
   "cell_type": "code",
   "execution_count": 23,
   "metadata": {},
   "outputs": [
    {
     "data": {
      "text/html": [
       "<div>\n",
       "<style>\n",
       "    .dataframe thead tr:only-child th {\n",
       "        text-align: right;\n",
       "    }\n",
       "\n",
       "    .dataframe thead th {\n",
       "        text-align: left;\n",
       "    }\n",
       "\n",
       "    .dataframe tbody tr th {\n",
       "        vertical-align: top;\n",
       "    }\n",
       "</style>\n",
       "<table border=\"1\" class=\"dataframe\">\n",
       "  <thead>\n",
       "    <tr style=\"text-align: right;\">\n",
       "      <th></th>\n",
       "      <th>EnergyDensity</th>\n",
       "      <th>BIBDeltaTimingM</th>\n",
       "      <th>JetPt</th>\n",
       "      <th>HadronicLayer1Fraction</th>\n",
       "      <th>ShowerCenter</th>\n",
       "      <th>JetLat</th>\n",
       "      <th>FirstClusterRadius</th>\n",
       "      <th>JetLong</th>\n",
       "      <th>MaxTrackPt</th>\n",
       "      <th>PredictedLxy</th>\n",
       "      <th>BIBDeltaTimingP</th>\n",
       "      <th>PredictedLz</th>\n",
       "      <th>SumPtOfAllTracks</th>\n",
       "    </tr>\n",
       "  </thead>\n",
       "  <tbody>\n",
       "    <tr>\n",
       "      <th>532865</th>\n",
       "      <td>0.000222</td>\n",
       "      <td>15.43420</td>\n",
       "      <td>46.9367</td>\n",
       "      <td>0.903034</td>\n",
       "      <td>952.0</td>\n",
       "      <td>0.722656</td>\n",
       "      <td>2704</td>\n",
       "      <td>0.839844</td>\n",
       "      <td>9.27670</td>\n",
       "      <td>637.783</td>\n",
       "      <td>5.24863</td>\n",
       "      <td>383.406</td>\n",
       "      <td>19.73200</td>\n",
       "    </tr>\n",
       "    <tr>\n",
       "      <th>532866</th>\n",
       "      <td>0.003311</td>\n",
       "      <td>14.31030</td>\n",
       "      <td>58.6659</td>\n",
       "      <td>0.570251</td>\n",
       "      <td>362.0</td>\n",
       "      <td>0.933594</td>\n",
       "      <td>2512</td>\n",
       "      <td>0.988281</td>\n",
       "      <td>2.38707</td>\n",
       "      <td>675.068</td>\n",
       "      <td>2.18954</td>\n",
       "      <td>577.785</td>\n",
       "      <td>3.81886</td>\n",
       "    </tr>\n",
       "    <tr>\n",
       "      <th>532867</th>\n",
       "      <td>0.004364</td>\n",
       "      <td>14.50810</td>\n",
       "      <td>143.7050</td>\n",
       "      <td>0.533774</td>\n",
       "      <td>251.0</td>\n",
       "      <td>0.886719</td>\n",
       "      <td>2512</td>\n",
       "      <td>0.917969</td>\n",
       "      <td>32.18010</td>\n",
       "      <td>655.481</td>\n",
       "      <td>1.97326</td>\n",
       "      <td>741.678</td>\n",
       "      <td>85.33030</td>\n",
       "    </tr>\n",
       "    <tr>\n",
       "      <th>532868</th>\n",
       "      <td>0.011231</td>\n",
       "      <td>1.26047</td>\n",
       "      <td>53.9551</td>\n",
       "      <td>0.213439</td>\n",
       "      <td>50.0</td>\n",
       "      <td>0.648438</td>\n",
       "      <td>3312</td>\n",
       "      <td>0.320312</td>\n",
       "      <td>3.21193</td>\n",
       "      <td>458.212</td>\n",
       "      <td>21.01740</td>\n",
       "      <td>938.516</td>\n",
       "      <td>3.21193</td>\n",
       "    </tr>\n",
       "    <tr>\n",
       "      <th>532869</th>\n",
       "      <td>0.006104</td>\n",
       "      <td>14.42450</td>\n",
       "      <td>49.4316</td>\n",
       "      <td>0.814982</td>\n",
       "      <td>246.0</td>\n",
       "      <td>0.519531</td>\n",
       "      <td>2432</td>\n",
       "      <td>0.718750</td>\n",
       "      <td>7.72666</td>\n",
       "      <td>698.374</td>\n",
       "      <td>2.70632</td>\n",
       "      <td>596.755</td>\n",
       "      <td>7.72666</td>\n",
       "    </tr>\n",
       "  </tbody>\n",
       "</table>\n",
       "</div>"
      ],
      "text/plain": [
       "        EnergyDensity  BIBDeltaTimingM     JetPt  HadronicLayer1Fraction  \\\n",
       "532865       0.000222         15.43420   46.9367                0.903034   \n",
       "532866       0.003311         14.31030   58.6659                0.570251   \n",
       "532867       0.004364         14.50810  143.7050                0.533774   \n",
       "532868       0.011231          1.26047   53.9551                0.213439   \n",
       "532869       0.006104         14.42450   49.4316                0.814982   \n",
       "\n",
       "        ShowerCenter    JetLat  FirstClusterRadius   JetLong  MaxTrackPt  \\\n",
       "532865         952.0  0.722656                2704  0.839844     9.27670   \n",
       "532866         362.0  0.933594                2512  0.988281     2.38707   \n",
       "532867         251.0  0.886719                2512  0.917969    32.18010   \n",
       "532868          50.0  0.648438                3312  0.320312     3.21193   \n",
       "532869         246.0  0.519531                2432  0.718750     7.72666   \n",
       "\n",
       "        PredictedLxy  BIBDeltaTimingP  PredictedLz  SumPtOfAllTracks  \n",
       "532865       637.783          5.24863      383.406          19.73200  \n",
       "532866       675.068          2.18954      577.785           3.81886  \n",
       "532867       655.481          1.97326      741.678          85.33030  \n",
       "532868       458.212         21.01740      938.516           3.21193  \n",
       "532869       698.374          2.70632      596.755           7.72666  "
      ]
     },
     "execution_count": 23,
     "metadata": {},
     "output_type": "execute_result"
    }
   ],
   "source": [
    "subsample = all_events[all_events_class.Class==1][:5]\n",
    "subsample"
   ]
  },
  {
   "cell_type": "code",
   "execution_count": 24,
   "metadata": {},
   "outputs": [
    {
     "data": {
      "text/plain": [
       "array([[ 0.33537332,  0.33734553,  0.32728115],\n",
       "       [ 0.33458701,  0.33638723,  0.32902576],\n",
       "       [ 0.33786141,  0.34215383,  0.31998476],\n",
       "       [ 0.33438669,  0.33779387,  0.32781944],\n",
       "       [ 0.33486572,  0.33826128,  0.326873  ]])"
      ]
     },
     "execution_count": 24,
     "metadata": {},
     "output_type": "execute_result"
    }
   ],
   "source": [
    "bdtGeneral.eval(subsample)"
   ]
  },
  {
   "cell_type": "code",
   "execution_count": 25,
   "metadata": {},
   "outputs": [
    {
     "data": {
      "text/plain": [
       "array([[ 0.34782621,  0.62590701,  0.02626678],\n",
       "       [ 0.34786544,  0.59560304,  0.05653152],\n",
       "       [ 0.22016778,  0.77899927,  0.00083295],\n",
       "       [ 0.25781938,  0.71137117,  0.03080945],\n",
       "       [ 0.26155353,  0.71816066,  0.02028582]])"
      ]
     },
     "execution_count": 25,
     "metadata": {},
     "output_type": "execute_result"
    }
   ],
   "source": [
    "bdt1.predict_proba(subsample)"
   ]
  },
  {
   "cell_type": "markdown",
   "metadata": {},
   "source": [
    "### Signal (class 2)\n",
    "\n",
    "Finally, lets look at signal"
   ]
  },
  {
   "cell_type": "code",
   "execution_count": 26,
   "metadata": {},
   "outputs": [
    {
     "data": {
      "text/html": [
       "<div>\n",
       "<style>\n",
       "    .dataframe thead tr:only-child th {\n",
       "        text-align: right;\n",
       "    }\n",
       "\n",
       "    .dataframe thead th {\n",
       "        text-align: left;\n",
       "    }\n",
       "\n",
       "    .dataframe tbody tr th {\n",
       "        vertical-align: top;\n",
       "    }\n",
       "</style>\n",
       "<table border=\"1\" class=\"dataframe\">\n",
       "  <thead>\n",
       "    <tr style=\"text-align: right;\">\n",
       "      <th></th>\n",
       "      <th>RunNumber</th>\n",
       "      <th>EventNumber</th>\n",
       "      <th>JetPt</th>\n",
       "      <th>JetEta</th>\n",
       "      <th>JetPhi</th>\n",
       "    </tr>\n",
       "  </thead>\n",
       "  <tbody>\n",
       "    <tr>\n",
       "      <th>0</th>\n",
       "      <td>284500</td>\n",
       "      <td>11890</td>\n",
       "      <td>406.728</td>\n",
       "      <td>0.654438</td>\n",
       "      <td>-1.088650</td>\n",
       "    </tr>\n",
       "    <tr>\n",
       "      <th>2</th>\n",
       "      <td>284500</td>\n",
       "      <td>11752</td>\n",
       "      <td>208.314</td>\n",
       "      <td>0.965120</td>\n",
       "      <td>1.787220</td>\n",
       "    </tr>\n",
       "    <tr>\n",
       "      <th>3</th>\n",
       "      <td>284500</td>\n",
       "      <td>11681</td>\n",
       "      <td>160.882</td>\n",
       "      <td>-1.915340</td>\n",
       "      <td>-2.662330</td>\n",
       "    </tr>\n",
       "    <tr>\n",
       "      <th>4</th>\n",
       "      <td>284500</td>\n",
       "      <td>11197</td>\n",
       "      <td>218.932</td>\n",
       "      <td>0.832934</td>\n",
       "      <td>-0.486832</td>\n",
       "    </tr>\n",
       "    <tr>\n",
       "      <th>5</th>\n",
       "      <td>284500</td>\n",
       "      <td>11197</td>\n",
       "      <td>168.861</td>\n",
       "      <td>-1.907410</td>\n",
       "      <td>2.612810</td>\n",
       "    </tr>\n",
       "  </tbody>\n",
       "</table>\n",
       "</div>"
      ],
      "text/plain": [
       "   RunNumber  EventNumber    JetPt    JetEta    JetPhi\n",
       "0     284500        11890  406.728  0.654438 -1.088650\n",
       "2     284500        11752  208.314  0.965120  1.787220\n",
       "3     284500        11681  160.882 -1.915340 -2.662330\n",
       "4     284500        11197  218.932  0.832934 -0.486832\n",
       "5     284500        11197  168.861 -1.907410  2.612810"
      ]
     },
     "execution_count": 26,
     "metadata": {},
     "output_type": "execute_result"
    }
   ],
   "source": [
    "events_to_use[2][:5][['RunNumber', 'EventNumber', 'JetPt', 'JetEta', 'JetPhi']]"
   ]
  },
  {
   "cell_type": "code",
   "execution_count": 27,
   "metadata": {},
   "outputs": [
    {
     "data": {
      "text/html": [
       "<div>\n",
       "<style>\n",
       "    .dataframe thead tr:only-child th {\n",
       "        text-align: right;\n",
       "    }\n",
       "\n",
       "    .dataframe thead th {\n",
       "        text-align: left;\n",
       "    }\n",
       "\n",
       "    .dataframe tbody tr th {\n",
       "        vertical-align: top;\n",
       "    }\n",
       "</style>\n",
       "<table border=\"1\" class=\"dataframe\">\n",
       "  <thead>\n",
       "    <tr style=\"text-align: right;\">\n",
       "      <th></th>\n",
       "      <th>EnergyDensity</th>\n",
       "      <th>BIBDeltaTimingM</th>\n",
       "      <th>JetPt</th>\n",
       "      <th>HadronicLayer1Fraction</th>\n",
       "      <th>ShowerCenter</th>\n",
       "      <th>JetLat</th>\n",
       "      <th>FirstClusterRadius</th>\n",
       "      <th>JetLong</th>\n",
       "      <th>MaxTrackPt</th>\n",
       "      <th>PredictedLxy</th>\n",
       "      <th>BIBDeltaTimingP</th>\n",
       "      <th>PredictedLz</th>\n",
       "      <th>SumPtOfAllTracks</th>\n",
       "    </tr>\n",
       "  </thead>\n",
       "  <tbody>\n",
       "    <tr>\n",
       "      <th>1066080</th>\n",
       "      <td>0.002594</td>\n",
       "      <td>21.44660</td>\n",
       "      <td>406.728</td>\n",
       "      <td>0.831321</td>\n",
       "      <td>1232.0</td>\n",
       "      <td>0.652344</td>\n",
       "      <td>3040</td>\n",
       "      <td>0.820312</td>\n",
       "      <td>0.0</td>\n",
       "      <td>2016.42</td>\n",
       "      <td>10.23040</td>\n",
       "      <td>1494.25</td>\n",
       "      <td>0.0</td>\n",
       "    </tr>\n",
       "    <tr>\n",
       "      <th>1066081</th>\n",
       "      <td>0.000660</td>\n",
       "      <td>36.55420</td>\n",
       "      <td>208.314</td>\n",
       "      <td>-0.001131</td>\n",
       "      <td>3936.0</td>\n",
       "      <td>0.371094</td>\n",
       "      <td>5440</td>\n",
       "      <td>0.322266</td>\n",
       "      <td>0.0</td>\n",
       "      <td>3293.99</td>\n",
       "      <td>8.81774</td>\n",
       "      <td>3404.06</td>\n",
       "      <td>0.0</td>\n",
       "    </tr>\n",
       "    <tr>\n",
       "      <th>1066082</th>\n",
       "      <td>0.005432</td>\n",
       "      <td>6.80703</td>\n",
       "      <td>160.882</td>\n",
       "      <td>0.151806</td>\n",
       "      <td>1064.0</td>\n",
       "      <td>0.777344</td>\n",
       "      <td>4992</td>\n",
       "      <td>0.820312</td>\n",
       "      <td>0.0</td>\n",
       "      <td>1043.40</td>\n",
       "      <td>38.70270</td>\n",
       "      <td>4139.80</td>\n",
       "      <td>0.0</td>\n",
       "    </tr>\n",
       "    <tr>\n",
       "      <th>1066083</th>\n",
       "      <td>0.001572</td>\n",
       "      <td>24.66940</td>\n",
       "      <td>218.932</td>\n",
       "      <td>0.724941</td>\n",
       "      <td>1296.0</td>\n",
       "      <td>0.488281</td>\n",
       "      <td>3296</td>\n",
       "      <td>0.832031</td>\n",
       "      <td>0.0</td>\n",
       "      <td>2106.88</td>\n",
       "      <td>10.13050</td>\n",
       "      <td>1962.46</td>\n",
       "      <td>0.0</td>\n",
       "    </tr>\n",
       "    <tr>\n",
       "      <th>1066084</th>\n",
       "      <td>0.009766</td>\n",
       "      <td>9.41108</td>\n",
       "      <td>168.861</td>\n",
       "      <td>0.043590</td>\n",
       "      <td>1120.0</td>\n",
       "      <td>0.371094</td>\n",
       "      <td>5088</td>\n",
       "      <td>0.025024</td>\n",
       "      <td>0.0</td>\n",
       "      <td>1269.28</td>\n",
       "      <td>41.90520</td>\n",
       "      <td>4506.63</td>\n",
       "      <td>0.0</td>\n",
       "    </tr>\n",
       "  </tbody>\n",
       "</table>\n",
       "</div>"
      ],
      "text/plain": [
       "         EnergyDensity  BIBDeltaTimingM    JetPt  HadronicLayer1Fraction  \\\n",
       "1066080       0.002594         21.44660  406.728                0.831321   \n",
       "1066081       0.000660         36.55420  208.314               -0.001131   \n",
       "1066082       0.005432          6.80703  160.882                0.151806   \n",
       "1066083       0.001572         24.66940  218.932                0.724941   \n",
       "1066084       0.009766          9.41108  168.861                0.043590   \n",
       "\n",
       "         ShowerCenter    JetLat  FirstClusterRadius   JetLong  MaxTrackPt  \\\n",
       "1066080        1232.0  0.652344                3040  0.820312         0.0   \n",
       "1066081        3936.0  0.371094                5440  0.322266         0.0   \n",
       "1066082        1064.0  0.777344                4992  0.820312         0.0   \n",
       "1066083        1296.0  0.488281                3296  0.832031         0.0   \n",
       "1066084        1120.0  0.371094                5088  0.025024         0.0   \n",
       "\n",
       "         PredictedLxy  BIBDeltaTimingP  PredictedLz  SumPtOfAllTracks  \n",
       "1066080       2016.42         10.23040      1494.25               0.0  \n",
       "1066081       3293.99          8.81774      3404.06               0.0  \n",
       "1066082       1043.40         38.70270      4139.80               0.0  \n",
       "1066083       2106.88         10.13050      1962.46               0.0  \n",
       "1066084       1269.28         41.90520      4506.63               0.0  "
      ]
     },
     "execution_count": 27,
     "metadata": {},
     "output_type": "execute_result"
    }
   ],
   "source": [
    "subsample = all_events[all_events_class.Class==2][:5]\n",
    "subsample"
   ]
  },
  {
   "cell_type": "code",
   "execution_count": 28,
   "metadata": {},
   "outputs": [
    {
     "data": {
      "text/plain": [
       "array([[ 0.32960878,  0.32169185,  0.34869937],\n",
       "       [ 0.32988545,  0.32174682,  0.34836773],\n",
       "       [ 0.32663314,  0.32432261,  0.34904425],\n",
       "       [ 0.33296141,  0.32428618,  0.3427524 ],\n",
       "       [ 0.32955363,  0.32530829,  0.34513807]])"
      ]
     },
     "execution_count": 28,
     "metadata": {},
     "output_type": "execute_result"
    }
   ],
   "source": [
    "bdtGeneral.eval(subsample)"
   ]
  },
  {
   "cell_type": "code",
   "execution_count": 29,
   "metadata": {},
   "outputs": [
    {
     "data": {
      "text/plain": [
       "array([[  4.11166171e-03,   3.61948942e-04,   9.95526389e-01],\n",
       "       [  4.91373374e-03,   4.04598928e-04,   9.94681667e-01],\n",
       "       [  1.50730425e-03,   7.41994999e-04,   9.97750701e-01],\n",
       "       [  5.94253339e-02,   4.24548868e-03,   9.36329177e-01],\n",
       "       [  1.11763336e-02,   3.05988004e-03,   9.85763786e-01]])"
      ]
     },
     "execution_count": 29,
     "metadata": {},
     "output_type": "execute_result"
    }
   ],
   "source": [
    "bdt1.predict_proba(subsample)"
   ]
  },
  {
   "cell_type": "markdown",
   "metadata": {},
   "source": [
    "## Plots of TMVA Translation Performance"
   ]
  },
  {
   "cell_type": "code",
   "execution_count": 30,
   "metadata": {},
   "outputs": [
    {
     "name": "stdout",
     "output_type": "stream",
     "text": [
      "Wall time: 23min 31s\n"
     ]
    }
   ],
   "source": [
    "%%time\n",
    "predicted_tmva_weights = bdtGeneral.eval(perf_events)"
   ]
  },
  {
   "cell_type": "code",
   "execution_count": 31,
   "metadata": {},
   "outputs": [
    {
     "data": {
      "text/plain": [
       "<matplotlib.legend.Legend at 0x1d8396c2390>"
      ]
     },
     "execution_count": 31,
     "metadata": {},
     "output_type": "execute_result"
    }
   ],
   "source": [
    "fig = plt.figure(figsize=(15,10))\n",
    "\n",
    "ax = plt.subplot(221)\n",
    "ax.hist(predicted_tmva_weights[perf_events_class.Class == 0], label=('BiB', \"MJ\", 'HSS'), bins=50, histtype = 'step', range=[0.3, 0.37])\n",
    "ax.set_xlabel('Weight')\n",
    "ax.set_title('Class: BIB')\n",
    "ax.legend()\n",
    "\n",
    "ax = plt.subplot(222)\n",
    "ax.hist(predicted_tmva_weights[perf_events_class.Class == 1], label=('BiB', \"MJ\", 'HSS'), bins=50, histtype = 'step', range=[0.3, 0.37])\n",
    "ax.set_xlabel('Weight')\n",
    "ax.set_title('Class: MJ')\n",
    "ax.legend()\n",
    "\n",
    "ax = plt.subplot(223)\n",
    "ax.hist(predicted_tmva_weights[perf_events_class.Class == 2], label=('BiB', \"MJ\", 'HSS'), bins=50, histtype = 'step', range=[0.3, 0.37])\n",
    "ax.set_xlabel('Weight')\n",
    "ax.set_title('Class: HSS')\n",
    "ax.legend()"
   ]
  },
  {
   "cell_type": "markdown",
   "metadata": {},
   "source": [
    "Note in this version how everything is on top of itself. :("
   ]
  },
  {
   "cell_type": "code",
   "execution_count": null,
   "metadata": {
    "collapsed": true
   },
   "outputs": [],
   "source": []
  }
 ],
 "metadata": {
  "kernelspec": {
   "display_name": "Python 3",
   "language": "python",
   "name": "python3"
  },
  "language_info": {
   "codemirror_mode": {
    "name": "ipython",
    "version": 3
   },
   "file_extension": ".py",
   "mimetype": "text/x-python",
   "name": "python",
   "nbconvert_exporter": "python",
   "pygments_lexer": "ipython3",
   "version": "3.6.4"
  }
 },
 "nbformat": 4,
 "nbformat_minor": 2
}
