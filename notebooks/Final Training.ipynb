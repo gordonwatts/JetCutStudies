{
 "cells": [
  {
   "cell_type": "markdown",
   "metadata": {},
   "source": [
    "# Final Training\n",
    "This notebook contains the final training that is used in the analysis.\n",
    "\n",
    "Set the name of this training, and the job number it is based on. This will keep the resulting output xml files seperate below."
   ]
  },
  {
   "cell_type": "code",
   "execution_count": 1,
   "metadata": {},
   "outputs": [],
   "source": [
    "jobId = 133\n",
    "training_name = \"full_event_grad1000\""
   ]
  },
  {
   "cell_type": "markdown",
   "metadata": {},
   "source": [
    "## Initalization"
   ]
  },
  {
   "cell_type": "code",
   "execution_count": 2,
   "metadata": {},
   "outputs": [],
   "source": [
    "from bdt_training_scikit_tools import load_trimmed_sample, default_training_variable_list, \\\n",
    "    test_train_samples, prep_samples, default_training, calc_performance, get_fraction_of_events\n",
    "import matplotlib.pyplot as plt\n",
    "plt.rc('font', size=14)\n",
    "from matplotlib.colors import LogNorm\n",
    "import pandas as pd\n",
    "import numpy as np\n",
    "import multiprocessing as mp\n",
    "import itertools"
   ]
  },
  {
   "cell_type": "code",
   "execution_count": 3,
   "metadata": {},
   "outputs": [],
   "source": [
    "training_file_stub = 'training_{0}_{1}'.format(jobId, training_name)"
   ]
  },
  {
   "cell_type": "markdown",
   "metadata": {},
   "source": [
    "## Load data"
   ]
  },
  {
   "cell_type": "code",
   "execution_count": 4,
   "metadata": {},
   "outputs": [
    {
     "name": "stdout",
     "output_type": "stream",
     "text": [
      "Job 133:\n",
      "  BIB: 800000 events\n",
      "  Multijet: 800000 events\n",
      "  Signal: 800000 events\n",
      "  [800000, 800000, 473600]\n",
      "CPU times: user 19.7 s, sys: 2.44 s, total: 22.2 s\n",
      "Wall time: 15.8 s\n"
     ]
    }
   ],
   "source": [
    "%%time\n",
    "input_events = load_trimmed_sample(jobId)"
   ]
  },
  {
   "cell_type": "code",
   "execution_count": 5,
   "metadata": {},
   "outputs": [
    {
     "name": "stdout",
     "output_type": "stream",
     "text": [
      "[200387, 199675, 118454]\n"
     ]
    }
   ],
   "source": [
    "events_25 = get_fraction_of_events(input_events, 0.25)\n",
    "print ([len(i.index) for i in events_25])"
   ]
  },
  {
   "cell_type": "code",
   "execution_count": 6,
   "metadata": {},
   "outputs": [],
   "source": [
    "events_to_use = input_events"
   ]
  },
  {
   "cell_type": "markdown",
   "metadata": {},
   "source": [
    "## Training\n",
    "Default training variables. Likely were arrived at by analysis in the Training Variables workbook."
   ]
  },
  {
   "cell_type": "code",
   "execution_count": 7,
   "metadata": {},
   "outputs": [],
   "source": [
    "training_variables = ['JetLat', 'JetLong', 'JetPt', 'JetWidth', 'NTracks', 'PredictedLxy', 'SumPtOfAllTracks']"
   ]
  },
  {
   "cell_type": "markdown",
   "metadata": {},
   "source": [
    "Run the training to get a bdt back."
   ]
  },
  {
   "cell_type": "code",
   "execution_count": 8,
   "metadata": {},
   "outputs": [
    {
     "name": "stdout",
     "output_type": "stream",
     "text": [
      "CPU times: user 1.87 s, sys: 468 ms, total: 2.34 s\n",
      "Wall time: 626 ms\n"
     ]
    }
   ],
   "source": [
    "%%time\n",
    "# Split into testing and training samples\n",
    "train, test = test_train_samples(events_to_use)\n",
    "\n",
    "# Prep samples for training\n",
    "all_events, all_events_class, training_weight, evaluation_weight = prep_samples(train[0], train[1], train[2], training_variable_list=training_variables)"
   ]
  },
  {
   "cell_type": "code",
   "execution_count": 9,
   "metadata": {},
   "outputs": [
    {
     "name": "stdout",
     "output_type": "stream",
     "text": [
      "CPU times: user 2h 25min 28s, sys: 1min 15s, total: 2h 26min 43s\n",
      "Wall time: 1h 29min 37s\n"
     ]
    }
   ],
   "source": [
    "%%time\n",
    "bdt = default_training(all_events, training_weight, all_events_class)"
   ]
  },
  {
   "cell_type": "markdown",
   "metadata": {},
   "source": [
    "Calculate the performance for this training"
   ]
  },
  {
   "cell_type": "code",
   "execution_count": 10,
   "metadata": {},
   "outputs": [
    {
     "name": "stdout",
     "output_type": "stream",
     "text": [
      "CPU times: user 54.4 s, sys: 845 ms, total: 55.2 s\n",
      "Wall time: 50.6 s\n"
     ]
    },
    {
     "data": {
      "text/plain": [
       "{'BIBinBIB': 709906.0,\n",
       " 'MJinBIB': 36108620.15335781,\n",
       " 'HSSinBIB': 121437.0,\n",
       " 'BIBinMJ': 3391.0,\n",
       " 'MJinMJ': 712274953.7445574,\n",
       " 'HSSinMJ': 4217.0,\n",
       " 'BIBinHSS': 86703.0,\n",
       " 'MJinHSS': 2681895.41139027,\n",
       " 'HSSinHSS': 347946.0,\n",
       " 'BIBEff': 0.8873825,\n",
       " 'MJEff': 0.9483526840870209,\n",
       " 'HSSEff': 0.7346832770270271,\n",
       " 'BIBBack': 36230057.15335781,\n",
       " 'MJBack': 7608.0,\n",
       " 'HSSBack': 2768598.4113902706,\n",
       " 'BIBSsqrtB': 117.94141589254922,\n",
       " 'MJSsqrtB': 8166057.267106953,\n",
       " 'HSSSsqrtB': 209.1134010519769,\n",
       " 'BIBTotalWeight': 800000.0,\n",
       " 'MJTotalWeight': 751065469.309305,\n",
       " 'HSSTotalWeight': 473600.0,\n",
       " 'BIBTotalCount': 800000,\n",
       " 'MJTotalCount': 800000,\n",
       " 'HSSTotalCount': 473600}"
      ]
     },
     "execution_count": 10,
     "metadata": {},
     "output_type": "execute_result"
    }
   ],
   "source": [
    "%%time\n",
    "calc_performance(bdt, input_events, training_variables=training_variables)"
   ]
  },
  {
   "cell_type": "code",
   "execution_count": 11,
   "metadata": {},
   "outputs": [
    {
     "data": {
      "text/plain": [
       "['training_133_full_event_grad1000.pkl']"
      ]
     },
     "execution_count": 11,
     "metadata": {},
     "output_type": "execute_result"
    }
   ],
   "source": [
    "from sklearn.externals import joblib\n",
    "joblib.dump(bdt, training_file_stub + '.pkl') "
   ]
  },
  {
   "cell_type": "markdown",
   "metadata": {},
   "source": [
    "## Conversion to TMVA format"
   ]
  },
  {
   "cell_type": "code",
   "execution_count": 12,
   "metadata": {},
   "outputs": [
    {
     "name": "stdout",
     "output_type": "stream",
     "text": [
      "norm is 1.0\n"
     ]
    }
   ],
   "source": [
    "import mlglue\n",
    "import mlglue.tree\n",
    "from sklearn.externals import joblib\n",
    "bdt1 = joblib.load(training_file_stub + '.pkl')\n",
    "bdtGeneral = mlglue.tree.BDTsklearn(bdt1, list(all_events.columns), ['BIB', 'MJ', 'Signal'])\n",
    "bdtGeneral.to_tmva(training_file_stub + \".xml\")"
   ]
  },
  {
   "cell_type": "markdown",
   "metadata": {},
   "source": [
    "## Performance\n",
    "Look at some generic performance plots for the bdt."
   ]
  },
  {
   "cell_type": "code",
   "execution_count": 13,
   "metadata": {},
   "outputs": [],
   "source": [
    "perf_events, perf_events_class, perf_training_weight, perf_evaluation_weight = prep_samples(input_events[0], input_events[1], input_events[2], training_variable_list=training_variables)"
   ]
  },
  {
   "cell_type": "code",
   "execution_count": 14,
   "metadata": {},
   "outputs": [],
   "source": [
    "predicted_class = bdt1.predict(perf_events)"
   ]
  },
  {
   "cell_type": "code",
   "execution_count": 15,
   "metadata": {
    "scrolled": false
   },
   "outputs": [
    {
     "data": {
      "image/png": "[encoded data removed]",
      "text/plain": [
       "<Figure size 1080x1080 with 3 Axes>"
      ]
     },
     "metadata": {},
     "output_type": "display_data"
    }
   ],
   "source": [
    "fig = plt.figure(figsize=(15,15))\n",
    "\n",
    "ax = plt.subplot(221)\n",
    "ax.hist(predicted_class[perf_events_class.Class == 0], weights=perf_training_weight[perf_events_class.Class == 0], bins=3)\n",
    "ax.set_xlabel('Class')\n",
    "ax.set_title('BIB')\n",
    "ax.set_yscale('log')\n",
    "\n",
    "ax = plt.subplot(222)\n",
    "ax.hist(predicted_class[perf_events_class.Class == 1], weights=perf_training_weight[perf_events_class.Class == 1], bins=3)\n",
    "ax.set_xlabel('Class')\n",
    "ax.set_title('MJ')\n",
    "ax.set_yscale('log')\n",
    "\n",
    "ax = plt.subplot(223)\n",
    "ax.hist(predicted_class[perf_events_class.Class == 2], weights=perf_training_weight[perf_events_class.Class == 2], bins=3)\n",
    "ax.set_xlabel('Class')\n",
    "ax.set_title('HSS')\n",
    "ax.set_yscale('log')"
   ]
  },
  {
   "cell_type": "code",
   "execution_count": 16,
   "metadata": {},
   "outputs": [],
   "source": [
    "predicted_prob = bdt1.predict_proba(perf_events)"
   ]
  },
  {
   "cell_type": "code",
   "execution_count": 32,
   "metadata": {},
   "outputs": [],
   "source": [
    "def make_weights (cls):\n",
    "    w = np.array([perf_training_weight[perf_events_class.Class == cls],\n",
    "        perf_training_weight[perf_events_class.Class == cls],\n",
    "        perf_training_weight[perf_events_class.Class == cls]])\n",
    "    return w.T"
   ]
  },
  {
   "cell_type": "code",
   "execution_count": 33,
   "metadata": {},
   "outputs": [
    {
     "data": {
      "text/plain": [
       "<matplotlib.legend.Legend at 0x7f10eea426d8>"
      ]
     },
     "execution_count": 33,
     "metadata": {},
     "output_type": "execute_result"
    },
    {
     "data": {
      "image/png": "[encoded data removed]",
      "text/plain": [
       "<Figure size 1080x720 with 3 Axes>"
      ]
     },
     "metadata": {},
     "output_type": "display_data"
    }
   ],
   "source": [
    "fig = plt.figure(figsize=(15,10))\n",
    "\n",
    "ax = plt.subplot(221)\n",
    "ax.hist(predicted_prob[perf_events_class.Class == 0], weights=make_weights(0), label=('BiB', \"MJ\", 'HSS'), bins=50, histtype = 'step')\n",
    "ax.set_xlabel('Weight')\n",
    "ax.set_title('Class: BIB')\n",
    "ax.legend()\n",
    "\n",
    "ax = plt.subplot(222)\n",
    "ax.hist(predicted_prob[perf_events_class.Class == 1], weights=make_weights(1), label=('BiB', \"MJ\", 'HSS'), bins=50, histtype = 'step')\n",
    "ax.set_xlabel('Weight')\n",
    "ax.set_title('Class: MJ')\n",
    "ax.legend()\n",
    "\n",
    "ax = plt.subplot(223)\n",
    "ax.hist(predicted_prob[perf_events_class.Class == 2], weights=make_weights(2), label=('BiB', \"MJ\", 'HSS'), bins=50, histtype = 'step')\n",
    "ax.set_xlabel('Weight')\n",
    "ax.set_title('Class: HSS')\n",
    "ax.legend()"
   ]
  },
  {
   "cell_type": "markdown",
   "metadata": {},
   "source": [
    "## TMVA Cross Check\n",
    "We always have trouble with that. We need to look to see what we can expect with TMVA. Below there is Bib, MJ, and Signal, all three classes. 5 events are taken (first jet pt eta phi are shown along with event number so they can be correlated with the real full root trees). The full inputs are shown, in the proper order to be fed to the bdt. Then the result of the TMVA translation is evaluated, and then the probabilities from the sklean classifier are shown. A direct match isn't expected, but the trents (e.g. signal has the class2 column always larger than the bib or mj columns).\n",
    "\n",
    "### What is wrong with this translation?\n",
    "I'm using a slightly modified version of mlglue to do the translation. Yet, as you can see below, the MJ, Sig, and background come out almost alike. And the classifier works rather well when it is run internally. So... what is going on?\n",
    "\n",
    "### BiB (class 0)\n",
    "First lets look at BiB. We'll get some absolute numbers out of the weight calculations"
   ]
  },
  {
   "cell_type": "code",
   "execution_count": 18,
   "metadata": {},
   "outputs": [
    {
     "data": {
      "text/html": [
       "<div>\n",
       "<style scoped>\n",
       "    .dataframe tbody tr th:only-of-type {\n",
       "        vertical-align: middle;\n",
       "    }\n",
       "\n",
       "    .dataframe tbody tr th {\n",
       "        vertical-align: top;\n",
       "    }\n",
       "\n",
       "    .dataframe thead th {\n",
       "        text-align: right;\n",
       "    }\n",
       "</style>\n",
       "<table border=\"1\" class=\"dataframe\">\n",
       "  <thead>\n",
       "    <tr style=\"text-align: right;\">\n",
       "      <th></th>\n",
       "      <th>RunNumber</th>\n",
       "      <th>EventNumber</th>\n",
       "      <th>JetPt</th>\n",
       "      <th>JetEta</th>\n",
       "      <th>JetPhi</th>\n",
       "    </tr>\n",
       "  </thead>\n",
       "  <tbody>\n",
       "    <tr>\n",
       "      <th>0</th>\n",
       "      <td>303846</td>\n",
       "      <td>1290270786</td>\n",
       "      <td>101.7680</td>\n",
       "      <td>0.671180</td>\n",
       "      <td>0.668020</td>\n",
       "    </tr>\n",
       "    <tr>\n",
       "      <th>1</th>\n",
       "      <td>303846</td>\n",
       "      <td>1289734246</td>\n",
       "      <td>143.2400</td>\n",
       "      <td>1.302650</td>\n",
       "      <td>-0.141964</td>\n",
       "    </tr>\n",
       "    <tr>\n",
       "      <th>2</th>\n",
       "      <td>303846</td>\n",
       "      <td>1291357297</td>\n",
       "      <td>109.4470</td>\n",
       "      <td>0.757105</td>\n",
       "      <td>3.096500</td>\n",
       "    </tr>\n",
       "    <tr>\n",
       "      <th>3</th>\n",
       "      <td>303846</td>\n",
       "      <td>1294629602</td>\n",
       "      <td>135.7760</td>\n",
       "      <td>0.011375</td>\n",
       "      <td>-1.721400</td>\n",
       "    </tr>\n",
       "    <tr>\n",
       "      <th>4</th>\n",
       "      <td>303846</td>\n",
       "      <td>1288767250</td>\n",
       "      <td>59.3792</td>\n",
       "      <td>0.628752</td>\n",
       "      <td>-0.494102</td>\n",
       "    </tr>\n",
       "  </tbody>\n",
       "</table>\n",
       "</div>"
      ],
      "text/plain": [
       "   RunNumber  EventNumber     JetPt    JetEta    JetPhi\n",
       "0     303846   1290270786  101.7680  0.671180  0.668020\n",
       "1     303846   1289734246  143.2400  1.302650 -0.141964\n",
       "2     303846   1291357297  109.4470  0.757105  3.096500\n",
       "3     303846   1294629602  135.7760  0.011375 -1.721400\n",
       "4     303846   1288767250   59.3792  0.628752 -0.494102"
      ]
     },
     "execution_count": 18,
     "metadata": {},
     "output_type": "execute_result"
    }
   ],
   "source": [
    "events_to_use[0][:5][['RunNumber', 'EventNumber', 'JetPt', 'JetEta', 'JetPhi']]"
   ]
  },
  {
   "cell_type": "code",
   "execution_count": 19,
   "metadata": {},
   "outputs": [
    {
     "data": {
      "text/html": [
       "<div>\n",
       "<style scoped>\n",
       "    .dataframe tbody tr th:only-of-type {\n",
       "        vertical-align: middle;\n",
       "    }\n",
       "\n",
       "    .dataframe tbody tr th {\n",
       "        vertical-align: top;\n",
       "    }\n",
       "\n",
       "    .dataframe thead th {\n",
       "        text-align: right;\n",
       "    }\n",
       "</style>\n",
       "<table border=\"1\" class=\"dataframe\">\n",
       "  <thead>\n",
       "    <tr style=\"text-align: right;\">\n",
       "      <th></th>\n",
       "      <th>JetLat</th>\n",
       "      <th>JetLong</th>\n",
       "      <th>JetPt</th>\n",
       "      <th>JetWidth</th>\n",
       "      <th>NTracks</th>\n",
       "      <th>PredictedLxy</th>\n",
       "      <th>SumPtOfAllTracks</th>\n",
       "    </tr>\n",
       "  </thead>\n",
       "  <tbody>\n",
       "    <tr>\n",
       "      <th>0</th>\n",
       "      <td>0.159180</td>\n",
       "      <td>0.271484</td>\n",
       "      <td>143.2400</td>\n",
       "      <td>0.037008</td>\n",
       "      <td>0</td>\n",
       "      <td>2102.600</td>\n",
       "      <td>0.538194</td>\n",
       "    </tr>\n",
       "    <tr>\n",
       "      <th>1</th>\n",
       "      <td>0.373047</td>\n",
       "      <td>0.292969</td>\n",
       "      <td>109.4470</td>\n",
       "      <td>0.024079</td>\n",
       "      <td>0</td>\n",
       "      <td>2912.970</td>\n",
       "      <td>0.000000</td>\n",
       "    </tr>\n",
       "    <tr>\n",
       "      <th>2</th>\n",
       "      <td>0.423828</td>\n",
       "      <td>0.291016</td>\n",
       "      <td>135.7760</td>\n",
       "      <td>0.050210</td>\n",
       "      <td>0</td>\n",
       "      <td>2111.500</td>\n",
       "      <td>0.000000</td>\n",
       "    </tr>\n",
       "    <tr>\n",
       "      <th>3</th>\n",
       "      <td>0.953125</td>\n",
       "      <td>0.738281</td>\n",
       "      <td>59.3792</td>\n",
       "      <td>0.198000</td>\n",
       "      <td>0</td>\n",
       "      <td>824.584</td>\n",
       "      <td>0.818729</td>\n",
       "    </tr>\n",
       "    <tr>\n",
       "      <th>4</th>\n",
       "      <td>0.281250</td>\n",
       "      <td>0.078125</td>\n",
       "      <td>133.3790</td>\n",
       "      <td>0.020075</td>\n",
       "      <td>0</td>\n",
       "      <td>2579.500</td>\n",
       "      <td>0.000000</td>\n",
       "    </tr>\n",
       "  </tbody>\n",
       "</table>\n",
       "</div>"
      ],
      "text/plain": [
       "     JetLat   JetLong     JetPt  JetWidth  NTracks  PredictedLxy  \\\n",
       "0  0.159180  0.271484  143.2400  0.037008        0      2102.600   \n",
       "1  0.373047  0.292969  109.4470  0.024079        0      2912.970   \n",
       "2  0.423828  0.291016  135.7760  0.050210        0      2111.500   \n",
       "3  0.953125  0.738281   59.3792  0.198000        0       824.584   \n",
       "4  0.281250  0.078125  133.3790  0.020075        0      2579.500   \n",
       "\n",
       "   SumPtOfAllTracks  \n",
       "0          0.538194  \n",
       "1          0.000000  \n",
       "2          0.000000  \n",
       "3          0.818729  \n",
       "4          0.000000  "
      ]
     },
     "execution_count": 19,
     "metadata": {},
     "output_type": "execute_result"
    }
   ],
   "source": [
    "subsample = all_events[all_events_class.Class==0][:5]\n",
    "subsample"
   ]
  },
  {
   "cell_type": "code",
   "execution_count": 20,
   "metadata": {},
   "outputs": [
    {
     "data": {
      "text/plain": [
       "array([[0.34878602, 0.31856136, 0.33265262],\n",
       "       [0.34152519, 0.31485828, 0.34361653],\n",
       "       [0.34686259, 0.31909304, 0.33404438],\n",
       "       [0.33928773, 0.33168706, 0.32902521],\n",
       "       [0.35100047, 0.31724299, 0.33175654]])"
      ]
     },
     "execution_count": 20,
     "metadata": {},
     "output_type": "execute_result"
    }
   ],
   "source": [
    "bdtGeneral.eval(subsample)"
   ]
  },
  {
   "cell_type": "code",
   "execution_count": 21,
   "metadata": {},
   "outputs": [
    {
     "data": {
      "text/plain": [
       "array([[9.92369894e-01, 1.15114335e-04, 7.51499126e-03],\n",
       "       [3.86166109e-01, 1.14041622e-04, 6.13719849e-01],\n",
       "       [9.80176169e-01, 2.33530427e-04, 1.95903006e-02],\n",
       "       [8.74107672e-01, 9.09191976e-02, 3.49731305e-02],\n",
       "       [9.96898194e-01, 4.05636589e-05, 3.06124277e-03]])"
      ]
     },
     "execution_count": 21,
     "metadata": {},
     "output_type": "execute_result"
    }
   ],
   "source": [
    "bdt1.predict_proba(subsample)"
   ]
  },
  {
   "cell_type": "markdown",
   "metadata": {},
   "source": [
    "### MultiJet (class 1)\n",
    "\n",
    "Ok, now lets look at MJ, which is class 1. Note that the run number is not pulled correctly here. :("
   ]
  },
  {
   "cell_type": "code",
   "execution_count": 22,
   "metadata": {},
   "outputs": [
    {
     "data": {
      "text/html": [
       "<div>\n",
       "<style scoped>\n",
       "    .dataframe tbody tr th:only-of-type {\n",
       "        vertical-align: middle;\n",
       "    }\n",
       "\n",
       "    .dataframe tbody tr th {\n",
       "        vertical-align: top;\n",
       "    }\n",
       "\n",
       "    .dataframe thead th {\n",
       "        text-align: right;\n",
       "    }\n",
       "</style>\n",
       "<table border=\"1\" class=\"dataframe\">\n",
       "  <thead>\n",
       "    <tr style=\"text-align: right;\">\n",
       "      <th></th>\n",
       "      <th>RunNumber</th>\n",
       "      <th>EventNumber</th>\n",
       "      <th>JetPt</th>\n",
       "      <th>JetEta</th>\n",
       "      <th>JetPhi</th>\n",
       "    </tr>\n",
       "  </thead>\n",
       "  <tbody>\n",
       "    <tr>\n",
       "      <th>0</th>\n",
       "      <td>284500</td>\n",
       "      <td>1652343</td>\n",
       "      <td>243.0610</td>\n",
       "      <td>-0.890647</td>\n",
       "      <td>2.14866</td>\n",
       "    </tr>\n",
       "    <tr>\n",
       "      <th>1</th>\n",
       "      <td>284500</td>\n",
       "      <td>1652343</td>\n",
       "      <td>98.8450</td>\n",
       "      <td>-0.419785</td>\n",
       "      <td>1.96751</td>\n",
       "    </tr>\n",
       "    <tr>\n",
       "      <th>2</th>\n",
       "      <td>284500</td>\n",
       "      <td>1652343</td>\n",
       "      <td>93.1911</td>\n",
       "      <td>-0.242547</td>\n",
       "      <td>2.80465</td>\n",
       "    </tr>\n",
       "    <tr>\n",
       "      <th>3</th>\n",
       "      <td>284500</td>\n",
       "      <td>1652221</td>\n",
       "      <td>121.9710</td>\n",
       "      <td>-0.935860</td>\n",
       "      <td>2.44594</td>\n",
       "    </tr>\n",
       "    <tr>\n",
       "      <th>4</th>\n",
       "      <td>284500</td>\n",
       "      <td>1652221</td>\n",
       "      <td>102.9700</td>\n",
       "      <td>-0.691468</td>\n",
       "      <td>1.25401</td>\n",
       "    </tr>\n",
       "  </tbody>\n",
       "</table>\n",
       "</div>"
      ],
      "text/plain": [
       "   RunNumber  EventNumber     JetPt    JetEta   JetPhi\n",
       "0     284500      1652343  243.0610 -0.890647  2.14866\n",
       "1     284500      1652343   98.8450 -0.419785  1.96751\n",
       "2     284500      1652343   93.1911 -0.242547  2.80465\n",
       "3     284500      1652221  121.9710 -0.935860  2.44594\n",
       "4     284500      1652221  102.9700 -0.691468  1.25401"
      ]
     },
     "execution_count": 22,
     "metadata": {},
     "output_type": "execute_result"
    }
   ],
   "source": [
    "events_to_use[1][:5][['RunNumber', 'EventNumber', 'JetPt', 'JetEta', 'JetPhi']]"
   ]
  },
  {
   "cell_type": "code",
   "execution_count": 23,
   "metadata": {},
   "outputs": [
    {
     "data": {
      "text/html": [
       "<div>\n",
       "<style scoped>\n",
       "    .dataframe tbody tr th:only-of-type {\n",
       "        vertical-align: middle;\n",
       "    }\n",
       "\n",
       "    .dataframe tbody tr th {\n",
       "        vertical-align: top;\n",
       "    }\n",
       "\n",
       "    .dataframe thead th {\n",
       "        text-align: right;\n",
       "    }\n",
       "</style>\n",
       "<table border=\"1\" class=\"dataframe\">\n",
       "  <thead>\n",
       "    <tr style=\"text-align: right;\">\n",
       "      <th></th>\n",
       "      <th>JetLat</th>\n",
       "      <th>JetLong</th>\n",
       "      <th>JetPt</th>\n",
       "      <th>JetWidth</th>\n",
       "      <th>NTracks</th>\n",
       "      <th>PredictedLxy</th>\n",
       "      <th>SumPtOfAllTracks</th>\n",
       "    </tr>\n",
       "  </thead>\n",
       "  <tbody>\n",
       "    <tr>\n",
       "      <th>532863</th>\n",
       "      <td>0.902344</td>\n",
       "      <td>0.968750</td>\n",
       "      <td>121.9710</td>\n",
       "      <td>0.086531</td>\n",
       "      <td>4</td>\n",
       "      <td>737.983</td>\n",
       "      <td>29.6025</td>\n",
       "    </tr>\n",
       "    <tr>\n",
       "      <th>532864</th>\n",
       "      <td>0.847656</td>\n",
       "      <td>0.691406</td>\n",
       "      <td>102.9700</td>\n",
       "      <td>0.188967</td>\n",
       "      <td>6</td>\n",
       "      <td>744.055</td>\n",
       "      <td>45.4132</td>\n",
       "    </tr>\n",
       "    <tr>\n",
       "      <th>532865</th>\n",
       "      <td>0.972656</td>\n",
       "      <td>0.734375</td>\n",
       "      <td>424.5490</td>\n",
       "      <td>0.104252</td>\n",
       "      <td>13</td>\n",
       "      <td>587.731</td>\n",
       "      <td>211.9560</td>\n",
       "    </tr>\n",
       "    <tr>\n",
       "      <th>532866</th>\n",
       "      <td>0.871094</td>\n",
       "      <td>0.832031</td>\n",
       "      <td>73.6816</td>\n",
       "      <td>0.096875</td>\n",
       "      <td>5</td>\n",
       "      <td>860.230</td>\n",
       "      <td>38.7491</td>\n",
       "    </tr>\n",
       "    <tr>\n",
       "      <th>532867</th>\n",
       "      <td>0.972656</td>\n",
       "      <td>0.941406</td>\n",
       "      <td>67.8031</td>\n",
       "      <td>0.076090</td>\n",
       "      <td>24</td>\n",
       "      <td>889.963</td>\n",
       "      <td>299.8710</td>\n",
       "    </tr>\n",
       "  </tbody>\n",
       "</table>\n",
       "</div>"
      ],
      "text/plain": [
       "          JetLat   JetLong     JetPt  JetWidth  NTracks  PredictedLxy  \\\n",
       "532863  0.902344  0.968750  121.9710  0.086531        4       737.983   \n",
       "532864  0.847656  0.691406  102.9700  0.188967        6       744.055   \n",
       "532865  0.972656  0.734375  424.5490  0.104252       13       587.731   \n",
       "532866  0.871094  0.832031   73.6816  0.096875        5       860.230   \n",
       "532867  0.972656  0.941406   67.8031  0.076090       24       889.963   \n",
       "\n",
       "        SumPtOfAllTracks  \n",
       "532863           29.6025  \n",
       "532864           45.4132  \n",
       "532865          211.9560  \n",
       "532866           38.7491  \n",
       "532867          299.8710  "
      ]
     },
     "execution_count": 23,
     "metadata": {},
     "output_type": "execute_result"
    }
   ],
   "source": [
    "subsample = all_events[all_events_class.Class==1][:5]\n",
    "subsample"
   ]
  },
  {
   "cell_type": "code",
   "execution_count": 24,
   "metadata": {},
   "outputs": [
    {
     "data": {
      "text/plain": [
       "array([[0.3230372 , 0.34773863, 0.32922417],\n",
       "       [0.32530414, 0.34813353, 0.32656233],\n",
       "       [0.31657016, 0.35395733, 0.32947251],\n",
       "       [0.33030381, 0.3459746 , 0.32372159],\n",
       "       [0.33136912, 0.3452984 , 0.32333248]])"
      ]
     },
     "execution_count": 24,
     "metadata": {},
     "output_type": "execute_result"
    }
   ],
   "source": [
    "bdtGeneral.eval(subsample)"
   ]
  },
  {
   "cell_type": "code",
   "execution_count": 25,
   "metadata": {},
   "outputs": [
    {
     "data": {
      "text/plain": [
       "array([[6.26708369e-04, 9.95767094e-01, 3.60619747e-03],\n",
       "       [1.12773851e-03, 9.97440322e-01, 1.43193940e-03],\n",
       "       [1.41435905e-05, 9.99322804e-01, 6.63052565e-04],\n",
       "       [9.57679073e-03, 9.89318890e-01, 1.10431891e-03],\n",
       "       [1.59654898e-02, 9.82851529e-01, 1.18298142e-03]])"
      ]
     },
     "execution_count": 25,
     "metadata": {},
     "output_type": "execute_result"
    }
   ],
   "source": [
    "bdt1.predict_proba(subsample)"
   ]
  },
  {
   "cell_type": "markdown",
   "metadata": {},
   "source": [
    "### Signal (class 2)\n",
    "\n",
    "Finally, lets look at signal"
   ]
  },
  {
   "cell_type": "code",
   "execution_count": 26,
   "metadata": {},
   "outputs": [
    {
     "data": {
      "text/html": [
       "<div>\n",
       "<style scoped>\n",
       "    .dataframe tbody tr th:only-of-type {\n",
       "        vertical-align: middle;\n",
       "    }\n",
       "\n",
       "    .dataframe tbody tr th {\n",
       "        vertical-align: top;\n",
       "    }\n",
       "\n",
       "    .dataframe thead th {\n",
       "        text-align: right;\n",
       "    }\n",
       "</style>\n",
       "<table border=\"1\" class=\"dataframe\">\n",
       "  <thead>\n",
       "    <tr style=\"text-align: right;\">\n",
       "      <th></th>\n",
       "      <th>RunNumber</th>\n",
       "      <th>EventNumber</th>\n",
       "      <th>JetPt</th>\n",
       "      <th>JetEta</th>\n",
       "      <th>JetPhi</th>\n",
       "    </tr>\n",
       "  </thead>\n",
       "  <tbody>\n",
       "    <tr>\n",
       "      <th>0</th>\n",
       "      <td>284500</td>\n",
       "      <td>171076</td>\n",
       "      <td>158.9240</td>\n",
       "      <td>-0.985681</td>\n",
       "      <td>0.255070</td>\n",
       "    </tr>\n",
       "    <tr>\n",
       "      <th>1</th>\n",
       "      <td>284500</td>\n",
       "      <td>171242</td>\n",
       "      <td>117.5200</td>\n",
       "      <td>-0.328739</td>\n",
       "      <td>3.004210</td>\n",
       "    </tr>\n",
       "    <tr>\n",
       "      <th>2</th>\n",
       "      <td>284500</td>\n",
       "      <td>171705</td>\n",
       "      <td>200.1870</td>\n",
       "      <td>1.260690</td>\n",
       "      <td>-0.629426</td>\n",
       "    </tr>\n",
       "    <tr>\n",
       "      <th>3</th>\n",
       "      <td>284500</td>\n",
       "      <td>171165</td>\n",
       "      <td>80.9756</td>\n",
       "      <td>1.358970</td>\n",
       "      <td>0.033844</td>\n",
       "    </tr>\n",
       "    <tr>\n",
       "      <th>6</th>\n",
       "      <td>284500</td>\n",
       "      <td>171034</td>\n",
       "      <td>248.2560</td>\n",
       "      <td>0.501694</td>\n",
       "      <td>-0.495947</td>\n",
       "    </tr>\n",
       "  </tbody>\n",
       "</table>\n",
       "</div>"
      ],
      "text/plain": [
       "   RunNumber  EventNumber     JetPt    JetEta    JetPhi\n",
       "0     284500       171076  158.9240 -0.985681  0.255070\n",
       "1     284500       171242  117.5200 -0.328739  3.004210\n",
       "2     284500       171705  200.1870  1.260690 -0.629426\n",
       "3     284500       171165   80.9756  1.358970  0.033844\n",
       "6     284500       171034  248.2560  0.501694 -0.495947"
      ]
     },
     "execution_count": 26,
     "metadata": {},
     "output_type": "execute_result"
    }
   ],
   "source": [
    "events_to_use[2][:5][['RunNumber', 'EventNumber', 'JetPt', 'JetEta', 'JetPhi']]"
   ]
  },
  {
   "cell_type": "code",
   "execution_count": 27,
   "metadata": {},
   "outputs": [
    {
     "data": {
      "text/html": [
       "<div>\n",
       "<style scoped>\n",
       "    .dataframe tbody tr th:only-of-type {\n",
       "        vertical-align: middle;\n",
       "    }\n",
       "\n",
       "    .dataframe tbody tr th {\n",
       "        vertical-align: top;\n",
       "    }\n",
       "\n",
       "    .dataframe thead th {\n",
       "        text-align: right;\n",
       "    }\n",
       "</style>\n",
       "<table border=\"1\" class=\"dataframe\">\n",
       "  <thead>\n",
       "    <tr style=\"text-align: right;\">\n",
       "      <th></th>\n",
       "      <th>JetLat</th>\n",
       "      <th>JetLong</th>\n",
       "      <th>JetPt</th>\n",
       "      <th>JetWidth</th>\n",
       "      <th>NTracks</th>\n",
       "      <th>PredictedLxy</th>\n",
       "      <th>SumPtOfAllTracks</th>\n",
       "    </tr>\n",
       "  </thead>\n",
       "  <tbody>\n",
       "    <tr>\n",
       "      <th>1066442</th>\n",
       "      <td>0.910156</td>\n",
       "      <td>0.617188</td>\n",
       "      <td>158.924</td>\n",
       "      <td>0.009716</td>\n",
       "      <td>0</td>\n",
       "      <td>3185.480</td>\n",
       "      <td>0.000000</td>\n",
       "    </tr>\n",
       "    <tr>\n",
       "      <th>1066443</th>\n",
       "      <td>0.640625</td>\n",
       "      <td>0.785156</td>\n",
       "      <td>117.520</td>\n",
       "      <td>0.020458</td>\n",
       "      <td>0</td>\n",
       "      <td>2509.270</td>\n",
       "      <td>0.000000</td>\n",
       "    </tr>\n",
       "    <tr>\n",
       "      <th>1066444</th>\n",
       "      <td>0.832031</td>\n",
       "      <td>0.679688</td>\n",
       "      <td>248.256</td>\n",
       "      <td>0.051551</td>\n",
       "      <td>0</td>\n",
       "      <td>886.061</td>\n",
       "      <td>0.432695</td>\n",
       "    </tr>\n",
       "    <tr>\n",
       "      <th>1066445</th>\n",
       "      <td>0.863281</td>\n",
       "      <td>0.941406</td>\n",
       "      <td>105.639</td>\n",
       "      <td>0.022705</td>\n",
       "      <td>0</td>\n",
       "      <td>796.294</td>\n",
       "      <td>0.706930</td>\n",
       "    </tr>\n",
       "    <tr>\n",
       "      <th>1066446</th>\n",
       "      <td>0.632812</td>\n",
       "      <td>0.640625</td>\n",
       "      <td>159.514</td>\n",
       "      <td>0.018088</td>\n",
       "      <td>0</td>\n",
       "      <td>2622.160</td>\n",
       "      <td>1.214390</td>\n",
       "    </tr>\n",
       "  </tbody>\n",
       "</table>\n",
       "</div>"
      ],
      "text/plain": [
       "           JetLat   JetLong    JetPt  JetWidth  NTracks  PredictedLxy  \\\n",
       "1066442  0.910156  0.617188  158.924  0.009716        0      3185.480   \n",
       "1066443  0.640625  0.785156  117.520  0.020458        0      2509.270   \n",
       "1066444  0.832031  0.679688  248.256  0.051551        0       886.061   \n",
       "1066445  0.863281  0.941406  105.639  0.022705        0       796.294   \n",
       "1066446  0.632812  0.640625  159.514  0.018088        0      2622.160   \n",
       "\n",
       "         SumPtOfAllTracks  \n",
       "1066442          0.000000  \n",
       "1066443          0.000000  \n",
       "1066444          0.432695  \n",
       "1066445          0.706930  \n",
       "1066446          1.214390  "
      ]
     },
     "execution_count": 27,
     "metadata": {},
     "output_type": "execute_result"
    }
   ],
   "source": [
    "subsample = all_events[all_events_class.Class==2][:5]\n",
    "subsample"
   ]
  },
  {
   "cell_type": "code",
   "execution_count": 28,
   "metadata": {},
   "outputs": [
    {
     "data": {
      "text/plain": [
       "array([[0.34022305, 0.3157035 , 0.34407344],\n",
       "       [0.34315266, 0.31832036, 0.33852698],\n",
       "       [0.33032641, 0.32866422, 0.34100937],\n",
       "       [0.33374678, 0.33097356, 0.33527966],\n",
       "       [0.34547147, 0.31801938, 0.33650915]])"
      ]
     },
     "execution_count": 28,
     "metadata": {},
     "output_type": "execute_result"
    }
   ],
   "source": [
    "bdtGeneral.eval(subsample)"
   ]
  },
  {
   "cell_type": "code",
   "execution_count": 29,
   "metadata": {},
   "outputs": [
    {
     "data": {
      "text/plain": [
       "array([[2.73215559e-01, 1.54569542e-04, 7.26629871e-01],\n",
       "       [8.17859185e-01, 4.48162428e-04, 1.81692653e-01],\n",
       "       [4.46033412e-02, 2.69980600e-02, 9.28398599e-01],\n",
       "       [3.57140904e-01, 1.55422113e-01, 4.87436983e-01],\n",
       "       [9.41122516e-01, 2.39242107e-04, 5.86382421e-02]])"
      ]
     },
     "execution_count": 29,
     "metadata": {},
     "output_type": "execute_result"
    }
   ],
   "source": [
    "bdt1.predict_proba(subsample)"
   ]
  },
  {
   "cell_type": "markdown",
   "metadata": {},
   "source": [
    "## Plots of TMVA Translation Performance"
   ]
  },
  {
   "cell_type": "code",
   "execution_count": 30,
   "metadata": {},
   "outputs": [
    {
     "name": "stdout",
     "output_type": "stream",
     "text": [
      "CPU times: user 16min 3s, sys: 1min 14s, total: 17min 17s\n",
      "Wall time: 4min 19s\n"
     ]
    }
   ],
   "source": [
    "%%time\n",
    "predicted_tmva_weights = bdtGeneral.eval(perf_events)"
   ]
  },
  {
   "cell_type": "code",
   "execution_count": 31,
   "metadata": {},
   "outputs": [
    {
     "data": {
      "text/plain": [
       "<matplotlib.legend.Legend at 0x7f10ed671ba8>"
      ]
     },
     "execution_count": 31,
     "metadata": {},
     "output_type": "execute_result"
    },
    {
     "data": {
      "image/png": "[encoded data removed]",
      "text/plain": [
       "<Figure size 1080x720 with 3 Axes>"
      ]
     },
     "metadata": {},
     "output_type": "display_data"
    }
   ],
   "source": [
    "fig = plt.figure(figsize=(15,10))\n",
    "\n",
    "ax = plt.subplot(221)\n",
    "ax.hist(predicted_tmva_weights[perf_events_class.Class == 0], label=('BiB', \"MJ\", 'HSS'), bins=50, histtype = 'step', range=[0.3, 0.37])\n",
    "ax.set_xlabel('Weight')\n",
    "ax.set_title('Class: BIB')\n",
    "ax.legend()\n",
    "\n",
    "ax = plt.subplot(222)\n",
    "ax.hist(predicted_tmva_weights[perf_events_class.Class == 1], label=('BiB', \"MJ\", 'HSS'), bins=50, histtype = 'step', range=[0.3, 0.37])\n",
    "ax.set_xlabel('Weight')\n",
    "ax.set_title('Class: MJ')\n",
    "ax.legend()\n",
    "\n",
    "ax = plt.subplot(223)\n",
    "ax.hist(predicted_tmva_weights[perf_events_class.Class == 2], label=('BiB', \"MJ\", 'HSS'), bins=50, histtype = 'step', range=[0.3, 0.37])\n",
    "ax.set_xlabel('Weight')\n",
    "ax.set_title('Class: HSS')\n",
    "ax.legend()"
   ]
  },
  {
   "cell_type": "markdown",
   "metadata": {},
   "source": [
    "Note in this version how everything is on top of itself. :("
   ]
  },
  {
   "cell_type": "code",
   "execution_count": null,
   "metadata": {},
   "outputs": [],
   "source": []
  }
 ],
 "metadata": {
  "kernelspec": {
   "display_name": "Python 3",
   "language": "python",
   "name": "python3"
  },
  "language_info": {
   "codemirror_mode": {
    "name": "ipython",
    "version": 3
   },
   "file_extension": ".py",
   "mimetype": "text/x-python",
   "name": "python",
   "nbconvert_exporter": "python",
   "pygments_lexer": "ipython3",
   "version": "3.6.5"
  }
 },
 "nbformat": 4,
 "nbformat_minor": 2
}
