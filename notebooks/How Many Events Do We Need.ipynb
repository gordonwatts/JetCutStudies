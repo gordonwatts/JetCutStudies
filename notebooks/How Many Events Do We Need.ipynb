{
 "cells": [
  {
   "cell_type": "markdown",
   "metadata": {},
   "source": [
    "# How Many Events Are Good Enough?\n",
    "The number of events directly affects the length of training. This notebook will explore a bit how the performance varies as the number of events. There are two things that need to be explored to understand this:\n",
    "\n",
    "- How stable is a run?\n",
    "- How many events are needed?"
   ]
  },
  {
   "cell_type": "markdown",
   "metadata": {},
   "source": [
    "## Initalization"
   ]
  },
  {
   "cell_type": "code",
   "execution_count": 6,
   "metadata": {
    "collapsed": true
   },
   "outputs": [],
   "source": [
    "from bdt_training_scikit_tools import plot_training_performance, load_default_samples, test_train_samples, prep_samples, default_training, calc_performance, calc_performance_for_run\n",
    "import matplotlib.pyplot as plt\n",
    "import pandas as pd\n",
    "import numpy as np"
   ]
  },
  {
   "cell_type": "markdown",
   "metadata": {},
   "source": [
    "## Load Data Samples\n",
    "Load all the data we need."
   ]
  },
  {
   "cell_type": "code",
   "execution_count": 7,
   "metadata": {
    "collapsed": true
   },
   "outputs": [],
   "source": [
    "def fraction (fractionGoal):\n",
    "    '''Return a function that will take from a randomly distributed number a fraction of events.\n",
    "    Meant to be used against an EventNumber to evenly pair down the number of events.\n",
    "    \n",
    "    Args\n",
    "        fractionGoal - the fraction of events we'd like to see\n",
    "        \n",
    "    Returns\n",
    "        func - A function that will return True or False when given an event number. True, then keep the event.\n",
    "    '''\n",
    "    if (fractionGoal < 0) | (fractionGoal > 1.0):\n",
    "        raise Exception(\"Fraction must be between 0.0 and 1.0 (not {0})\".format(fractionGoal))\n",
    "        \n",
    "    seq = ()\n",
    "    fg = fractionGoal\n",
    "    maxCount = 300\n",
    "    for i in range(1, maxCount):\n",
    "        frac = 1.0/i\n",
    "        if frac <= fg:\n",
    "            seq = seq + (i,)\n",
    "            remainingSequence = [i for i in range(maxCount) if len([j for j in seq if i%j == 0]) != 0]\n",
    "            actualFraction = len(remainingSequence)/maxCount\n",
    "            fg = fractionGoal - actualFraction\n",
    "\n",
    "    return seq\n",
    "    #return lambda x: len([i for i in seq if x%i == 0]) != 0\n",
    "    #return lambda x: x%i == 0"
   ]
  },
  {
   "cell_type": "code",
   "execution_count": 8,
   "metadata": {},
   "outputs": [
    {
     "name": "stdout",
     "output_type": "stream",
     "text": [
      "BIB: 100000 events\n",
      "Multijet: 100000 events\n",
      "Signal: 100000 events\n"
     ]
    }
   ],
   "source": [
    "all_events = load_default_samples(\"20\")"
   ]
  },
  {
   "cell_type": "markdown",
   "metadata": {},
   "source": [
    "Some memory load information from the above. These numbers are pulled from the task manager display on Windows 10, Fall creators update.\n",
    "\n",
    "- 100K events each for BIB, MJ, and Signal: 275 MB\n",
    "- 600K events each for BIB, MJ, and Signal: 600 MB"
   ]
  },
  {
   "cell_type": "code",
   "execution_count": 25,
   "metadata": {
    "collapsed": true
   },
   "outputs": [],
   "source": [
    "def calcDFFilter (df, seq):\n",
    "    gf, *gfRest = [df.EventNumber%i!=0 for i in seq]\n",
    "    for g in gfRest:\n",
    "        gf = gf & g\n",
    "    return gf\n",
    "\n",
    "def get_fraction_of_events(events, fractionToUse):\n",
    "    '''Return a fraction of all events as training and testing samples.\n",
    "    \n",
    "    Args\n",
    "        fractionToUse - fraction of the full datasample we should be using\n",
    "        \n",
    "    Returns\n",
    "        training - Training tripple of events (bib, mj, sig)\n",
    "        testing - Testing tripple of events (bib, mj, sig)\n",
    "    \n",
    "    '''\n",
    "    # Create the per event filter. We have to do this against each\n",
    "    # of the three input samples.\n",
    "    seq = fraction(fractionToUse)\n",
    "    fracFilters = [calcDFFilter(df, seq) for df in events]\n",
    "\n",
    "    fraction_events = [dfi[1][dfi[0]] for dfi in zip(fracFilters,events)]\n",
    "    return test_train_samples(fraction_events)"
   ]
  },
  {
   "cell_type": "markdown",
   "metadata": {},
   "source": [
    "## Stability\n",
    "Look at the stability of a run by repeating a training for a given fraction of events"
   ]
  },
  {
   "cell_type": "code",
   "execution_count": 38,
   "metadata": {
    "collapsed": true
   },
   "outputs": [],
   "source": [
    "def stability_run (train, testing, nRuns):\n",
    "    '''Run the same training n-times\n",
    "    \n",
    "    Args\n",
    "        train - (bib, mj, sig), which each one the full DF of all events to train on (including weights)\n",
    "        testing - (bib, mj, sig), which each one the full DF of all events to train on (including weights)\n",
    "        nRuns - How many times shall we repeat the training?\n",
    "    \n",
    "    Results\n",
    "        [i,...] - i is the dict from calc_performance with all the results\n",
    "    \n",
    "    '''\n",
    "    \n",
    "    # Prep the events for running\n",
    "    all_events, all_events_class, training_weight, evaluation_weight = prep_samples(train[0], train[1], train[2])\n",
    "    \n",
    "    # Build a list of the results\n",
    "    return [calc_performance(default_training(all_events, training_weight, all_events_class), testing) for i in range(nRuns)]"
   ]
  },
  {
   "cell_type": "code",
   "execution_count": 39,
   "metadata": {},
   "outputs": [],
   "source": [
    "training, testing = get_fraction_of_events(all_events, 0.5)"
   ]
  },
  {
   "cell_type": "code",
   "execution_count": 49,
   "metadata": {},
   "outputs": [
    {
     "name": "stdout",
     "output_type": "stream",
     "text": [
      "Wall time: 2min 55s\n"
     ]
    }
   ],
   "source": [
    "%%time\n",
    "r = stability_run(training, testing, 10)"
   ]
  },
  {
   "cell_type": "code",
   "execution_count": 50,
   "metadata": {},
   "outputs": [
    {
     "data": {
      "text/plain": [
       "0    14.093197\n",
       "1    14.093197\n",
       "2    14.093197\n",
       "3    14.093197\n",
       "4    14.093197\n",
       "5    14.093197\n",
       "6    14.093197\n",
       "7    14.093197\n",
       "8    14.093197\n",
       "9    14.093197\n",
       "Name: HSSSsqrtB, dtype: float64"
      ]
     },
     "execution_count": 50,
     "metadata": {},
     "output_type": "execute_result"
    }
   ],
   "source": [
    "results = pd.DataFrame(r)\n",
    "results.HSSSsqrtB"
   ]
  },
  {
   "cell_type": "markdown",
   "metadata": {},
   "source": [
    "Conclusion from this: *BDT Boosting is deterministic*\n",
    "\n",
    "- We don't have to worry about multiple runs to tell things apart\n",
    "- We do have to be a little more serious about how we treat differences between runs now."
   ]
  },
  {
   "cell_type": "code",
   "execution_count": null,
   "metadata": {
    "collapsed": true
   },
   "outputs": [],
   "source": []
  }
 ],
 "metadata": {
  "kernelspec": {
   "display_name": "Python 3",
   "language": "python",
   "name": "python3"
  },
  "language_info": {
   "codemirror_mode": {
    "name": "ipython",
    "version": 3
   },
   "file_extension": ".py",
   "mimetype": "text/x-python",
   "name": "python",
   "nbconvert_exporter": "python",
   "pygments_lexer": "ipython3",
   "version": "3.6.3"
  }
 },
 "nbformat": 4,
 "nbformat_minor": 2
}
