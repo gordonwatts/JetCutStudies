{
 "cells": [
  {
   "cell_type": "markdown",
   "metadata": {},
   "source": [
    "# How Many Events Are Good Enough?\n",
    "The number of events directly affects the length of training. This notebook will explore a bit how the performance varies as the number of events. There are two things that need to be explored to understand this:\n",
    "\n",
    "- How stable is a run?\n",
    "- How many events are needed?"
   ]
  },
  {
   "cell_type": "markdown",
   "metadata": {},
   "source": [
    "## Initalization"
   ]
  },
  {
   "cell_type": "code",
   "execution_count": 6,
   "metadata": {
    "collapsed": true
   },
   "outputs": [],
   "source": [
    "from bdt_training_scikit_tools import plot_training_performance, load_default_samples, test_train_samples, prep_samples, default_training, calc_performance, calc_performance_for_run\n",
    "import matplotlib.pyplot as plt\n",
    "import pandas as pd\n",
    "import numpy as np"
   ]
  },
  {
   "cell_type": "markdown",
   "metadata": {},
   "source": [
    "## Load Data Samples\n",
    "Load all the data we need."
   ]
  },
  {
   "cell_type": "code",
   "execution_count": 70,
   "metadata": {
    "collapsed": true
   },
   "outputs": [],
   "source": [
    "def fraction (fractionGoal):\n",
    "    '''Return a function that will take from a randomly distributed number a fraction of events.\n",
    "    Meant to be used against an EventNumber to evenly pair down the number of events.\n",
    "    \n",
    "    Args\n",
    "        fractionGoal - the fraction of events we'd like to see\n",
    "        \n",
    "    Returns\n",
    "        func - A function that will return True or False when given an event number. True, then keep the event.\n",
    "    '''\n",
    "    if (fractionGoal < 0) | (fractionGoal > 1.0):\n",
    "        raise Exception(\"Fraction must be between 0.0 and 1.0 (not {0})\".format(fractionGoal))\n",
    "        \n",
    "    seq = ()\n",
    "    fg = fractionGoal\n",
    "    maxCount = 300\n",
    "    for i in range(1, maxCount):\n",
    "        frac = 1.0/i\n",
    "        if frac <= fg:\n",
    "            seq = seq + (i,)\n",
    "            remainingSequence = [i for i in range(maxCount) if len([j for j in seq if i%j == 0]) != 0]\n",
    "            actualFraction = len(remainingSequence)/maxCount\n",
    "            fg = fractionGoal - actualFraction\n",
    "\n",
    "    return seq\n",
    "    #return lambda x: len([i for i in seq if x%i == 0]) != 0\n",
    "    #return lambda x: x%i == 0"
   ]
  },
  {
   "cell_type": "code",
   "execution_count": 128,
   "metadata": {},
   "outputs": [
    {
     "name": "stdout",
     "output_type": "stream",
     "text": [
      "BIB: 600000 events\n",
      "Multijet: 600000 events\n",
      "Signal: 600000 events\n"
     ]
    }
   ],
   "source": [
    "all_events = load_default_samples(\"24\")"
   ]
  },
  {
   "cell_type": "markdown",
   "metadata": {},
   "source": [
    "Some memory load information from the above. These numbers are pulled from the task manager display on Windows 10, Fall creators update.\n",
    "\n",
    "- 100K events each for BIB, MJ, and Signal: 275 MB\n",
    "- 600K events each for BIB, MJ, and Signal: 600 MB"
   ]
  },
  {
   "cell_type": "code",
   "execution_count": 83,
   "metadata": {
    "collapsed": true
   },
   "outputs": [],
   "source": [
    "def calcDFFilter (df, seq):\n",
    "    gf, *gfRest = [df.EventNumber%i==0 for i in seq]\n",
    "    for g in gfRest:\n",
    "        gf = gf | g\n",
    "    return gf\n",
    "\n",
    "def get_fraction_of_events(events, fractionToUse):\n",
    "    '''Return a fraction of all events as training and testing samples.\n",
    "    \n",
    "    Args\n",
    "        fractionToUse - fraction of the full datasample we should be using\n",
    "        \n",
    "    Returns\n",
    "        training - Training tripple of events (bib, mj, sig)\n",
    "        testing - Testing tripple of events (bib, mj, sig)\n",
    "    \n",
    "    '''\n",
    "    # Create the per event filter. We have to do this against each\n",
    "    # of the three input samples.\n",
    "    seq = fraction(fractionToUse)\n",
    "    fracFilters = [calcDFFilter(df, seq) for df in events]\n",
    "\n",
    "    fraction_events = [dfi[1][dfi[0]] for dfi in zip(fracFilters,events)]\n",
    "    return test_train_samples(fraction_events)"
   ]
  },
  {
   "cell_type": "markdown",
   "metadata": {},
   "source": [
    "## Stability\n",
    "Look at the stability of a run by repeating a training for a given fraction of events"
   ]
  },
  {
   "cell_type": "code",
   "execution_count": 38,
   "metadata": {
    "collapsed": true
   },
   "outputs": [],
   "source": [
    "def stability_run (train, testing, nRuns):\n",
    "    '''Run the same training n-times\n",
    "    \n",
    "    Args\n",
    "        train - (bib, mj, sig), which each one the full DF of all events to train on (including weights)\n",
    "        testing - (bib, mj, sig), which each one the full DF of all events to train on (including weights)\n",
    "        nRuns - How many times shall we repeat the training?\n",
    "    \n",
    "    Results\n",
    "        [i,...] - i is the dict from calc_performance with all the results\n",
    "    \n",
    "    '''\n",
    "    \n",
    "    # Prep the events for running\n",
    "    all_events, all_events_class, training_weight, evaluation_weight = prep_samples(train[0], train[1], train[2])\n",
    "    \n",
    "    # Build a list of the results\n",
    "    return [calc_performance(default_training(all_events, training_weight, all_events_class), testing) for i in range(nRuns)]"
   ]
  },
  {
   "cell_type": "code",
   "execution_count": 39,
   "metadata": {
    "collapsed": true
   },
   "outputs": [],
   "source": [
    "training, testing = get_fraction_of_events(all_events, 0.5)"
   ]
  },
  {
   "cell_type": "code",
   "execution_count": 49,
   "metadata": {},
   "outputs": [
    {
     "name": "stdout",
     "output_type": "stream",
     "text": [
      "Wall time: 2min 55s\n"
     ]
    }
   ],
   "source": [
    "%%time\n",
    "r = stability_run(training, testing, 10)"
   ]
  },
  {
   "cell_type": "code",
   "execution_count": 50,
   "metadata": {},
   "outputs": [
    {
     "data": {
      "text/plain": [
       "0    14.093197\n",
       "1    14.093197\n",
       "2    14.093197\n",
       "3    14.093197\n",
       "4    14.093197\n",
       "5    14.093197\n",
       "6    14.093197\n",
       "7    14.093197\n",
       "8    14.093197\n",
       "9    14.093197\n",
       "Name: HSSSsqrtB, dtype: float64"
      ]
     },
     "execution_count": 50,
     "metadata": {},
     "output_type": "execute_result"
    }
   ],
   "source": [
    "results = pd.DataFrame(r)\n",
    "results.HSSSsqrtB"
   ]
  },
  {
   "cell_type": "markdown",
   "metadata": {},
   "source": [
    "Conclusion from this: *BDT Boosting is deterministic*\n",
    "\n",
    "- We don't have to worry about multiple runs to tell things apart\n",
    "- We do have to be a little more serious about how we treat differences between runs now."
   ]
  },
  {
   "cell_type": "markdown",
   "metadata": {},
   "source": [
    "## Evolution of S/sqrt(B) with number of events\n",
    "The real question here is: how few events can we run on?\n",
    "\n",
    "- We really want to be able to remove variables from the training with as few events as possible and get reasonable results\n",
    "- We can also look at the stability of the S/sqrt(B) as a function of the number of events.\n",
    "\n",
    "We'll start with the simple stuff. How does the number of s/sqrtB evolve with the number of events?"
   ]
  },
  {
   "cell_type": "code",
   "execution_count": 133,
   "metadata": {
    "collapsed": true
   },
   "outputs": [],
   "source": [
    "def run_trends (events, fraction_list):\n",
    "    '''Run the same training, and split events each time\n",
    "    \n",
    "    Args\n",
    "        events - (bib, mj, sig), all events (will be split as usual into test and train)\n",
    "        fraction_list - a list of floating (0.0-1.0) of the number of events we want to look at\n",
    "    \n",
    "    Results\n",
    "        dict - dict of dicts. Indexed by # of training events for signal, and the dict is the usual\n",
    "                output of calc_performance.\n",
    "    \n",
    "    '''\n",
    "    \n",
    "    result = {}\n",
    "    train_all, test_all = get_fraction_of_events(events, 1.0)\n",
    "\n",
    "    for f in fraction_list:\n",
    "        train, test = get_fraction_of_events(events, f)\n",
    "    \n",
    "        # Prep the events for running\n",
    "        all_events, all_events_class, training_weight, evaluation_weight = prep_samples(train[0], train[1], train[2])\n",
    "    \n",
    "        # Build a list of the results\n",
    "        r = calc_performance(default_training(all_events, training_weight, all_events_class), test_all)\n",
    "        result[len(all_events[all_events_class.Class == 2].index)] = r\n",
    "        \n",
    "    return result"
   ]
  },
  {
   "cell_type": "code",
   "execution_count": 134,
   "metadata": {},
   "outputs": [
    {
     "name": "stdout",
     "output_type": "stream",
     "text": [
      "Wall time: 3h 11min 51s\n"
     ]
    }
   ],
   "source": [
    "%%time\n",
    "r = run_trends(all_events, [1.0, 0.75, 0.50, 0.30, 0.20, 0.10])"
   ]
  },
  {
   "cell_type": "code",
   "execution_count": 135,
   "metadata": {},
   "outputs": [
    {
     "data": {
      "text/html": [
       "<div>\n",
       "<style>\n",
       "    .dataframe thead tr:only-child th {\n",
       "        text-align: right;\n",
       "    }\n",
       "\n",
       "    .dataframe thead th {\n",
       "        text-align: left;\n",
       "    }\n",
       "\n",
       "    .dataframe tbody tr th {\n",
       "        vertical-align: top;\n",
       "    }\n",
       "</style>\n",
       "<table border=\"1\" class=\"dataframe\">\n",
       "  <thead>\n",
       "    <tr style=\"text-align: right;\">\n",
       "      <th></th>\n",
       "      <th>39585</th>\n",
       "      <th>79716</th>\n",
       "      <th>105097</th>\n",
       "      <th>199406</th>\n",
       "      <th>296957</th>\n",
       "      <th>399384</th>\n",
       "    </tr>\n",
       "  </thead>\n",
       "  <tbody>\n",
       "    <tr>\n",
       "      <th>BIBBack</th>\n",
       "      <td>1.373959e+08</td>\n",
       "      <td>1.133564e+08</td>\n",
       "      <td>1.095078e+08</td>\n",
       "      <td>9.425837e+07</td>\n",
       "      <td>9.091267e+07</td>\n",
       "      <td>8.716035e+07</td>\n",
       "    </tr>\n",
       "    <tr>\n",
       "      <th>BIBEff</th>\n",
       "      <td>6.710941e-01</td>\n",
       "      <td>6.474090e-01</td>\n",
       "      <td>6.356415e-01</td>\n",
       "      <td>6.505684e-01</td>\n",
       "      <td>6.438198e-01</td>\n",
       "      <td>6.285180e-01</td>\n",
       "    </tr>\n",
       "    <tr>\n",
       "      <th>BIBSsqrtB</th>\n",
       "      <td>1.145296e+01</td>\n",
       "      <td>1.216401e+01</td>\n",
       "      <td>1.215097e+01</td>\n",
       "      <td>1.340461e+01</td>\n",
       "      <td>1.350745e+01</td>\n",
       "      <td>1.346727e+01</td>\n",
       "    </tr>\n",
       "    <tr>\n",
       "      <th>BIBTotalCount</th>\n",
       "      <td>2.000420e+05</td>\n",
       "      <td>2.000420e+05</td>\n",
       "      <td>2.000420e+05</td>\n",
       "      <td>2.000420e+05</td>\n",
       "      <td>2.000420e+05</td>\n",
       "      <td>2.000420e+05</td>\n",
       "    </tr>\n",
       "    <tr>\n",
       "      <th>BIBTotalWeight</th>\n",
       "      <td>2.000420e+05</td>\n",
       "      <td>2.000420e+05</td>\n",
       "      <td>2.000420e+05</td>\n",
       "      <td>2.000420e+05</td>\n",
       "      <td>2.000420e+05</td>\n",
       "      <td>2.000420e+05</td>\n",
       "    </tr>\n",
       "    <tr>\n",
       "      <th>BIBinBIB</th>\n",
       "      <td>1.342470e+05</td>\n",
       "      <td>1.295090e+05</td>\n",
       "      <td>1.271550e+05</td>\n",
       "      <td>1.301410e+05</td>\n",
       "      <td>1.287910e+05</td>\n",
       "      <td>1.257300e+05</td>\n",
       "    </tr>\n",
       "    <tr>\n",
       "      <th>BIBinHSS</th>\n",
       "      <td>1.232700e+04</td>\n",
       "      <td>1.122600e+04</td>\n",
       "      <td>1.344900e+04</td>\n",
       "      <td>9.967000e+03</td>\n",
       "      <td>9.430000e+03</td>\n",
       "      <td>1.153600e+04</td>\n",
       "    </tr>\n",
       "    <tr>\n",
       "      <th>BIBinMJ</th>\n",
       "      <td>5.346800e+04</td>\n",
       "      <td>5.930700e+04</td>\n",
       "      <td>5.943800e+04</td>\n",
       "      <td>5.993400e+04</td>\n",
       "      <td>6.182100e+04</td>\n",
       "      <td>6.277600e+04</td>\n",
       "    </tr>\n",
       "    <tr>\n",
       "      <th>HSSBack</th>\n",
       "      <td>1.279677e+07</td>\n",
       "      <td>1.363390e+07</td>\n",
       "      <td>1.576522e+07</td>\n",
       "      <td>1.282616e+07</td>\n",
       "      <td>1.296408e+07</td>\n",
       "      <td>1.295227e+07</td>\n",
       "    </tr>\n",
       "    <tr>\n",
       "      <th>HSSEff</th>\n",
       "      <td>9.429507e-01</td>\n",
       "      <td>9.533238e-01</td>\n",
       "      <td>9.635224e-01</td>\n",
       "      <td>9.400546e-01</td>\n",
       "      <td>9.567931e-01</td>\n",
       "      <td>9.578747e-01</td>\n",
       "    </tr>\n",
       "    <tr>\n",
       "      <th>HSSSsqrtB</th>\n",
       "      <td>5.288157e+01</td>\n",
       "      <td>5.179597e+01</td>\n",
       "      <td>4.868300e+01</td>\n",
       "      <td>5.265872e+01</td>\n",
       "      <td>5.331049e+01</td>\n",
       "      <td>5.339509e+01</td>\n",
       "    </tr>\n",
       "    <tr>\n",
       "      <th>HSSTotalCount</th>\n",
       "      <td>2.006160e+05</td>\n",
       "      <td>2.006160e+05</td>\n",
       "      <td>2.006160e+05</td>\n",
       "      <td>2.006160e+05</td>\n",
       "      <td>2.006160e+05</td>\n",
       "      <td>2.006160e+05</td>\n",
       "    </tr>\n",
       "    <tr>\n",
       "      <th>HSSTotalWeight</th>\n",
       "      <td>2.006160e+05</td>\n",
       "      <td>2.006160e+05</td>\n",
       "      <td>2.006160e+05</td>\n",
       "      <td>2.006160e+05</td>\n",
       "      <td>2.006160e+05</td>\n",
       "      <td>2.006160e+05</td>\n",
       "    </tr>\n",
       "    <tr>\n",
       "      <th>HSSinBIB</th>\n",
       "      <td>8.920000e+03</td>\n",
       "      <td>6.809000e+03</td>\n",
       "      <td>4.471000e+03</td>\n",
       "      <td>9.278000e+03</td>\n",
       "      <td>6.022000e+03</td>\n",
       "      <td>5.746000e+03</td>\n",
       "    </tr>\n",
       "    <tr>\n",
       "      <th>HSSinHSS</th>\n",
       "      <td>1.891710e+05</td>\n",
       "      <td>1.912520e+05</td>\n",
       "      <td>1.932980e+05</td>\n",
       "      <td>1.885900e+05</td>\n",
       "      <td>1.919480e+05</td>\n",
       "      <td>1.921650e+05</td>\n",
       "    </tr>\n",
       "    <tr>\n",
       "      <th>HSSinMJ</th>\n",
       "      <td>2.525000e+03</td>\n",
       "      <td>2.555000e+03</td>\n",
       "      <td>2.847000e+03</td>\n",
       "      <td>2.748000e+03</td>\n",
       "      <td>2.646000e+03</td>\n",
       "      <td>2.705000e+03</td>\n",
       "    </tr>\n",
       "    <tr>\n",
       "      <th>MJBack</th>\n",
       "      <td>5.599300e+04</td>\n",
       "      <td>6.186200e+04</td>\n",
       "      <td>6.228500e+04</td>\n",
       "      <td>6.268200e+04</td>\n",
       "      <td>6.446700e+04</td>\n",
       "      <td>6.548100e+04</td>\n",
       "    </tr>\n",
       "    <tr>\n",
       "      <th>MJEff</th>\n",
       "      <td>4.439562e-01</td>\n",
       "      <td>5.298562e-01</td>\n",
       "      <td>5.362143e-01</td>\n",
       "      <td>6.035664e-01</td>\n",
       "      <td>6.154299e-01</td>\n",
       "      <td>6.293743e-01</td>\n",
       "    </tr>\n",
       "    <tr>\n",
       "      <th>MJSsqrtB</th>\n",
       "      <td>5.067008e+05</td>\n",
       "      <td>5.753396e+05</td>\n",
       "      <td>5.802631e+05</td>\n",
       "      <td>6.510763e+05</td>\n",
       "      <td>6.546183e+05</td>\n",
       "      <td>6.642470e+05</td>\n",
       "    </tr>\n",
       "    <tr>\n",
       "      <th>MJTotalCount</th>\n",
       "      <td>1.999740e+05</td>\n",
       "      <td>1.999740e+05</td>\n",
       "      <td>1.999740e+05</td>\n",
       "      <td>1.999740e+05</td>\n",
       "      <td>1.999740e+05</td>\n",
       "      <td>1.999740e+05</td>\n",
       "    </tr>\n",
       "    <tr>\n",
       "      <th>MJTotalWeight</th>\n",
       "      <td>2.700712e+08</td>\n",
       "      <td>2.700712e+08</td>\n",
       "      <td>2.700712e+08</td>\n",
       "      <td>2.700712e+08</td>\n",
       "      <td>2.700712e+08</td>\n",
       "      <td>2.700712e+08</td>\n",
       "    </tr>\n",
       "    <tr>\n",
       "      <th>MJinBIB</th>\n",
       "      <td>1.373870e+08</td>\n",
       "      <td>1.133496e+08</td>\n",
       "      <td>1.095034e+08</td>\n",
       "      <td>9.424909e+07</td>\n",
       "      <td>9.090665e+07</td>\n",
       "      <td>8.715460e+07</td>\n",
       "    </tr>\n",
       "    <tr>\n",
       "      <th>MJinHSS</th>\n",
       "      <td>1.278444e+07</td>\n",
       "      <td>1.362267e+07</td>\n",
       "      <td>1.575177e+07</td>\n",
       "      <td>1.281620e+07</td>\n",
       "      <td>1.295465e+07</td>\n",
       "      <td>1.294073e+07</td>\n",
       "    </tr>\n",
       "    <tr>\n",
       "      <th>MJinMJ</th>\n",
       "      <td>1.198998e+08</td>\n",
       "      <td>1.430989e+08</td>\n",
       "      <td>1.448161e+08</td>\n",
       "      <td>1.630059e+08</td>\n",
       "      <td>1.662099e+08</td>\n",
       "      <td>1.699759e+08</td>\n",
       "    </tr>\n",
       "  </tbody>\n",
       "</table>\n",
       "</div>"
      ],
      "text/plain": [
       "                      39585         79716         105097        199406  \\\n",
       "BIBBack         1.373959e+08  1.133564e+08  1.095078e+08  9.425837e+07   \n",
       "BIBEff          6.710941e-01  6.474090e-01  6.356415e-01  6.505684e-01   \n",
       "BIBSsqrtB       1.145296e+01  1.216401e+01  1.215097e+01  1.340461e+01   \n",
       "BIBTotalCount   2.000420e+05  2.000420e+05  2.000420e+05  2.000420e+05   \n",
       "BIBTotalWeight  2.000420e+05  2.000420e+05  2.000420e+05  2.000420e+05   \n",
       "BIBinBIB        1.342470e+05  1.295090e+05  1.271550e+05  1.301410e+05   \n",
       "BIBinHSS        1.232700e+04  1.122600e+04  1.344900e+04  9.967000e+03   \n",
       "BIBinMJ         5.346800e+04  5.930700e+04  5.943800e+04  5.993400e+04   \n",
       "HSSBack         1.279677e+07  1.363390e+07  1.576522e+07  1.282616e+07   \n",
       "HSSEff          9.429507e-01  9.533238e-01  9.635224e-01  9.400546e-01   \n",
       "HSSSsqrtB       5.288157e+01  5.179597e+01  4.868300e+01  5.265872e+01   \n",
       "HSSTotalCount   2.006160e+05  2.006160e+05  2.006160e+05  2.006160e+05   \n",
       "HSSTotalWeight  2.006160e+05  2.006160e+05  2.006160e+05  2.006160e+05   \n",
       "HSSinBIB        8.920000e+03  6.809000e+03  4.471000e+03  9.278000e+03   \n",
       "HSSinHSS        1.891710e+05  1.912520e+05  1.932980e+05  1.885900e+05   \n",
       "HSSinMJ         2.525000e+03  2.555000e+03  2.847000e+03  2.748000e+03   \n",
       "MJBack          5.599300e+04  6.186200e+04  6.228500e+04  6.268200e+04   \n",
       "MJEff           4.439562e-01  5.298562e-01  5.362143e-01  6.035664e-01   \n",
       "MJSsqrtB        5.067008e+05  5.753396e+05  5.802631e+05  6.510763e+05   \n",
       "MJTotalCount    1.999740e+05  1.999740e+05  1.999740e+05  1.999740e+05   \n",
       "MJTotalWeight   2.700712e+08  2.700712e+08  2.700712e+08  2.700712e+08   \n",
       "MJinBIB         1.373870e+08  1.133496e+08  1.095034e+08  9.424909e+07   \n",
       "MJinHSS         1.278444e+07  1.362267e+07  1.575177e+07  1.281620e+07   \n",
       "MJinMJ          1.198998e+08  1.430989e+08  1.448161e+08  1.630059e+08   \n",
       "\n",
       "                      296957        399384  \n",
       "BIBBack         9.091267e+07  8.716035e+07  \n",
       "BIBEff          6.438198e-01  6.285180e-01  \n",
       "BIBSsqrtB       1.350745e+01  1.346727e+01  \n",
       "BIBTotalCount   2.000420e+05  2.000420e+05  \n",
       "BIBTotalWeight  2.000420e+05  2.000420e+05  \n",
       "BIBinBIB        1.287910e+05  1.257300e+05  \n",
       "BIBinHSS        9.430000e+03  1.153600e+04  \n",
       "BIBinMJ         6.182100e+04  6.277600e+04  \n",
       "HSSBack         1.296408e+07  1.295227e+07  \n",
       "HSSEff          9.567931e-01  9.578747e-01  \n",
       "HSSSsqrtB       5.331049e+01  5.339509e+01  \n",
       "HSSTotalCount   2.006160e+05  2.006160e+05  \n",
       "HSSTotalWeight  2.006160e+05  2.006160e+05  \n",
       "HSSinBIB        6.022000e+03  5.746000e+03  \n",
       "HSSinHSS        1.919480e+05  1.921650e+05  \n",
       "HSSinMJ         2.646000e+03  2.705000e+03  \n",
       "MJBack          6.446700e+04  6.548100e+04  \n",
       "MJEff           6.154299e-01  6.293743e-01  \n",
       "MJSsqrtB        6.546183e+05  6.642470e+05  \n",
       "MJTotalCount    1.999740e+05  1.999740e+05  \n",
       "MJTotalWeight   2.700712e+08  2.700712e+08  \n",
       "MJinBIB         9.090665e+07  8.715460e+07  \n",
       "MJinHSS         1.295465e+07  1.294073e+07  \n",
       "MJinMJ          1.662099e+08  1.699759e+08  "
      ]
     },
     "execution_count": 135,
     "metadata": {},
     "output_type": "execute_result"
    }
   ],
   "source": [
    "rdf = pd.DataFrame(r)\n",
    "rdf"
   ]
  },
  {
   "cell_type": "code",
   "execution_count": 162,
   "metadata": {},
   "outputs": [
    {
     "data": {
      "text/plain": [
       "39585     1.278444e+07\n",
       "79716     1.362267e+07\n",
       "105097    1.575177e+07\n",
       "199406    1.281620e+07\n",
       "296957    1.295465e+07\n",
       "399384    1.294073e+07\n",
       "Name: MJinHSS, dtype: float64"
      ]
     },
     "execution_count": 162,
     "metadata": {},
     "output_type": "execute_result"
    }
   ],
   "source": [
    "rdf.loc['MJinHSS']"
   ]
  },
  {
   "cell_type": "code",
   "execution_count": 173,
   "metadata": {},
   "outputs": [
    {
     "data": {
      "image/png": "[encoded data removed]",
      "text/plain": [
       "<matplotlib.figure.Figure at 0x1e8002aca58>"
      ]
     },
     "metadata": {},
     "output_type": "display_data"
    }
   ],
   "source": [
    "f = plt.figure(figsize=(10,15))\n",
    "ax = plt.subplot(311)\n",
    "plt.plot(rdf.columns, rdf.loc['HSSSsqrtB'])\n",
    "ax.set_ylim(0.0, plt.ylim()[1])\n",
    "ax.set_xlabel(\"Traning Events\")\n",
    "ax.set_ylabel(\"HSS Sig/sqrt(B)\")\n",
    "\n",
    "ax2 = plt.subplot(312)\n",
    "plt.plot(rdf.columns, rdf.loc['HSSEff'], label='HSS Efficiency')\n",
    "plt.plot(rdf.columns, rdf.loc['BIBinHSS']/rdf.loc['BIBTotalWeight'], label='BIB Efficiency in HSS')\n",
    "plt.plot(rdf.columns, rdf.loc['MJinHSS']/rdf.loc['MJTotalWeight'], label='MJ Efficiency in HSS')\n",
    "ax2.set_ylim(0.01, 2.0)\n",
    "ax2.set_xlabel(\"Traning Events\")\n",
    "ax2.set_ylabel(\"Efficiency\")\n",
    "ax2.set_yscale('log')\n",
    "ax2.legend()\n",
    "\n",
    "ax2 = plt.subplot(313)\n",
    "plt.plot(rdf.columns, rdf.loc['HSSEff'], label='HSS Efficiency')\n",
    "plt.plot(rdf.columns, rdf.loc['BIBinHSS']/rdf.loc['BIBTotalWeight'], label='BIB Efficiency in HSS')\n",
    "plt.plot(rdf.columns, rdf.loc['MJinHSS']/rdf.loc['MJTotalWeight'], label='MJ Efficiency in HSS')\n",
    "ax2.set_ylim(0, 1.2)\n",
    "ax2.set_xlabel(\"Traning Events\")\n",
    "ax2.set_ylabel(\"Efficiency\")\n",
    "ax2.legend()\n",
    "\n",
    "plt.show()"
   ]
  }
 ],
 "metadata": {
  "kernelspec": {
   "display_name": "Python 3",
   "language": "python",
   "name": "python3"
  },
  "language_info": {
   "codemirror_mode": {
    "name": "ipython",
    "version": 3
   },
   "file_extension": ".py",
   "mimetype": "text/x-python",
   "name": "python",
   "nbconvert_exporter": "python",
   "pygments_lexer": "ipython3",
   "version": "3.6.3"
  }
 },
 "nbformat": 4,
 "nbformat_minor": 2
}
