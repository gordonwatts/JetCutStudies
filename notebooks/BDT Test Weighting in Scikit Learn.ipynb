{
 "cells": [
  {
   "cell_type": "markdown",
   "metadata": {},
   "source": [
    "# How does training with weight affect the results?\n",
    "\n",
    "To understand this we need to look at a few things:\n",
    "\n",
    "- Training with weighting turned on and off\n",
    "- Evaluating with weight turned on and off\n",
    "\n",
    "And there are two different weights we have to look at:\n",
    "\n",
    "- multijet cross section weight per sample.\n",
    "- Flatten by pT weight\n",
    "\n",
    "To really do this right, we need to explore all of this."
   ]
  },
  {
   "cell_type": "markdown",
   "metadata": {},
   "source": [
    "## Initalization"
   ]
  },
  {
   "cell_type": "code",
   "execution_count": 1,
   "metadata": {
    "collapsed": true
   },
   "outputs": [],
   "source": [
    "import bdt_training_scikit_tools\n",
    "\n",
    "import matplotlib.pyplot as plt\n",
    "import pandas as pd\n",
    "import numpy as np\n",
    "\n",
    "from math import sqrt\n",
    "\n",
    "from sklearn.ensemble import AdaBoostClassifier\n",
    "from sklearn.metrics import accuracy_score\n",
    "from sklearn.tree import DecisionTreeClassifier"
   ]
  },
  {
   "cell_type": "markdown",
   "metadata": {},
   "source": [
    "## Load data samples\n",
    "Load up the following:\n",
    "\n",
    "- Job 8: Standard weights, with flat in pT"
   ]
  },
  {
   "cell_type": "code",
   "execution_count": 2,
   "metadata": {
    "scrolled": true
   },
   "outputs": [
    {
     "name": "stdout",
     "output_type": "stream",
     "text": [
      "BIB length: 156359\n",
      "Multijet length: 1499995\n",
      "Signal length: 1322937\n"
     ]
    }
   ],
   "source": [
    "flat_samples = bdt_training_scikit_tools.load_default_samples(\"8\")"
   ]
  },
  {
   "cell_type": "markdown",
   "metadata": {},
   "source": [
    "## Training with the Flattened Weighted Sample"
   ]
  },
  {
   "cell_type": "code",
   "execution_count": 3,
   "metadata": {
    "collapsed": true
   },
   "outputs": [],
   "source": [
    "flat_training, flat_testing = bdt_training_scikit_tools.test_train_samples(flat_samples)"
   ]
  },
  {
   "cell_type": "code",
   "execution_count": 4,
   "metadata": {},
   "outputs": [],
   "source": [
    "def train_samples (samples, use_weight = False):\n",
    "    '''Train samples with various options\n",
    "    \n",
    "    Args:\n",
    "        samples - the list bib, mj, and signal samples for training\n",
    "        use_weight - if true, then do a weighted training\n",
    "    '''\n",
    "    all_events, all_events_class, weights = bdt_training_scikit_tools.prep_samples(samples[0], samples[1], samples[2])\n",
    "    \n",
    "    bdt = AdaBoostClassifier(\n",
    "        DecisionTreeClassifier(min_samples_leaf=0.01),\n",
    "        n_estimators=10,\n",
    "        learning_rate=1)\n",
    "    \n",
    "    if not use_weight:\n",
    "        weights = None\n",
    "    \n",
    "    bdt.fit(all_events, all_events_class.Class, sample_weight=weights)\n",
    "    \n",
    "    # The BDT is sent back for use\n",
    "    return bdt"
   ]
  },
  {
   "cell_type": "code",
   "execution_count": 5,
   "metadata": {},
   "outputs": [
    {
     "name": "stdout",
     "output_type": "stream",
     "text": [
      "Wall time: 18min 40s\n"
     ]
    }
   ],
   "source": [
    "%%time\n",
    "b_flat_weighted = train_samples(flat_training, use_weight=True)"
   ]
  },
  {
   "cell_type": "code",
   "execution_count": 41,
   "metadata": {},
   "outputs": [],
   "source": [
    "def plot_training_performance (bdt, training_sample, testing_sample, title_keyword):\n",
    "    '''Generate a figure that shows training as a function of the number of trees and some quick info\n",
    "    on the differences between test and training samples.\n",
    "    \n",
    "    Args\n",
    "        bdt - the BDT we are testing\n",
    "        training_sample - the tripple of training samples (bib, mj, hss)\n",
    "        testing_sample - the tripple of testing samples\n",
    "        \n",
    "    Returns\n",
    "        fig - a figure\n",
    "    '''\n",
    "\n",
    "    # Extract test and training events suitable to feeding to the bdt\n",
    "    test_events, test_events_class, test_weights = bdt_training_scikit_tools.prep_samples(testing_sample[0], testing_sample[1], testing_sample[2])\n",
    "    train_events, train_events_class, training_weights = bdt_training_scikit_tools.prep_samples(training_sample[0], training_sample[1], training_sample[2])\n",
    "\n",
    "    # Training performance looks at generic things - like has the tree settled down quickly or not.\n",
    "    test_errors = []\n",
    "    for test_predict in bdt.staged_predict(test_events):\n",
    "        test_errors.append(1.0 - accuracy_score(test_predict, test_events_class.Class))\n",
    "\n",
    "    n_trees = len(bdt)\n",
    "    estimator_errors = bdt.estimator_errors_[:n_trees]\n",
    "\n",
    "    # Compare training and testing prediction vs what we see.\n",
    "    test_predictions = bdt.predict(test_events)\n",
    "    train_predictions = bdt.predict(train_events)\n",
    "    \n",
    "    # Generate the figure to return\n",
    "    fig = plt.figure(figsize=(15,15))\n",
    "\n",
    "    ax = plt.subplot(221)\n",
    "    ax.plot(range(1, n_trees+1), test_errors, c='black')\n",
    "    ax.set_ylim(0.0, 1.0)\n",
    "    ax.set_ylabel('Test Error')\n",
    "    ax.set_xlabel('Number of trees')\n",
    "    ax.set_title('Test Error for {0} training'.format(title_keyword))\n",
    "\n",
    "    ax = plt.subplot(222)\n",
    "    ax.plot(range(1,n_trees+1), estimator_errors, c='black', label=\"SAMME\")\n",
    "    ax.set_ylim(0, 1.0)\n",
    "    ax.set_ylabel('Esitmator Error')\n",
    "    ax.set_xlabel('Number of trees')\n",
    "    ax.set_title('Estimator Error for {0} training'.format(title_keyword))\n",
    "\n",
    "    ax = plt.subplot(223)\n",
    "    ax.hist([test_events_class.Class, test_predictions], label=[\"Actual\", \"Predicted by BDT\"], bins=[0,1,2,3])\n",
    "    ax.set_xticks([0.5,1.5,2.5])\n",
    "    ax.set_xticklabels(['BIB', 'MJ', 'HSS'])\n",
    "    ax.set_title('Test Events: Prediction vs Actual for {0} training'.format(title_keyword))\n",
    "    ax.legend()\n",
    "\n",
    "    ax = plt.subplot(224)\n",
    "    ax.hist([train_events_class.Class, train_predictions], label=[\"Actual\", \"Predicted by BDT\"], bins=[0,1,2,3])\n",
    "    ax.set_xticks([0.5,1.5,2.5])\n",
    "    ax.set_xticklabels(['BIB', 'MJ', 'HSS'])\n",
    "    ax.set_title('Train Events: Prediction vs Actual for {0} training'.format(title_keyword))\n",
    "    ax.legend()\n",
    "\n",
    "    return fig"
   ]
  },
  {
   "cell_type": "code",
   "execution_count": 46,
   "metadata": {},
   "outputs": [
    {
     "data": {
      "image/png": "[encoded data removed]",
      "text/plain": [
       "<matplotlib.figure.Figure at 0x20304eab7f0>"
      ]
     },
     "execution_count": 46,
     "metadata": {},
     "output_type": "execute_result"
    }
   ],
   "source": [
    "plot_training_performance(b_flat_weight, flat_training, flat_testing, title_keyword='flat weighted')"
   ]
  },
  {
   "cell_type": "code",
   "execution_count": 7,
   "metadata": {},
   "outputs": [
    {
     "name": "stdout",
     "output_type": "stream",
     "text": [
      "Wall time: 17min 10s\n"
     ]
    }
   ],
   "source": [
    "%%time\n",
    "b_flat_unweighted = train_samples(flat_training, use_weight=False)"
   ]
  },
  {
   "cell_type": "code",
   "execution_count": 47,
   "metadata": {},
   "outputs": [
    {
     "data": {
      "image/png": "[encoded data removed]",
      "text/plain": [
       "<matplotlib.figure.Figure at 0x20301c3ff98>"
      ]
     },
     "execution_count": 47,
     "metadata": {},
     "output_type": "execute_result"
    }
   ],
   "source": [
    "plot_training_performance(b_flat_unweighted, flat_training, flat_testing, title_keyword='flat unweighted')"
   ]
  },
  {
   "cell_type": "markdown",
   "metadata": {},
   "source": [
    "## Understanding the signal to sqrt background\n",
    "Calculate the S/sqrt(B) for all the trainings. Note that we always do this calculation with weighted events."
   ]
  },
  {
   "cell_type": "code",
   "execution_count": 98,
   "metadata": {},
   "outputs": [],
   "source": [
    "def calc_performance (bdt, testing_samples):\n",
    "    '''Calculate the nubers in each class, as well as S/sqrt(B) for HSS\n",
    "    \n",
    "    All sums are done with event weights taken into account\n",
    "    \n",
    "    Args\n",
    "        bdt - The BDT trained\n",
    "        testing_samples - tripple (bib, mj, signal) of events that this wasn't trained on\n",
    "        \n",
    "    Return\n",
    "        d - dict containing number of events of each type predicted for each time, and S/sqrt(B) for S as signal and B as mj+bib\n",
    "    '''\n",
    "    \n",
    "    test_events, test_events_class, test_weights = bdt_training_scikit_tools.prep_samples(testing_samples[0], testing_samples[1], testing_samples[2])\n",
    "    test_predictions = bdt.predict(test_events)\n",
    "    \n",
    "    # Assemble a single DataFrame with all the information we are going to need\n",
    "    df = pd.DataFrame(test_predictions, columns=['PredClass'])\n",
    "    df.loc[:,'Class'] = test_events_class\n",
    "    df.loc[:,'Weight'] = test_weights\n",
    "    \n",
    "    # Next, for each sample, calculate what we need.\n",
    "    class_events = [df.Class == index for index in (0,1,2)]\n",
    "    pred_events = [df.PredClass == index for index in (0,1,2)]        \n",
    "    labels = {0:'BIB', 1:'MJ', 2:'HSS'}\n",
    "    \n",
    "    d = {\"{0}in{1}\".format(labels[aclass], labels[pclass]):np.sum((class_events[aclass]&pred_events[pclass])*test_weights) for pclass in (0,1,2) for aclass in (0,1,2)}\n",
    "    \n",
    "    # Calculated quantities\n",
    "    \n",
    "    d.update({'{0}Eff'.format(labels[aclass]):np.sum((pred_events[aclass]&class_events[aclass])*test_weights)/np.sum(class_events[aclass]*test_weights) for aclass in (0,1,2)})\n",
    "    d.update({'{0}Back'.format(labels[aclass]):np.sum((pred_events[aclass]&(~class_events[aclass]))*test_weights) for aclass in (0,1,2)})\n",
    "    d.update({'{0}SsqrtB'.format(labels[aclass]):(d['{0}in{0}'.format(labels[aclass])]/sqrt(d['{0}Back'.format(labels[aclass])])) for aclass in (0,1,2)})\n",
    "    \n",
    "    return d"
   ]
  },
  {
   "cell_type": "code",
   "execution_count": 101,
   "metadata": {},
   "outputs": [
    {
     "data": {
      "text/html": [
       "<div>\n",
       "<style>\n",
       "    .dataframe thead tr:only-child th {\n",
       "        text-align: right;\n",
       "    }\n",
       "\n",
       "    .dataframe thead th {\n",
       "        text-align: left;\n",
       "    }\n",
       "\n",
       "    .dataframe tbody tr th {\n",
       "        vertical-align: top;\n",
       "    }\n",
       "</style>\n",
       "<table border=\"1\" class=\"dataframe\">\n",
       "  <thead>\n",
       "    <tr style=\"text-align: right;\">\n",
       "      <th></th>\n",
       "      <th>flat_unweighted</th>\n",
       "      <th>flat_weighted</th>\n",
       "    </tr>\n",
       "  </thead>\n",
       "  <tbody>\n",
       "    <tr>\n",
       "      <th>BIBBack</th>\n",
       "      <td>0.280364</td>\n",
       "      <td>9.127997</td>\n",
       "    </tr>\n",
       "    <tr>\n",
       "      <th>BIBEff</th>\n",
       "      <td>0.207570</td>\n",
       "      <td>0.565826</td>\n",
       "    </tr>\n",
       "    <tr>\n",
       "      <th>BIBSsqrtB</th>\n",
       "      <td>13.355351</td>\n",
       "      <td>6.380383</td>\n",
       "    </tr>\n",
       "    <tr>\n",
       "      <th>BIBinBIB</th>\n",
       "      <td>7.071575</td>\n",
       "      <td>19.276781</td>\n",
       "    </tr>\n",
       "    <tr>\n",
       "      <th>BIBinHSS</th>\n",
       "      <td>1.393365</td>\n",
       "      <td>0.990521</td>\n",
       "    </tr>\n",
       "    <tr>\n",
       "      <th>BIBinMJ</th>\n",
       "      <td>25.603424</td>\n",
       "      <td>13.801062</td>\n",
       "    </tr>\n",
       "    <tr>\n",
       "      <th>HSSBack</th>\n",
       "      <td>1.755732</td>\n",
       "      <td>1.416399</td>\n",
       "    </tr>\n",
       "    <tr>\n",
       "      <th>HSSEff</th>\n",
       "      <td>0.960054</td>\n",
       "      <td>0.940474</td>\n",
       "    </tr>\n",
       "    <tr>\n",
       "      <th>HSSSsqrtB</th>\n",
       "      <td>24.667766</td>\n",
       "      <td>26.904041</td>\n",
       "    </tr>\n",
       "    <tr>\n",
       "      <th>HSSinBIB</th>\n",
       "      <td>0.131505</td>\n",
       "      <td>1.468970</td>\n",
       "    </tr>\n",
       "    <tr>\n",
       "      <th>HSSinHSS</th>\n",
       "      <td>32.685784</td>\n",
       "      <td>32.019185</td>\n",
       "    </tr>\n",
       "    <tr>\n",
       "      <th>HSSinMJ</th>\n",
       "      <td>1.228500</td>\n",
       "      <td>0.557635</td>\n",
       "    </tr>\n",
       "    <tr>\n",
       "      <th>MJBack</th>\n",
       "      <td>26.831925</td>\n",
       "      <td>14.358697</td>\n",
       "    </tr>\n",
       "    <tr>\n",
       "      <th>MJEff</th>\n",
       "      <td>0.984913</td>\n",
       "      <td>0.761408</td>\n",
       "    </tr>\n",
       "    <tr>\n",
       "      <th>MJSsqrtB</th>\n",
       "      <td>6.443057</td>\n",
       "      <td>6.808948</td>\n",
       "    </tr>\n",
       "    <tr>\n",
       "      <th>MJinBIB</th>\n",
       "      <td>0.148858</td>\n",
       "      <td>7.659027</td>\n",
       "    </tr>\n",
       "    <tr>\n",
       "      <th>MJinHSS</th>\n",
       "      <td>0.362367</td>\n",
       "      <td>0.425878</td>\n",
       "    </tr>\n",
       "    <tr>\n",
       "      <th>MJinMJ</th>\n",
       "      <td>33.374740</td>\n",
       "      <td>25.801060</td>\n",
       "    </tr>\n",
       "  </tbody>\n",
       "</table>\n",
       "</div>"
      ],
      "text/plain": [
       "           flat_unweighted  flat_weighted\n",
       "BIBBack           0.280364       9.127997\n",
       "BIBEff            0.207570       0.565826\n",
       "BIBSsqrtB        13.355351       6.380383\n",
       "BIBinBIB          7.071575      19.276781\n",
       "BIBinHSS          1.393365       0.990521\n",
       "BIBinMJ          25.603424      13.801062\n",
       "HSSBack           1.755732       1.416399\n",
       "HSSEff            0.960054       0.940474\n",
       "HSSSsqrtB        24.667766      26.904041\n",
       "HSSinBIB          0.131505       1.468970\n",
       "HSSinHSS         32.685784      32.019185\n",
       "HSSinMJ           1.228500       0.557635\n",
       "MJBack           26.831925      14.358697\n",
       "MJEff             0.984913       0.761408\n",
       "MJSsqrtB          6.443057       6.808948\n",
       "MJinBIB           0.148858       7.659027\n",
       "MJinHSS           0.362367       0.425878\n",
       "MJinMJ           33.374740      25.801060"
      ]
     },
     "execution_count": 101,
     "metadata": {},
     "output_type": "execute_result"
    }
   ],
   "source": [
    "flat_unweighted_info = calc_performance(b_flat_unweighted, flat_testing)\n",
    "flat_weighted_info = calc_performance(b_flat_weight, flat_testing)\n",
    "\n",
    "info = pd.DataFrame({'flat_unweighted':flat_unweighted_info, 'flat_weighted':flat_weighted_info})\n",
    "info"
   ]
  },
  {
   "cell_type": "code",
   "execution_count": 63,
   "metadata": {},
   "outputs": [],
   "source": [
    "mtest_events, mtest_events_class, mtest_weights = bdt_training_scikit_tools.prep_samples(flat_testing[0], flat_testing[1], flat_testing[2])\n"
   ]
  },
  {
   "cell_type": "code",
   "execution_count": 95,
   "metadata": {},
   "outputs": [
    {
     "data": {
      "text/plain": [
       "34.068363682643394"
      ]
     },
     "execution_count": 95,
     "metadata": {},
     "output_type": "execute_result"
    }
   ],
   "source": [
    "class_bib = mtest_events_class.Class == 0\n",
    "class_mj = mtest_events_class.Class == 1\n",
    "np.sum((class_bib&class_bib)*mtest_weights)"
   ]
  },
  {
   "cell_type": "code",
   "execution_count": null,
   "metadata": {
    "collapsed": true
   },
   "outputs": [],
   "source": []
  }
 ],
 "metadata": {
  "kernelspec": {
   "display_name": "Python 3",
   "language": "python",
   "name": "python3"
  },
  "language_info": {
   "codemirror_mode": {
    "name": "ipython",
    "version": 3
   },
   "file_extension": ".py",
   "mimetype": "text/x-python",
   "name": "python",
   "nbconvert_exporter": "python",
   "pygments_lexer": "ipython3",
   "version": "3.6.3"
  }
 },
 "nbformat": 4,
 "nbformat_minor": 2
}
