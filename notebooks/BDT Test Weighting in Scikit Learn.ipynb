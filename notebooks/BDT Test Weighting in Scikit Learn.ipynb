{
 "cells": [
  {
   "cell_type": "markdown",
   "metadata": {},
   "source": [
    "# How does training with weight affect the results?\n",
    "\n",
    "To understand this we need to look at a few things:\n",
    "\n",
    "- Training with weighting turned on and off\n",
    "- Evaluating with weight turned on and off\n",
    "\n",
    "And there are two different weights we have to look at:\n",
    "\n",
    "- multijet cross section weight per sample.\n",
    "- Flatten by pT weight\n",
    "\n",
    "To really do this right, we need to explore all of this."
   ]
  },
  {
   "cell_type": "markdown",
   "metadata": {},
   "source": [
    "## Initalization"
   ]
  },
  {
   "cell_type": "code",
   "execution_count": 6,
   "metadata": {
    "collapsed": true
   },
   "outputs": [],
   "source": [
    "import bdt_training_scikit_tools\n",
    "\n",
    "from sklearn.ensemble import AdaBoostClassifier\n",
    "from sklearn.metrics import accuracy_score\n",
    "from sklearn.tree import DecisionTreeClassifier"
   ]
  },
  {
   "cell_type": "markdown",
   "metadata": {},
   "source": [
    "## Load data samples\n",
    "Load up the following:\n",
    "\n",
    "- Job 8: Standard weights, with flat in pT"
   ]
  },
  {
   "cell_type": "code",
   "execution_count": 2,
   "metadata": {},
   "outputs": [
    {
     "name": "stdout",
     "output_type": "stream",
     "text": [
      "BIB length: 156359\n",
      "Multijet length: 1499995\n",
      "Signal length: 1322937\n"
     ]
    }
   ],
   "source": [
    "flat_samples = bdt_training_scikit_tools.load_default_samples(\"8\")"
   ]
  },
  {
   "cell_type": "markdown",
   "metadata": {},
   "source": [
    "## Training with the Flattened Weighted Sample"
   ]
  },
  {
   "cell_type": "code",
   "execution_count": 3,
   "metadata": {},
   "outputs": [],
   "source": [
    "flat_training, flat_testing = bdt_training_scikit_tools.test_train_samples(flat_samples)"
   ]
  },
  {
   "cell_type": "code",
   "execution_count": 9,
   "metadata": {
    "collapsed": true
   },
   "outputs": [],
   "source": [
    "def train_samples (samples, use_weight = False):\n",
    "    '''Train samples with various options\n",
    "    \n",
    "    Args:\n",
    "        samples - the list bib, mj, and signal samples for training\n",
    "        use_weight - if true, then do a weighted training\n",
    "    '''\n",
    "    all_events, all_events_class = bdt_training_scikit_tools.prep_samples(samples[0], samples[1], samples[2])\n",
    "    \n",
    "    bdt = AdaBoostClassifier(\n",
    "        DecisionTreeClassifier(min_samples_leaf=0.01),\n",
    "        n_estimators=10,\n",
    "        learning_rate=1)\n",
    "    \n",
    "    bdt.fit(all_events, all_events_class.Class)\n",
    "    \n",
    "    # The BDT is sent back for use\n",
    "    return bdt"
   ]
  },
  {
   "cell_type": "code",
   "execution_count": null,
   "metadata": {},
   "outputs": [],
   "source": [
    "%%time\n",
    "b = train_samples(flat_training)"
   ]
  },
  {
   "cell_type": "code",
   "execution_count": null,
   "metadata": {
    "collapsed": true
   },
   "outputs": [],
   "source": []
  }
 ],
 "metadata": {
  "kernelspec": {
   "display_name": "Python 3",
   "language": "python",
   "name": "python3"
  },
  "language_info": {
   "codemirror_mode": {
    "name": "ipython",
    "version": 3
   },
   "file_extension": ".py",
   "mimetype": "text/x-python",
   "name": "python",
   "nbconvert_exporter": "python",
   "pygments_lexer": "ipython3",
   "version": "3.6.3"
  }
 },
 "nbformat": 4,
 "nbformat_minor": 2
}
