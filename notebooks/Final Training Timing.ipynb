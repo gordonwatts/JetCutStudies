{
 "cells": [
  {
   "cell_type": "markdown",
   "metadata": {},
   "source": [
    "# Final Training\n",
    "This notebook contains the final training that is used in the analysis.\n",
    "\n",
    "Set the name of this training, and the job number it is based on. This will keep the resulting output xml files seperate below."
   ]
  },
  {
   "cell_type": "code",
   "execution_count": 1,
   "metadata": {},
   "outputs": [],
   "source": [
    "jobId = 133\n",
    "training_name = \"full_event_timing_grad1000\""
   ]
  },
  {
   "cell_type": "markdown",
   "metadata": {},
   "source": [
    "## Initalization"
   ]
  },
  {
   "cell_type": "code",
   "execution_count": 2,
   "metadata": {},
   "outputs": [],
   "source": [
    "from bdt_training_scikit_tools import load_trimmed_sample, default_training_variable_list, \\\n",
    "    test_train_samples, prep_samples, default_training, calc_performance, get_fraction_of_events\n",
    "import matplotlib.pyplot as plt\n",
    "plt.rc('font', size=14)\n",
    "from matplotlib.colors import LogNorm\n",
    "import pandas as pd\n",
    "import numpy as np\n",
    "import multiprocessing as mp\n",
    "import itertools"
   ]
  },
  {
   "cell_type": "code",
   "execution_count": 3,
   "metadata": {},
   "outputs": [],
   "source": [
    "training_file_stub = 'training_{0}_{1}'.format(jobId, training_name)"
   ]
  },
  {
   "cell_type": "markdown",
   "metadata": {},
   "source": [
    "## Load data"
   ]
  },
  {
   "cell_type": "code",
   "execution_count": 4,
   "metadata": {},
   "outputs": [
    {
     "name": "stdout",
     "output_type": "stream",
     "text": [
      "Job 133:\n",
      "  BIB: 800000 events\n",
      "  Multijet: 800000 events\n",
      "  Signal: 800000 events\n",
      "  [800000, 800000, 473600]\n",
      "CPU times: user 47.3 s, sys: 7.08 s, total: 54.4 s\n",
      "Wall time: 56.8 s\n"
     ]
    }
   ],
   "source": [
    "%%time\n",
    "input_events = load_trimmed_sample(jobId)"
   ]
  },
  {
   "cell_type": "code",
   "execution_count": 5,
   "metadata": {},
   "outputs": [
    {
     "name": "stdout",
     "output_type": "stream",
     "text": [
      "[200387, 199675, 118454]\n"
     ]
    }
   ],
   "source": [
    "events_25 = get_fraction_of_events(input_events, 0.25)\n",
    "print ([len(i.index) for i in events_25])"
   ]
  },
  {
   "cell_type": "code",
   "execution_count": 6,
   "metadata": {},
   "outputs": [],
   "source": [
    "events_to_use = input_events"
   ]
  },
  {
   "cell_type": "markdown",
   "metadata": {},
   "source": [
    "## Training\n",
    "Default training variables. Likely were arrived at by analysis in the Training Variables workbook."
   ]
  },
  {
   "cell_type": "code",
   "execution_count": 7,
   "metadata": {},
   "outputs": [],
   "source": [
    "training_variables = ['BIBDeltaTimingM', 'BIBDeltaTimingP', 'CalRatio', 'EnergyDensity', 'FirstClusterRadius', 'HadronicLayer1Fraction', 'JetEta', 'JetLong', 'JetPt', 'JetWidth', 'MaxTrackPt', 'NTracks', 'PredictedLz', 'ShowerCenter', 'SumPtOfAllTracks']"
   ]
  },
  {
   "cell_type": "markdown",
   "metadata": {},
   "source": [
    "Run the training to get a bdt back."
   ]
  },
  {
   "cell_type": "code",
   "execution_count": 8,
   "metadata": {},
   "outputs": [
    {
     "name": "stdout",
     "output_type": "stream",
     "text": [
      "CPU times: user 5.43 s, sys: 2.61 s, total: 8.04 s\n",
      "Wall time: 5.39 s\n"
     ]
    }
   ],
   "source": [
    "%%time\n",
    "# Split into testing and training samples\n",
    "train, test = test_train_samples(events_to_use)\n",
    "\n",
    "# Prep samples for training\n",
    "all_events, all_events_class, training_weight, evaluation_weight = prep_samples(train[0], train[1], train[2], training_variable_list=training_variables)"
   ]
  },
  {
   "cell_type": "code",
   "execution_count": 9,
   "metadata": {},
   "outputs": [
    {
     "name": "stdout",
     "output_type": "stream",
     "text": [
      "CPU times: user 4h 7min 50s, sys: 2min 32s, total: 4h 10min 23s\n",
      "Wall time: 3h 46min 47s\n"
     ]
    }
   ],
   "source": [
    "%%time\n",
    "bdt = default_training(all_events, training_weight, all_events_class)"
   ]
  },
  {
   "cell_type": "markdown",
   "metadata": {},
   "source": [
    "Calculate the performance for this training"
   ]
  },
  {
   "cell_type": "code",
   "execution_count": 10,
   "metadata": {},
   "outputs": [
    {
     "name": "stdout",
     "output_type": "stream",
     "text": [
      "CPU times: user 52.2 s, sys: 1.62 s, total: 53.8 s\n",
      "Wall time: 48.7 s\n"
     ]
    },
    {
     "data": {
      "text/plain": [
       "{'BIBinBIB': 770197.0,\n",
       " 'MJinBIB': 15518278.012156632,\n",
       " 'HSSinBIB': 19282.0,\n",
       " 'BIBinMJ': 1994.0,\n",
       " 'MJinMJ': 728685868.2720641,\n",
       " 'HSSinMJ': 5129.0,\n",
       " 'BIBinHSS': 27809.0,\n",
       " 'MJinHSS': 6861323.0250843745,\n",
       " 'HSSinHSS': 449189.0,\n",
       " 'BIBEff': 0.96274625,\n",
       " 'MJEff': 0.9702028625309833,\n",
       " 'HSSEff': 0.9484565033783784,\n",
       " 'BIBBack': 15537560.012156632,\n",
       " 'MJBack': 7123.0,\n",
       " 'HSSBack': 6889132.0250843745,\n",
       " 'BIBSsqrtB': 195.39363534999381,\n",
       " 'MJSsqrtB': 8633936.991876952,\n",
       " 'HSSSsqrtB': 171.13816009589402,\n",
       " 'BIBTotalWeight': 800000.0,\n",
       " 'MJTotalWeight': 751065469.309305,\n",
       " 'HSSTotalWeight': 473600.0,\n",
       " 'BIBTotalCount': 800000,\n",
       " 'MJTotalCount': 800000,\n",
       " 'HSSTotalCount': 473600}"
      ]
     },
     "execution_count": 10,
     "metadata": {},
     "output_type": "execute_result"
    }
   ],
   "source": [
    "%%time\n",
    "calc_performance(bdt, input_events, training_variables=training_variables)"
   ]
  },
  {
   "cell_type": "code",
   "execution_count": 11,
   "metadata": {},
   "outputs": [
    {
     "data": {
      "text/plain": [
       "['training_133_full_event_timing_grad1000.pkl']"
      ]
     },
     "execution_count": 11,
     "metadata": {},
     "output_type": "execute_result"
    }
   ],
   "source": [
    "from sklearn.externals import joblib\n",
    "joblib.dump(bdt, training_file_stub + '.pkl') "
   ]
  },
  {
   "cell_type": "markdown",
   "metadata": {},
   "source": [
    "## Conversion to TMVA format"
   ]
  },
  {
   "cell_type": "code",
   "execution_count": 12,
   "metadata": {},
   "outputs": [
    {
     "name": "stdout",
     "output_type": "stream",
     "text": [
      "norm is 1.0\n"
     ]
    }
   ],
   "source": [
    "import mlglue\n",
    "import mlglue.tree\n",
    "from sklearn.externals import joblib\n",
    "bdt1 = joblib.load(training_file_stub + '.pkl')\n",
    "bdtGeneral = mlglue.tree.BDTsklearn(bdt1, list(all_events.columns), ['BIB', 'MJ', 'Signal'])\n",
    "bdtGeneral.to_tmva(training_file_stub + \".xml\")"
   ]
  },
  {
   "cell_type": "markdown",
   "metadata": {},
   "source": [
    "## Performance\n",
    "Look at some generic performance plots for the bdt."
   ]
  },
  {
   "cell_type": "code",
   "execution_count": 13,
   "metadata": {},
   "outputs": [],
   "source": [
    "perf_events, perf_events_class, perf_training_weight, perf_evaluation_weight = prep_samples(input_events[0], input_events[1], input_events[2], training_variable_list=training_variables)"
   ]
  },
  {
   "cell_type": "code",
   "execution_count": 14,
   "metadata": {},
   "outputs": [],
   "source": [
    "predicted_class = bdt1.predict(perf_events)"
   ]
  },
  {
   "cell_type": "code",
   "execution_count": 15,
   "metadata": {
    "scrolled": false
   },
   "outputs": [
    {
     "data": {
      "image/png": "[encoded data removed]",
      "text/plain": [
       "<Figure size 1080x1080 with 3 Axes>"
      ]
     },
     "metadata": {},
     "output_type": "display_data"
    }
   ],
   "source": [
    "fig = plt.figure(figsize=(15,15))\n",
    "\n",
    "ax = plt.subplot(221)\n",
    "ax.hist(predicted_class[perf_events_class.Class == 0], weights=perf_training_weight[perf_events_class.Class == 0], bins=3)\n",
    "ax.set_xlabel('Class')\n",
    "ax.set_title('BIB')\n",
    "ax.set_yscale('log')\n",
    "\n",
    "ax = plt.subplot(222)\n",
    "ax.hist(predicted_class[perf_events_class.Class == 1], weights=perf_training_weight[perf_events_class.Class == 1], bins=3)\n",
    "ax.set_xlabel('Class')\n",
    "ax.set_title('MJ')\n",
    "ax.set_yscale('log')\n",
    "\n",
    "ax = plt.subplot(223)\n",
    "ax.hist(predicted_class[perf_events_class.Class == 2], weights=perf_training_weight[perf_events_class.Class == 2], bins=3)\n",
    "ax.set_xlabel('Class')\n",
    "ax.set_title('HSS')\n",
    "ax.set_yscale('log')"
   ]
  },
  {
   "cell_type": "code",
   "execution_count": 16,
   "metadata": {},
   "outputs": [],
   "source": [
    "predicted_prob = bdt1.predict_proba(perf_events)"
   ]
  },
  {
   "cell_type": "code",
   "execution_count": 17,
   "metadata": {},
   "outputs": [
    {
     "data": {
      "text/plain": [
       "<matplotlib.legend.Legend at 0x7fc68aa18ac8>"
      ]
     },
     "execution_count": 17,
     "metadata": {},
     "output_type": "execute_result"
    },
    {
     "data": {
      "image/png": "[encoded data removed]",
      "text/plain": [
       "<Figure size 1080x720 with 3 Axes>"
      ]
     },
     "metadata": {},
     "output_type": "display_data"
    }
   ],
   "source": [
    "fig = plt.figure(figsize=(15,10))\n",
    "\n",
    "ax = plt.subplot(221)\n",
    "ax.hist(predicted_prob[perf_events_class.Class == 0], label=('BiB', \"MJ\", 'HSS'), bins=50, histtype = 'step')\n",
    "ax.set_xlabel('Weight')\n",
    "ax.set_title('Class: BIB')\n",
    "ax.legend()\n",
    "\n",
    "ax = plt.subplot(222)\n",
    "ax.hist(predicted_prob[perf_events_class.Class == 1], label=('BiB', \"MJ\", 'HSS'), bins=50, histtype = 'step')\n",
    "ax.set_xlabel('Weight')\n",
    "ax.set_title('Class: MJ')\n",
    "ax.legend()\n",
    "\n",
    "ax = plt.subplot(223)\n",
    "ax.hist(predicted_prob[perf_events_class.Class == 2], label=('BiB', \"MJ\", 'HSS'), bins=50, histtype = 'step')\n",
    "ax.set_xlabel('Weight')\n",
    "ax.set_title('Class: HSS')\n",
    "ax.legend()"
   ]
  },
  {
   "cell_type": "markdown",
   "metadata": {},
   "source": [
    "## TMVA Cross Check\n",
    "We always have trouble with that. We need to look to see what we can expect with TMVA. Below there is Bib, MJ, and Signal, all three classes. 5 events are taken (first jet pt eta phi are shown along with event number so they can be correlated with the real full root trees). The full inputs are shown, in the proper order to be fed to the bdt. Then the result of the TMVA translation is evaluated, and then the probabilities from the sklean classifier are shown. A direct match isn't expected, but the trents (e.g. signal has the class2 column always larger than the bib or mj columns).\n",
    "\n",
    "### What is wrong with this translation?\n",
    "I'm using a slightly modified version of mlglue to do the translation. Yet, as you can see below, the MJ, Sig, and background come out almost alike. And the classifier works rather well when it is run internally. So... what is going on?\n",
    "\n",
    "### BiB (class 0)\n",
    "First lets look at BiB. We'll get some absolute numbers out of the weight calculations"
   ]
  },
  {
   "cell_type": "code",
   "execution_count": 18,
   "metadata": {},
   "outputs": [
    {
     "data": {
      "text/html": [
       "<div>\n",
       "<style scoped>\n",
       "    .dataframe tbody tr th:only-of-type {\n",
       "        vertical-align: middle;\n",
       "    }\n",
       "\n",
       "    .dataframe tbody tr th {\n",
       "        vertical-align: top;\n",
       "    }\n",
       "\n",
       "    .dataframe thead th {\n",
       "        text-align: right;\n",
       "    }\n",
       "</style>\n",
       "<table border=\"1\" class=\"dataframe\">\n",
       "  <thead>\n",
       "    <tr style=\"text-align: right;\">\n",
       "      <th></th>\n",
       "      <th>RunNumber</th>\n",
       "      <th>EventNumber</th>\n",
       "      <th>JetPt</th>\n",
       "      <th>JetEta</th>\n",
       "      <th>JetPhi</th>\n",
       "    </tr>\n",
       "  </thead>\n",
       "  <tbody>\n",
       "    <tr>\n",
       "      <th>0</th>\n",
       "      <td>303846</td>\n",
       "      <td>1290270786</td>\n",
       "      <td>101.7680</td>\n",
       "      <td>0.671180</td>\n",
       "      <td>0.668020</td>\n",
       "    </tr>\n",
       "    <tr>\n",
       "      <th>1</th>\n",
       "      <td>303846</td>\n",
       "      <td>1289734246</td>\n",
       "      <td>143.2400</td>\n",
       "      <td>1.302650</td>\n",
       "      <td>-0.141964</td>\n",
       "    </tr>\n",
       "    <tr>\n",
       "      <th>2</th>\n",
       "      <td>303846</td>\n",
       "      <td>1291357297</td>\n",
       "      <td>109.4470</td>\n",
       "      <td>0.757105</td>\n",
       "      <td>3.096500</td>\n",
       "    </tr>\n",
       "    <tr>\n",
       "      <th>3</th>\n",
       "      <td>303846</td>\n",
       "      <td>1294629602</td>\n",
       "      <td>135.7760</td>\n",
       "      <td>0.011375</td>\n",
       "      <td>-1.721400</td>\n",
       "    </tr>\n",
       "    <tr>\n",
       "      <th>4</th>\n",
       "      <td>303846</td>\n",
       "      <td>1288767250</td>\n",
       "      <td>59.3792</td>\n",
       "      <td>0.628752</td>\n",
       "      <td>-0.494102</td>\n",
       "    </tr>\n",
       "  </tbody>\n",
       "</table>\n",
       "</div>"
      ],
      "text/plain": [
       "   RunNumber  EventNumber     JetPt    JetEta    JetPhi\n",
       "0     303846   1290270786  101.7680  0.671180  0.668020\n",
       "1     303846   1289734246  143.2400  1.302650 -0.141964\n",
       "2     303846   1291357297  109.4470  0.757105  3.096500\n",
       "3     303846   1294629602  135.7760  0.011375 -1.721400\n",
       "4     303846   1288767250   59.3792  0.628752 -0.494102"
      ]
     },
     "execution_count": 18,
     "metadata": {},
     "output_type": "execute_result"
    }
   ],
   "source": [
    "events_to_use[0][:5][['RunNumber', 'EventNumber', 'JetPt', 'JetEta', 'JetPhi']]"
   ]
  },
  {
   "cell_type": "code",
   "execution_count": 19,
   "metadata": {},
   "outputs": [
    {
     "data": {
      "text/html": [
       "<div>\n",
       "<style scoped>\n",
       "    .dataframe tbody tr th:only-of-type {\n",
       "        vertical-align: middle;\n",
       "    }\n",
       "\n",
       "    .dataframe tbody tr th {\n",
       "        vertical-align: top;\n",
       "    }\n",
       "\n",
       "    .dataframe thead th {\n",
       "        text-align: right;\n",
       "    }\n",
       "</style>\n",
       "<table border=\"1\" class=\"dataframe\">\n",
       "  <thead>\n",
       "    <tr style=\"text-align: right;\">\n",
       "      <th></th>\n",
       "      <th>BIBDeltaTimingM</th>\n",
       "      <th>BIBDeltaTimingP</th>\n",
       "      <th>CalRatio</th>\n",
       "      <th>EnergyDensity</th>\n",
       "      <th>FirstClusterRadius</th>\n",
       "      <th>HadronicLayer1Fraction</th>\n",
       "      <th>JetEta</th>\n",
       "      <th>JetLong</th>\n",
       "      <th>JetPt</th>\n",
       "      <th>JetWidth</th>\n",
       "      <th>MaxTrackPt</th>\n",
       "      <th>NTracks</th>\n",
       "      <th>PredictedLz</th>\n",
       "      <th>ShowerCenter</th>\n",
       "      <th>SumPtOfAllTracks</th>\n",
       "    </tr>\n",
       "  </thead>\n",
       "  <tbody>\n",
       "    <tr>\n",
       "      <th>0</th>\n",
       "      <td>26.887600</td>\n",
       "      <td>-0.646996</td>\n",
       "      <td>1.62812</td>\n",
       "      <td>0.002670</td>\n",
       "      <td>4800</td>\n",
       "      <td>0.968134</td>\n",
       "      <td>1.302650</td>\n",
       "      <td>0.271484</td>\n",
       "      <td>143.2400</td>\n",
       "      <td>0.037008</td>\n",
       "      <td>0.538194</td>\n",
       "      <td>0</td>\n",
       "      <td>4188.720</td>\n",
       "      <td>1864.0</td>\n",
       "      <td>0.538194</td>\n",
       "    </tr>\n",
       "    <tr>\n",
       "      <th>1</th>\n",
       "      <td>17.486100</td>\n",
       "      <td>0.914904</td>\n",
       "      <td>1.43703</td>\n",
       "      <td>0.000935</td>\n",
       "      <td>3904</td>\n",
       "      <td>-0.001545</td>\n",
       "      <td>0.757105</td>\n",
       "      <td>0.292969</td>\n",
       "      <td>109.4470</td>\n",
       "      <td>0.024079</td>\n",
       "      <td>0.000000</td>\n",
       "      <td>0</td>\n",
       "      <td>2571.480</td>\n",
       "      <td>2864.0</td>\n",
       "      <td>0.000000</td>\n",
       "    </tr>\n",
       "    <tr>\n",
       "      <th>2</th>\n",
       "      <td>0.029894</td>\n",
       "      <td>0.458046</td>\n",
       "      <td>1.39585</td>\n",
       "      <td>0.002579</td>\n",
       "      <td>2448</td>\n",
       "      <td>0.990177</td>\n",
       "      <td>0.011375</td>\n",
       "      <td>0.291016</td>\n",
       "      <td>135.7760</td>\n",
       "      <td>0.050210</td>\n",
       "      <td>0.000000</td>\n",
       "      <td>0</td>\n",
       "      <td>438.670</td>\n",
       "      <td>964.0</td>\n",
       "      <td>0.000000</td>\n",
       "    </tr>\n",
       "    <tr>\n",
       "      <th>3</th>\n",
       "      <td>-22.359300</td>\n",
       "      <td>-30.330000</td>\n",
       "      <td>-0.13681</td>\n",
       "      <td>0.000139</td>\n",
       "      <td>2768</td>\n",
       "      <td>0.563293</td>\n",
       "      <td>0.628752</td>\n",
       "      <td>0.738281</td>\n",
       "      <td>59.3792</td>\n",
       "      <td>0.198000</td>\n",
       "      <td>0.818729</td>\n",
       "      <td>0</td>\n",
       "      <td>686.581</td>\n",
       "      <td>1024.0</td>\n",
       "      <td>0.818729</td>\n",
       "    </tr>\n",
       "    <tr>\n",
       "      <th>4</th>\n",
       "      <td>2.662320</td>\n",
       "      <td>-0.719869</td>\n",
       "      <td>1.98826</td>\n",
       "      <td>0.000809</td>\n",
       "      <td>3056</td>\n",
       "      <td>0.014341</td>\n",
       "      <td>0.179471</td>\n",
       "      <td>0.078125</td>\n",
       "      <td>133.3790</td>\n",
       "      <td>0.020075</td>\n",
       "      <td>0.000000</td>\n",
       "      <td>0</td>\n",
       "      <td>655.392</td>\n",
       "      <td>1688.0</td>\n",
       "      <td>0.000000</td>\n",
       "    </tr>\n",
       "  </tbody>\n",
       "</table>\n",
       "</div>"
      ],
      "text/plain": [
       "   BIBDeltaTimingM  BIBDeltaTimingP  CalRatio  EnergyDensity  \\\n",
       "0        26.887600        -0.646996   1.62812       0.002670   \n",
       "1        17.486100         0.914904   1.43703       0.000935   \n",
       "2         0.029894         0.458046   1.39585       0.002579   \n",
       "3       -22.359300       -30.330000  -0.13681       0.000139   \n",
       "4         2.662320        -0.719869   1.98826       0.000809   \n",
       "\n",
       "   FirstClusterRadius  HadronicLayer1Fraction    JetEta   JetLong     JetPt  \\\n",
       "0                4800                0.968134  1.302650  0.271484  143.2400   \n",
       "1                3904               -0.001545  0.757105  0.292969  109.4470   \n",
       "2                2448                0.990177  0.011375  0.291016  135.7760   \n",
       "3                2768                0.563293  0.628752  0.738281   59.3792   \n",
       "4                3056                0.014341  0.179471  0.078125  133.3790   \n",
       "\n",
       "   JetWidth  MaxTrackPt  NTracks  PredictedLz  ShowerCenter  SumPtOfAllTracks  \n",
       "0  0.037008    0.538194        0     4188.720        1864.0          0.538194  \n",
       "1  0.024079    0.000000        0     2571.480        2864.0          0.000000  \n",
       "2  0.050210    0.000000        0      438.670         964.0          0.000000  \n",
       "3  0.198000    0.818729        0      686.581        1024.0          0.818729  \n",
       "4  0.020075    0.000000        0      655.392        1688.0          0.000000  "
      ]
     },
     "execution_count": 19,
     "metadata": {},
     "output_type": "execute_result"
    }
   ],
   "source": [
    "subsample = all_events[all_events_class.Class==0][:5]\n",
    "subsample"
   ]
  },
  {
   "cell_type": "code",
   "execution_count": 20,
   "metadata": {},
   "outputs": [
    {
     "data": {
      "text/plain": [
       "array([[0.35551773, 0.31863035, 0.32585192],\n",
       "       [0.35116185, 0.31962173, 0.32921642],\n",
       "       [0.36364303, 0.32334854, 0.31300843],\n",
       "       [0.36020307, 0.33774928, 0.30204764],\n",
       "       [0.35794319, 0.32592992, 0.31612689]])"
      ]
     },
     "execution_count": 20,
     "metadata": {},
     "output_type": "execute_result"
    }
   ],
   "source": [
    "bdtGeneral.eval(subsample)"
   ]
  },
  {
   "cell_type": "code",
   "execution_count": 21,
   "metadata": {},
   "outputs": [
    {
     "data": {
      "text/plain": [
       "array([[9.99840606e-01, 1.75214829e-05, 1.41872786e-04],\n",
       "       [9.98560225e-01, 8.19074604e-05, 1.35786733e-03],\n",
       "       [9.99991780e-01, 7.95449931e-06, 2.65545657e-07],\n",
       "       [9.98396520e-01, 1.60346042e-03, 1.94166318e-08],\n",
       "       [9.99911015e-01, 8.55116895e-05, 3.47344620e-06]])"
      ]
     },
     "execution_count": 21,
     "metadata": {},
     "output_type": "execute_result"
    }
   ],
   "source": [
    "bdt1.predict_proba(subsample)"
   ]
  },
  {
   "cell_type": "markdown",
   "metadata": {},
   "source": [
    "### MultiJet (class 1)\n",
    "\n",
    "Ok, now lets look at MJ, which is class 1. Note that the run number is not pulled correctly here. :("
   ]
  },
  {
   "cell_type": "code",
   "execution_count": 22,
   "metadata": {},
   "outputs": [
    {
     "data": {
      "text/html": [
       "<div>\n",
       "<style scoped>\n",
       "    .dataframe tbody tr th:only-of-type {\n",
       "        vertical-align: middle;\n",
       "    }\n",
       "\n",
       "    .dataframe tbody tr th {\n",
       "        vertical-align: top;\n",
       "    }\n",
       "\n",
       "    .dataframe thead th {\n",
       "        text-align: right;\n",
       "    }\n",
       "</style>\n",
       "<table border=\"1\" class=\"dataframe\">\n",
       "  <thead>\n",
       "    <tr style=\"text-align: right;\">\n",
       "      <th></th>\n",
       "      <th>RunNumber</th>\n",
       "      <th>EventNumber</th>\n",
       "      <th>JetPt</th>\n",
       "      <th>JetEta</th>\n",
       "      <th>JetPhi</th>\n",
       "    </tr>\n",
       "  </thead>\n",
       "  <tbody>\n",
       "    <tr>\n",
       "      <th>0</th>\n",
       "      <td>284500</td>\n",
       "      <td>1652343</td>\n",
       "      <td>243.0610</td>\n",
       "      <td>-0.890647</td>\n",
       "      <td>2.14866</td>\n",
       "    </tr>\n",
       "    <tr>\n",
       "      <th>1</th>\n",
       "      <td>284500</td>\n",
       "      <td>1652343</td>\n",
       "      <td>98.8450</td>\n",
       "      <td>-0.419785</td>\n",
       "      <td>1.96751</td>\n",
       "    </tr>\n",
       "    <tr>\n",
       "      <th>2</th>\n",
       "      <td>284500</td>\n",
       "      <td>1652343</td>\n",
       "      <td>93.1911</td>\n",
       "      <td>-0.242547</td>\n",
       "      <td>2.80465</td>\n",
       "    </tr>\n",
       "    <tr>\n",
       "      <th>3</th>\n",
       "      <td>284500</td>\n",
       "      <td>1652221</td>\n",
       "      <td>121.9710</td>\n",
       "      <td>-0.935860</td>\n",
       "      <td>2.44594</td>\n",
       "    </tr>\n",
       "    <tr>\n",
       "      <th>4</th>\n",
       "      <td>284500</td>\n",
       "      <td>1652221</td>\n",
       "      <td>102.9700</td>\n",
       "      <td>-0.691468</td>\n",
       "      <td>1.25401</td>\n",
       "    </tr>\n",
       "  </tbody>\n",
       "</table>\n",
       "</div>"
      ],
      "text/plain": [
       "   RunNumber  EventNumber     JetPt    JetEta   JetPhi\n",
       "0     284500      1652343  243.0610 -0.890647  2.14866\n",
       "1     284500      1652343   98.8450 -0.419785  1.96751\n",
       "2     284500      1652343   93.1911 -0.242547  2.80465\n",
       "3     284500      1652221  121.9710 -0.935860  2.44594\n",
       "4     284500      1652221  102.9700 -0.691468  1.25401"
      ]
     },
     "execution_count": 22,
     "metadata": {},
     "output_type": "execute_result"
    }
   ],
   "source": [
    "events_to_use[1][:5][['RunNumber', 'EventNumber', 'JetPt', 'JetEta', 'JetPhi']]"
   ]
  },
  {
   "cell_type": "code",
   "execution_count": 23,
   "metadata": {},
   "outputs": [
    {
     "data": {
      "text/html": [
       "<div>\n",
       "<style scoped>\n",
       "    .dataframe tbody tr th:only-of-type {\n",
       "        vertical-align: middle;\n",
       "    }\n",
       "\n",
       "    .dataframe tbody tr th {\n",
       "        vertical-align: top;\n",
       "    }\n",
       "\n",
       "    .dataframe thead th {\n",
       "        text-align: right;\n",
       "    }\n",
       "</style>\n",
       "<table border=\"1\" class=\"dataframe\">\n",
       "  <thead>\n",
       "    <tr style=\"text-align: right;\">\n",
       "      <th></th>\n",
       "      <th>BIBDeltaTimingM</th>\n",
       "      <th>BIBDeltaTimingP</th>\n",
       "      <th>CalRatio</th>\n",
       "      <th>EnergyDensity</th>\n",
       "      <th>FirstClusterRadius</th>\n",
       "      <th>HadronicLayer1Fraction</th>\n",
       "      <th>JetEta</th>\n",
       "      <th>JetLong</th>\n",
       "      <th>JetPt</th>\n",
       "      <th>JetWidth</th>\n",
       "      <th>MaxTrackPt</th>\n",
       "      <th>NTracks</th>\n",
       "      <th>PredictedLz</th>\n",
       "      <th>ShowerCenter</th>\n",
       "      <th>SumPtOfAllTracks</th>\n",
       "    </tr>\n",
       "  </thead>\n",
       "  <tbody>\n",
       "    <tr>\n",
       "      <th>532863</th>\n",
       "      <td>2.61928</td>\n",
       "      <td>14.73670</td>\n",
       "      <td>-0.785400</td>\n",
       "      <td>0.004791</td>\n",
       "      <td>2512</td>\n",
       "      <td>0.901575</td>\n",
       "      <td>-0.935860</td>\n",
       "      <td>0.968750</td>\n",
       "      <td>121.9710</td>\n",
       "      <td>0.086531</td>\n",
       "      <td>16.8386</td>\n",
       "      <td>4</td>\n",
       "      <td>810.791</td>\n",
       "      <td>366.0</td>\n",
       "      <td>29.6025</td>\n",
       "    </tr>\n",
       "    <tr>\n",
       "      <th>532864</th>\n",
       "      <td>2.18392</td>\n",
       "      <td>12.99140</td>\n",
       "      <td>-1.545070</td>\n",
       "      <td>0.003418</td>\n",
       "      <td>2352</td>\n",
       "      <td>0.693256</td>\n",
       "      <td>-0.691468</td>\n",
       "      <td>0.691406</td>\n",
       "      <td>102.9700</td>\n",
       "      <td>0.188967</td>\n",
       "      <td>16.4385</td>\n",
       "      <td>6</td>\n",
       "      <td>487.665</td>\n",
       "      <td>244.0</td>\n",
       "      <td>45.4132</td>\n",
       "    </tr>\n",
       "    <tr>\n",
       "      <th>532865</th>\n",
       "      <td>31.37850</td>\n",
       "      <td>2.54659</td>\n",
       "      <td>-0.230594</td>\n",
       "      <td>0.000725</td>\n",
       "      <td>5056</td>\n",
       "      <td>0.505638</td>\n",
       "      <td>1.349760</td>\n",
       "      <td>0.734375</td>\n",
       "      <td>424.5490</td>\n",
       "      <td>0.104252</td>\n",
       "      <td>110.9180</td>\n",
       "      <td>13</td>\n",
       "      <td>886.868</td>\n",
       "      <td>2272.0</td>\n",
       "      <td>211.9560</td>\n",
       "    </tr>\n",
       "    <tr>\n",
       "      <th>532866</th>\n",
       "      <td>14.10390</td>\n",
       "      <td>1.84075</td>\n",
       "      <td>-0.839071</td>\n",
       "      <td>0.005554</td>\n",
       "      <td>2464</td>\n",
       "      <td>0.672046</td>\n",
       "      <td>0.962478</td>\n",
       "      <td>0.832031</td>\n",
       "      <td>73.6816</td>\n",
       "      <td>0.096875</td>\n",
       "      <td>16.8371</td>\n",
       "      <td>5</td>\n",
       "      <td>1009.950</td>\n",
       "      <td>197.0</td>\n",
       "      <td>38.7491</td>\n",
       "    </tr>\n",
       "    <tr>\n",
       "      <th>532867</th>\n",
       "      <td>7.23076</td>\n",
       "      <td>4.37807</td>\n",
       "      <td>-2.106450</td>\n",
       "      <td>0.004181</td>\n",
       "      <td>1704</td>\n",
       "      <td>1.000000</td>\n",
       "      <td>0.228497</td>\n",
       "      <td>0.941406</td>\n",
       "      <td>67.8031</td>\n",
       "      <td>0.076090</td>\n",
       "      <td>54.0849</td>\n",
       "      <td>24</td>\n",
       "      <td>-128.344</td>\n",
       "      <td>163.0</td>\n",
       "      <td>299.8710</td>\n",
       "    </tr>\n",
       "  </tbody>\n",
       "</table>\n",
       "</div>"
      ],
      "text/plain": [
       "        BIBDeltaTimingM  BIBDeltaTimingP  CalRatio  EnergyDensity  \\\n",
       "532863          2.61928         14.73670 -0.785400       0.004791   \n",
       "532864          2.18392         12.99140 -1.545070       0.003418   \n",
       "532865         31.37850          2.54659 -0.230594       0.000725   \n",
       "532866         14.10390          1.84075 -0.839071       0.005554   \n",
       "532867          7.23076          4.37807 -2.106450       0.004181   \n",
       "\n",
       "        FirstClusterRadius  HadronicLayer1Fraction    JetEta   JetLong  \\\n",
       "532863                2512                0.901575 -0.935860  0.968750   \n",
       "532864                2352                0.693256 -0.691468  0.691406   \n",
       "532865                5056                0.505638  1.349760  0.734375   \n",
       "532866                2464                0.672046  0.962478  0.832031   \n",
       "532867                1704                1.000000  0.228497  0.941406   \n",
       "\n",
       "           JetPt  JetWidth  MaxTrackPt  NTracks  PredictedLz  ShowerCenter  \\\n",
       "532863  121.9710  0.086531     16.8386        4      810.791         366.0   \n",
       "532864  102.9700  0.188967     16.4385        6      487.665         244.0   \n",
       "532865  424.5490  0.104252    110.9180       13      886.868        2272.0   \n",
       "532866   73.6816  0.096875     16.8371        5     1009.950         197.0   \n",
       "532867   67.8031  0.076090     54.0849       24     -128.344         163.0   \n",
       "\n",
       "        SumPtOfAllTracks  \n",
       "532863           29.6025  \n",
       "532864           45.4132  \n",
       "532865          211.9560  \n",
       "532866           38.7491  \n",
       "532867          299.8710  "
      ]
     },
     "execution_count": 23,
     "metadata": {},
     "output_type": "execute_result"
    }
   ],
   "source": [
    "subsample = all_events[all_events_class.Class==1][:5]\n",
    "subsample"
   ]
  },
  {
   "cell_type": "code",
   "execution_count": 24,
   "metadata": {},
   "outputs": [
    {
     "data": {
      "text/plain": [
       "array([[0.32098726, 0.34932523, 0.32968751],\n",
       "       [0.32000089, 0.3524836 , 0.32751551],\n",
       "       [0.3185586 , 0.35535663, 0.32608476],\n",
       "       [0.32828772, 0.345994  , 0.32571828],\n",
       "       [0.32288244, 0.35601714, 0.32110042]])"
      ]
     },
     "execution_count": 24,
     "metadata": {},
     "output_type": "execute_result"
    }
   ],
   "source": [
    "bdtGeneral.eval(subsample)"
   ]
  },
  {
   "cell_type": "code",
   "execution_count": 25,
   "metadata": {},
   "outputs": [
    {
     "data": {
      "text/plain": [
       "array([[2.10617440e-04, 9.97152864e-01, 2.63651865e-03],\n",
       "       [6.30822483e-05, 9.99382239e-01, 5.54678943e-04],\n",
       "       [1.78386627e-05, 9.99823107e-01, 1.59054360e-04],\n",
       "       [5.18094456e-03, 9.92780963e-01, 2.03809224e-03],\n",
       "       [5.70509897e-05, 9.99914637e-01, 2.83122391e-05]])"
      ]
     },
     "execution_count": 25,
     "metadata": {},
     "output_type": "execute_result"
    }
   ],
   "source": [
    "bdt1.predict_proba(subsample)"
   ]
  },
  {
   "cell_type": "markdown",
   "metadata": {},
   "source": [
    "### Signal (class 2)\n",
    "\n",
    "Finally, lets look at signal"
   ]
  },
  {
   "cell_type": "code",
   "execution_count": 26,
   "metadata": {},
   "outputs": [
    {
     "data": {
      "text/html": [
       "<div>\n",
       "<style scoped>\n",
       "    .dataframe tbody tr th:only-of-type {\n",
       "        vertical-align: middle;\n",
       "    }\n",
       "\n",
       "    .dataframe tbody tr th {\n",
       "        vertical-align: top;\n",
       "    }\n",
       "\n",
       "    .dataframe thead th {\n",
       "        text-align: right;\n",
       "    }\n",
       "</style>\n",
       "<table border=\"1\" class=\"dataframe\">\n",
       "  <thead>\n",
       "    <tr style=\"text-align: right;\">\n",
       "      <th></th>\n",
       "      <th>RunNumber</th>\n",
       "      <th>EventNumber</th>\n",
       "      <th>JetPt</th>\n",
       "      <th>JetEta</th>\n",
       "      <th>JetPhi</th>\n",
       "    </tr>\n",
       "  </thead>\n",
       "  <tbody>\n",
       "    <tr>\n",
       "      <th>0</th>\n",
       "      <td>284500</td>\n",
       "      <td>171076</td>\n",
       "      <td>158.9240</td>\n",
       "      <td>-0.985681</td>\n",
       "      <td>0.255070</td>\n",
       "    </tr>\n",
       "    <tr>\n",
       "      <th>1</th>\n",
       "      <td>284500</td>\n",
       "      <td>171242</td>\n",
       "      <td>117.5200</td>\n",
       "      <td>-0.328739</td>\n",
       "      <td>3.004210</td>\n",
       "    </tr>\n",
       "    <tr>\n",
       "      <th>2</th>\n",
       "      <td>284500</td>\n",
       "      <td>171705</td>\n",
       "      <td>200.1870</td>\n",
       "      <td>1.260690</td>\n",
       "      <td>-0.629426</td>\n",
       "    </tr>\n",
       "    <tr>\n",
       "      <th>3</th>\n",
       "      <td>284500</td>\n",
       "      <td>171165</td>\n",
       "      <td>80.9756</td>\n",
       "      <td>1.358970</td>\n",
       "      <td>0.033844</td>\n",
       "    </tr>\n",
       "    <tr>\n",
       "      <th>6</th>\n",
       "      <td>284500</td>\n",
       "      <td>171034</td>\n",
       "      <td>248.2560</td>\n",
       "      <td>0.501694</td>\n",
       "      <td>-0.495947</td>\n",
       "    </tr>\n",
       "  </tbody>\n",
       "</table>\n",
       "</div>"
      ],
      "text/plain": [
       "   RunNumber  EventNumber     JetPt    JetEta    JetPhi\n",
       "0     284500       171076  158.9240 -0.985681  0.255070\n",
       "1     284500       171242  117.5200 -0.328739  3.004210\n",
       "2     284500       171705  200.1870  1.260690 -0.629426\n",
       "3     284500       171165   80.9756  1.358970  0.033844\n",
       "6     284500       171034  248.2560  0.501694 -0.495947"
      ]
     },
     "execution_count": 26,
     "metadata": {},
     "output_type": "execute_result"
    }
   ],
   "source": [
    "events_to_use[2][:5][['RunNumber', 'EventNumber', 'JetPt', 'JetEta', 'JetPhi']]"
   ]
  },
  {
   "cell_type": "code",
   "execution_count": 27,
   "metadata": {},
   "outputs": [
    {
     "data": {
      "text/html": [
       "<div>\n",
       "<style scoped>\n",
       "    .dataframe tbody tr th:only-of-type {\n",
       "        vertical-align: middle;\n",
       "    }\n",
       "\n",
       "    .dataframe tbody tr th {\n",
       "        vertical-align: top;\n",
       "    }\n",
       "\n",
       "    .dataframe thead th {\n",
       "        text-align: right;\n",
       "    }\n",
       "</style>\n",
       "<table border=\"1\" class=\"dataframe\">\n",
       "  <thead>\n",
       "    <tr style=\"text-align: right;\">\n",
       "      <th></th>\n",
       "      <th>BIBDeltaTimingM</th>\n",
       "      <th>BIBDeltaTimingP</th>\n",
       "      <th>CalRatio</th>\n",
       "      <th>EnergyDensity</th>\n",
       "      <th>FirstClusterRadius</th>\n",
       "      <th>HadronicLayer1Fraction</th>\n",
       "      <th>JetEta</th>\n",
       "      <th>JetLong</th>\n",
       "      <th>JetPt</th>\n",
       "      <th>JetWidth</th>\n",
       "      <th>MaxTrackPt</th>\n",
       "      <th>NTracks</th>\n",
       "      <th>PredictedLz</th>\n",
       "      <th>ShowerCenter</th>\n",
       "      <th>SumPtOfAllTracks</th>\n",
       "    </tr>\n",
       "  </thead>\n",
       "  <tbody>\n",
       "    <tr>\n",
       "      <th>1066442</th>\n",
       "      <td>4.37826</td>\n",
       "      <td>31.25680</td>\n",
       "      <td>2.23829</td>\n",
       "      <td>0.000671</td>\n",
       "      <td>5312</td>\n",
       "      <td>0.000286</td>\n",
       "      <td>-0.985681</td>\n",
       "      <td>0.617188</td>\n",
       "      <td>158.924</td>\n",
       "      <td>0.009716</td>\n",
       "      <td>0.000000</td>\n",
       "      <td>0</td>\n",
       "      <td>3068.820</td>\n",
       "      <td>2992.0</td>\n",
       "      <td>0.000000</td>\n",
       "    </tr>\n",
       "    <tr>\n",
       "      <th>1066443</th>\n",
       "      <td>13.06520</td>\n",
       "      <td>19.67940</td>\n",
       "      <td>1.44322</td>\n",
       "      <td>0.000385</td>\n",
       "      <td>3056</td>\n",
       "      <td>0.223429</td>\n",
       "      <td>-0.328739</td>\n",
       "      <td>0.785156</td>\n",
       "      <td>117.520</td>\n",
       "      <td>0.020458</td>\n",
       "      <td>0.000000</td>\n",
       "      <td>0</td>\n",
       "      <td>826.910</td>\n",
       "      <td>1464.0</td>\n",
       "      <td>0.000000</td>\n",
       "    </tr>\n",
       "    <tr>\n",
       "      <th>1066444</th>\n",
       "      <td>9.72733</td>\n",
       "      <td>3.61386</td>\n",
       "      <td>-0.46736</td>\n",
       "      <td>0.028931</td>\n",
       "      <td>1928</td>\n",
       "      <td>0.493671</td>\n",
       "      <td>0.501694</td>\n",
       "      <td>0.679688</td>\n",
       "      <td>248.256</td>\n",
       "      <td>0.051551</td>\n",
       "      <td>0.432695</td>\n",
       "      <td>0</td>\n",
       "      <td>313.347</td>\n",
       "      <td>218.0</td>\n",
       "      <td>0.432695</td>\n",
       "    </tr>\n",
       "    <tr>\n",
       "      <th>1066445</th>\n",
       "      <td>2.52680</td>\n",
       "      <td>20.72640</td>\n",
       "      <td>-1.24967</td>\n",
       "      <td>0.017700</td>\n",
       "      <td>3184</td>\n",
       "      <td>0.408885</td>\n",
       "      <td>-1.301250</td>\n",
       "      <td>0.941406</td>\n",
       "      <td>105.639</td>\n",
       "      <td>0.022705</td>\n",
       "      <td>0.706930</td>\n",
       "      <td>0</td>\n",
       "      <td>1204.780</td>\n",
       "      <td>314.0</td>\n",
       "      <td>0.706930</td>\n",
       "    </tr>\n",
       "    <tr>\n",
       "      <th>1066446</th>\n",
       "      <td>13.39250</td>\n",
       "      <td>10.79180</td>\n",
       "      <td>1.47009</td>\n",
       "      <td>0.000610</td>\n",
       "      <td>3056</td>\n",
       "      <td>0.009390</td>\n",
       "      <td>0.124157</td>\n",
       "      <td>0.640625</td>\n",
       "      <td>159.514</td>\n",
       "      <td>0.018088</td>\n",
       "      <td>1.214390</td>\n",
       "      <td>0</td>\n",
       "      <td>569.214</td>\n",
       "      <td>1552.0</td>\n",
       "      <td>1.214390</td>\n",
       "    </tr>\n",
       "  </tbody>\n",
       "</table>\n",
       "</div>"
      ],
      "text/plain": [
       "         BIBDeltaTimingM  BIBDeltaTimingP  CalRatio  EnergyDensity  \\\n",
       "1066442          4.37826         31.25680   2.23829       0.000671   \n",
       "1066443         13.06520         19.67940   1.44322       0.000385   \n",
       "1066444          9.72733          3.61386  -0.46736       0.028931   \n",
       "1066445          2.52680         20.72640  -1.24967       0.017700   \n",
       "1066446         13.39250         10.79180   1.47009       0.000610   \n",
       "\n",
       "         FirstClusterRadius  HadronicLayer1Fraction    JetEta   JetLong  \\\n",
       "1066442                5312                0.000286 -0.985681  0.617188   \n",
       "1066443                3056                0.223429 -0.328739  0.785156   \n",
       "1066444                1928                0.493671  0.501694  0.679688   \n",
       "1066445                3184                0.408885 -1.301250  0.941406   \n",
       "1066446                3056                0.009390  0.124157  0.640625   \n",
       "\n",
       "           JetPt  JetWidth  MaxTrackPt  NTracks  PredictedLz  ShowerCenter  \\\n",
       "1066442  158.924  0.009716    0.000000        0     3068.820        2992.0   \n",
       "1066443  117.520  0.020458    0.000000        0      826.910        1464.0   \n",
       "1066444  248.256  0.051551    0.432695        0      313.347         218.0   \n",
       "1066445  105.639  0.022705    0.706930        0     1204.780         314.0   \n",
       "1066446  159.514  0.018088    1.214390        0      569.214        1552.0   \n",
       "\n",
       "         SumPtOfAllTracks  \n",
       "1066442          0.000000  \n",
       "1066443          0.000000  \n",
       "1066444          0.432695  \n",
       "1066445          0.706930  \n",
       "1066446          1.214390  "
      ]
     },
     "execution_count": 27,
     "metadata": {},
     "output_type": "execute_result"
    }
   ],
   "source": [
    "subsample = all_events[all_events_class.Class==2][:5]\n",
    "subsample"
   ]
  },
  {
   "cell_type": "code",
   "execution_count": 28,
   "metadata": {},
   "outputs": [
    {
     "data": {
      "text/plain": [
       "array([[0.33169725, 0.31827921, 0.35002354],\n",
       "       [0.33965396, 0.31798819, 0.34235785],\n",
       "       [0.32280125, 0.33008607, 0.34711268],\n",
       "       [0.32064084, 0.33619624, 0.34316292],\n",
       "       [0.33853044, 0.31715119, 0.34431837]])"
      ]
     },
     "execution_count": 28,
     "metadata": {},
     "output_type": "execute_result"
    }
   ],
   "source": [
    "bdtGeneral.eval(subsample)"
   ]
  },
  {
   "cell_type": "code",
   "execution_count": 29,
   "metadata": {},
   "outputs": [
    {
     "data": {
      "text/plain": [
       "array([[5.32158760e-03, 8.58486576e-05, 9.94592564e-01],\n",
       "       [3.43794953e-01, 4.72914212e-04, 6.55732133e-01],\n",
       "       [8.06806917e-04, 7.53392408e-03, 9.91659269e-01],\n",
       "       [1.13457202e-03, 1.29803634e-01, 8.69061794e-01],\n",
       "       [1.75321563e-01, 2.58077207e-04, 8.24420360e-01]])"
      ]
     },
     "execution_count": 29,
     "metadata": {},
     "output_type": "execute_result"
    }
   ],
   "source": [
    "bdt1.predict_proba(subsample)"
   ]
  },
  {
   "cell_type": "markdown",
   "metadata": {},
   "source": [
    "## Plots of TMVA Translation Performance"
   ]
  },
  {
   "cell_type": "code",
   "execution_count": 30,
   "metadata": {},
   "outputs": [
    {
     "name": "stdout",
     "output_type": "stream",
     "text": [
      "CPU times: user 22min 50s, sys: 5min 54s, total: 28min 45s\n",
      "Wall time: 7min 11s\n"
     ]
    }
   ],
   "source": [
    "%%time\n",
    "predicted_tmva_weights = bdtGeneral.eval(perf_events)"
   ]
  },
  {
   "cell_type": "code",
   "execution_count": 31,
   "metadata": {},
   "outputs": [
    {
     "data": {
      "text/plain": [
       "<matplotlib.legend.Legend at 0x7fc68a88d7f0>"
      ]
     },
     "execution_count": 31,
     "metadata": {},
     "output_type": "execute_result"
    },
    {
     "data": {
      "image/png": "[encoded data removed]",
      "text/plain": [
       "<Figure size 1080x720 with 3 Axes>"
      ]
     },
     "metadata": {},
     "output_type": "display_data"
    }
   ],
   "source": [
    "fig = plt.figure(figsize=(15,10))\n",
    "\n",
    "ax = plt.subplot(221)\n",
    "ax.hist(predicted_tmva_weights[perf_events_class.Class == 0], label=('BiB', \"MJ\", 'HSS'), bins=50, histtype = 'step', range=[0.3, 0.37])\n",
    "ax.set_xlabel('Weight')\n",
    "ax.set_title('Class: BIB')\n",
    "ax.legend()\n",
    "\n",
    "ax = plt.subplot(222)\n",
    "ax.hist(predicted_tmva_weights[perf_events_class.Class == 1], label=('BiB', \"MJ\", 'HSS'), bins=50, histtype = 'step', range=[0.3, 0.37])\n",
    "ax.set_xlabel('Weight')\n",
    "ax.set_title('Class: MJ')\n",
    "ax.legend()\n",
    "\n",
    "ax = plt.subplot(223)\n",
    "ax.hist(predicted_tmva_weights[perf_events_class.Class == 2], label=('BiB', \"MJ\", 'HSS'), bins=50, histtype = 'step', range=[0.3, 0.37])\n",
    "ax.set_xlabel('Weight')\n",
    "ax.set_title('Class: HSS')\n",
    "ax.legend()"
   ]
  },
  {
   "cell_type": "markdown",
   "metadata": {},
   "source": [
    "Note in this version how everything is on top of itself. :("
   ]
  },
  {
   "cell_type": "code",
   "execution_count": null,
   "metadata": {},
   "outputs": [],
   "source": []
  }
 ],
 "metadata": {
  "kernelspec": {
   "display_name": "Python 3",
   "language": "python",
   "name": "python3"
  },
  "language_info": {
   "codemirror_mode": {
    "name": "ipython",
    "version": 3
   },
   "file_extension": ".py",
   "mimetype": "text/x-python",
   "name": "python",
   "nbconvert_exporter": "python",
   "pygments_lexer": "ipython3",
   "version": "3.6.5"
  }
 },
 "nbformat": 4,
 "nbformat_minor": 2
}
