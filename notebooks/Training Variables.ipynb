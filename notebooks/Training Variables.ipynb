{
 "cells": [
  {
   "cell_type": "markdown",
   "metadata": {},
   "source": [
    "What variables should be used for training. We look at the performance of the default training vs the training with each variable removed. If the performance improves when we remove a variable, we know that variable is making the training worse. Further, by looking at the change in performance we can rank the variables to first order."
   ]
  },
  {
   "cell_type": "markdown",
   "metadata": {},
   "source": [
    "# Initalization"
   ]
  },
  {
   "cell_type": "code",
   "execution_count": 1,
   "metadata": {
    "collapsed": true
   },
   "outputs": [],
   "source": [
    "from bdt_training_scikit_tools import load_default_samples, default_training_variable_list, \\\n",
    "    test_train_samples, prep_samples, default_training, calc_performance\n",
    "import matplotlib.pyplot as plt\n",
    "plt.rc('font', size=14)\n",
    "from matplotlib.colors import LogNorm\n",
    "import pandas as pd\n",
    "import numpy as np\n",
    "import multiprocessing as mp\n",
    "import itertools"
   ]
  },
  {
   "cell_type": "markdown",
   "metadata": {},
   "source": [
    "# Load Data Samples"
   ]
  },
  {
   "cell_type": "code",
   "execution_count": 2,
   "metadata": {},
   "outputs": [
    {
     "name": "stdout",
     "output_type": "stream",
     "text": [
      "BIB: 800000 events\n",
      "Multijet: 800000 events\n",
      "Signal: 800000 events\n"
     ]
    }
   ],
   "source": [
    "all_events = load_default_samples(\"92\")"
   ]
  },
  {
   "cell_type": "markdown",
   "metadata": {},
   "source": [
    "# Drop First Variable"
   ]
  },
  {
   "cell_type": "code",
   "execution_count": 28,
   "metadata": {},
   "outputs": [
    {
     "name": "stdout",
     "output_type": "stream",
     "text": [
      "Overwriting get_training_performance.py\n"
     ]
    }
   ],
   "source": [
    "%%writefile get_training_performance.py\n",
    "from bdt_training_scikit_tools import load_default_samples, default_training_variable_list, \\\n",
    "    test_train_samples, prep_samples, default_training, calc_performance\n",
    "    \n",
    "def do_training (vlist):\n",
    "    all_events, training_list = vlist\n",
    "    return get_training_performance (all_events, training_list)\n",
    "    \n",
    "def get_training_performance (all_events, training_list):\n",
    "    '''Run a training with the set of varaibles given. Return a performance table.'''\n",
    "    \n",
    "    # Split into testing and training samples\n",
    "    train, test = test_train_samples(all_events)\n",
    "        \n",
    "    # Prep samples for training\n",
    "    all_events, all_events_class, training_weight, evaluation_weight = prep_samples(train[0], train[1], train[2], training_variable_list=training_list)\n",
    "    \n",
    "    # Run training\n",
    "    bdt = default_training(all_events, training_weight, all_events_class)\n",
    "    \n",
    "    # Create a thing of all the results\n",
    "    return {tuple(training_list): calc_performance(bdt, test, training_variables = training_list)}"
   ]
  },
  {
   "cell_type": "code",
   "execution_count": 29,
   "metadata": {
    "collapsed": true
   },
   "outputs": [],
   "source": [
    "def all_but_one (vlist, number_to_drop = 1):\n",
    "    '''Return vlist and vlist with each item removed\n",
    "    \n",
    "    Arguments:\n",
    "        vlist - the source list or tuple\n",
    "        number_to_drop - return a list that is len(vlist)-number_to_drop - all possible combinations\n",
    "        \n",
    "    Returns:\n",
    "        A list of tuples that have len(vlist)-number_to_drop items.\n",
    "    \n",
    "    '''\n",
    "    var_training_list = itertools.combinations(vlist, len(vlist)-number_to_drop)\n",
    "    var_training_list = list(var_training_list) + [tuple(vlist)]\n",
    "    return var_training_list"
   ]
  },
  {
   "cell_type": "code",
   "execution_count": 47,
   "metadata": {},
   "outputs": [],
   "source": [
    "import get_training_performance\n",
    "pool = mp.Pool(processes=4)\n",
    "\n",
    "def unused_var(original_list, used_list):\n",
    "    r = tuple(i for i in original_list if i not in used_list)\n",
    "    r = r if len(r) != 0 else ('None',)\n",
    "    return r\n",
    "\n",
    "def calc_var_removal(all_events, trainging_list = default_training_variable_list):\n",
    "    r_drop_first = pool.map(get_training_performance.do_training,\n",
    "             [(all_events, tvar_list) for tvar_list in all_but_one(trainging_list)])\n",
    "\n",
    "    one_dict = {}\n",
    "    for kp in r_drop_first:\n",
    "        one_dict.update(kp)\n",
    "\n",
    "    return pd.DataFrame({unused_var(training_list, k):one_dict[k] for k in one_dict}).T\n"
   ]
  },
  {
   "cell_type": "code",
   "execution_count": 31,
   "metadata": {},
   "outputs": [],
   "source": [
    "r_drop_first = calc_var_removal(all_events)"
   ]
  },
  {
   "cell_type": "code",
   "execution_count": 38,
   "metadata": {},
   "outputs": [
    {
     "data": {
      "text/plain": [
       "JetPt                     48.207755\n",
       "HadronicLayer1Fraction    58.711762\n",
       "ShowerCenter              58.880425\n",
       "BIBDeltaTimingP           58.932652\n",
       "PredictedLxy              59.021461\n",
       "NTracks                   59.478448\n",
       "CalRatio                  60.245566\n",
       "JetLong                   60.251028\n",
       "PredictedLz               60.478484\n",
       "MaxTrackPt                61.059570\n",
       "JetLat                    61.130377\n",
       "EnergyDensity             61.292645\n",
       "BIBDeltaTimingM           62.149705\n",
       "JetWidth                  62.374182\n",
       "FirstClusterRadius        62.574145\n",
       "None                      62.586100\n",
       "SumPtOfAllTracks          65.347513\n",
       "Name: HSSSsqrtB, dtype: float64"
      ]
     },
     "execution_count": 38,
     "metadata": {},
     "output_type": "execute_result"
    }
   ],
   "source": [
    "r_drop_first.sort_values(\"HSSSsqrtB\").HSSSsqrtB"
   ]
  },
  {
   "cell_type": "markdown",
   "metadata": {},
   "source": [
    "# Drop SumPtOfAllTracks"
   ]
  },
  {
   "cell_type": "code",
   "execution_count": 42,
   "metadata": {},
   "outputs": [],
   "source": [
    "down_one_list = list(set(default_training_variable_list) - set([\"SumPtOfAllTracks\"]))"
   ]
  },
  {
   "cell_type": "code",
   "execution_count": 43,
   "metadata": {
    "collapsed": true
   },
   "outputs": [],
   "source": [
    "r_drop_second = calc_var_removal(all_events, down_one_list)"
   ]
  },
  {
   "cell_type": "code",
   "execution_count": 48,
   "metadata": {},
   "outputs": [
    {
     "data": {
      "text/plain": [
       "JetPt             SumPtOfAllTracks          52.275475\n",
       "SumPtOfAllTracks  MaxTrackPt                57.703929\n",
       "                  JetLat                    60.803398\n",
       "                  BIBDeltaTimingP           61.264952\n",
       "CalRatio          SumPtOfAllTracks          61.434637\n",
       "SumPtOfAllTracks  HadronicLayer1Fraction    61.503080\n",
       "                  PredictedLz               61.614564\n",
       "                  JetWidth                  61.897495\n",
       "                  ShowerCenter              62.899632\n",
       "NTracks           SumPtOfAllTracks          63.463857\n",
       "SumPtOfAllTracks  FirstClusterRadius        63.471797\n",
       "                  PredictedLxy              63.596035\n",
       "                  EnergyDensity             63.873272\n",
       "                  BIBDeltaTimingM           63.983250\n",
       "                  JetLong                   64.423945\n",
       "                  NaN                       65.347513\n",
       "Name: HSSSsqrtB, dtype: float64"
      ]
     },
     "execution_count": 48,
     "metadata": {},
     "output_type": "execute_result"
    }
   ],
   "source": [
    "r_drop_second.sort_values(\"HSSSsqrtB\").HSSSsqrtB"
   ]
  },
  {
   "cell_type": "code",
   "execution_count": null,
   "metadata": {
    "collapsed": true
   },
   "outputs": [],
   "source": []
  }
 ],
 "metadata": {
  "kernelspec": {
   "display_name": "Python 3",
   "language": "python",
   "name": "python3"
  },
  "language_info": {
   "codemirror_mode": {
    "name": "ipython",
    "version": 3
   },
   "file_extension": ".py",
   "mimetype": "text/x-python",
   "name": "python",
   "nbconvert_exporter": "python",
   "pygments_lexer": "ipython3",
   "version": "3.6.3"
  }
 },
 "nbformat": 4,
 "nbformat_minor": 2
}
