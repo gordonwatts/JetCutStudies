{
 "cells": [
  {
   "cell_type": "markdown",
   "metadata": {},
   "source": [
    "What variables should be used for training. We look at the performance of the default training vs the training with each variable removed. If the performance improves when we remove a variable, we know that variable is making the training worse. Further, by looking at the change in performance we can rank the variables to first order."
   ]
  },
  {
   "cell_type": "markdown",
   "metadata": {},
   "source": [
    "# Initalization"
   ]
  },
  {
   "cell_type": "code",
   "execution_count": 3,
   "metadata": {
    "collapsed": true
   },
   "outputs": [],
   "source": [
    "from bdt_training_scikit_tools import load_default_samples, default_training_variable_list, \\\n",
    "    test_train_samples, prep_samples, default_training, calc_performance\n",
    "import matplotlib.pyplot as plt\n",
    "plt.rc('font', size=14)\n",
    "from matplotlib.colors import LogNorm\n",
    "import pandas as pd\n",
    "import numpy as np\n",
    "import multiprocessing as mp\n",
    "import itertools"
   ]
  },
  {
   "cell_type": "markdown",
   "metadata": {},
   "source": [
    "# Load Data Samples"
   ]
  },
  {
   "cell_type": "code",
   "execution_count": 8,
   "metadata": {
    "collapsed": true
   },
   "outputs": [],
   "source": [
    "default_cut_Lxy = 1250\n",
    "default_cut_Lz = 3500\n",
    "eta_seperator_cut = 1.4\n",
    "def trim_sample(sample, cut_Lxy = default_cut_Lxy, cut_Lz = default_cut_Lz):\n",
    "    '''Trim lxy and lz cuts for a sample'''\n",
    "    return sample[((abs(sample.JetEta) > eta_seperator_cut) & (sample.mc_Lz*1000 > cut_Lz)) | ((abs(sample.JetEta) <= eta_seperator_cut) & (sample.mc_Lxy*1000 > cut_Lxy))]\n",
    "\n",
    "def trim_samples(all_events):\n",
    "    '''Trim default lxy and lz cuts for a tuple of (mj, bib, signal) samples'''\n",
    "    return (all_events[0], all_events[1], trim_sample(all_events[2]))"
   ]
  },
  {
   "cell_type": "code",
   "execution_count": 6,
   "metadata": {},
   "outputs": [
    {
     "name": "stdout",
     "output_type": "stream",
     "text": [
      "BIB: 800000 events\n",
      "Multijet: 800000 events\n",
      "Signal: 800000 events\n"
     ]
    }
   ],
   "source": [
    "all_events_all = load_default_samples(\"92\")"
   ]
  },
  {
   "cell_type": "code",
   "execution_count": 11,
   "metadata": {},
   "outputs": [
    {
     "name": "stdout",
     "output_type": "stream",
     "text": [
      "[800000, 800000, 432189]\n"
     ]
    }
   ],
   "source": [
    "all_events = trim_samples(all_events_all)\n",
    "print ([len(e.index) for e in all_events])"
   ]
  },
  {
   "cell_type": "markdown",
   "metadata": {},
   "source": [
    "# Drop First Variable"
   ]
  },
  {
   "cell_type": "code",
   "execution_count": 12,
   "metadata": {},
   "outputs": [
    {
     "name": "stdout",
     "output_type": "stream",
     "text": [
      "Overwriting get_training_performance.py\n"
     ]
    }
   ],
   "source": [
    "%%writefile get_training_performance.py\n",
    "from bdt_training_scikit_tools import load_default_samples, default_training_variable_list, \\\n",
    "    test_train_samples, prep_samples, default_training, calc_performance\n",
    "    \n",
    "def do_training (vlist):\n",
    "    all_events, training_list = vlist\n",
    "    return get_training_performance (all_events, training_list)\n",
    "    \n",
    "def get_training_performance (all_events, training_list):\n",
    "    '''Run a training with the set of varaibles given. Return a performance table.'''\n",
    "    \n",
    "    # Split into testing and training samples\n",
    "    train, test = test_train_samples(all_events)\n",
    "        \n",
    "    # Prep samples for training\n",
    "    all_events, all_events_class, training_weight, evaluation_weight = prep_samples(train[0], train[1], train[2], training_variable_list=training_list)\n",
    "    \n",
    "    # Run training\n",
    "    bdt = default_training(all_events, training_weight, all_events_class)\n",
    "    \n",
    "    # Create a thing of all the results\n",
    "    return {tuple(training_list): calc_performance(bdt, test, training_variables = training_list)}"
   ]
  },
  {
   "cell_type": "code",
   "execution_count": 13,
   "metadata": {
    "collapsed": true
   },
   "outputs": [],
   "source": [
    "def all_but_one (vlist, number_to_drop = 1):\n",
    "    '''Return vlist and vlist with each item removed\n",
    "    \n",
    "    Arguments:\n",
    "        vlist - the source list or tuple\n",
    "        number_to_drop - return a list that is len(vlist)-number_to_drop - all possible combinations\n",
    "        \n",
    "    Returns:\n",
    "        A list of tuples that have len(vlist)-number_to_drop items.\n",
    "    \n",
    "    '''\n",
    "    var_training_list = itertools.combinations(vlist, len(vlist)-number_to_drop)\n",
    "    var_training_list = list(var_training_list) + [tuple(vlist)]\n",
    "    return var_training_list"
   ]
  },
  {
   "cell_type": "code",
   "execution_count": 16,
   "metadata": {
    "collapsed": true
   },
   "outputs": [],
   "source": [
    "import get_training_performance\n",
    "pool = mp.Pool(processes=4)\n",
    "\n",
    "def unused_var(original_list, used_list):\n",
    "    r = tuple(i for i in original_list if i not in used_list)\n",
    "    r = r if len(r) != 0 else ('None',)\n",
    "    return r\n",
    "\n",
    "def calc_var_removal(all_events, training_list = default_training_variable_list):\n",
    "    r_drop_first = pool.map(get_training_performance.do_training,\n",
    "             [(all_events, tvar_list) for tvar_list in all_but_one(training_list)])\n",
    "\n",
    "    one_dict = {}\n",
    "    for kp in r_drop_first:\n",
    "        one_dict.update(kp)\n",
    "\n",
    "    return pd.DataFrame({unused_var(training_list, k):one_dict[k] for k in one_dict}).T\n"
   ]
  },
  {
   "cell_type": "code",
   "execution_count": 17,
   "metadata": {},
   "outputs": [],
   "source": [
    "r_drop_first = calc_var_removal(all_events)"
   ]
  },
  {
   "cell_type": "code",
   "execution_count": 18,
   "metadata": {},
   "outputs": [
    {
     "data": {
      "text/plain": [
       "JetPt                     42.237424\n",
       "PredictedLz               45.222097\n",
       "BIBDeltaTimingP           45.695701\n",
       "SumPtOfAllTracks          47.307187\n",
       "HadronicLayer1Fraction    49.157968\n",
       "JetLat                    49.218267\n",
       "JetLong                   51.890276\n",
       "BIBDeltaTimingM           51.984148\n",
       "CalRatio                  52.336483\n",
       "NTracks                   53.186099\n",
       "ShowerCenter              54.064282\n",
       "JetWidth                  54.382896\n",
       "MaxTrackPt                54.782898\n",
       "PredictedLxy              54.930037\n",
       "None                      55.580290\n",
       "FirstClusterRadius        59.610414\n",
       "EnergyDensity             60.989457\n",
       "Name: HSSSsqrtB, dtype: float64"
      ]
     },
     "execution_count": 18,
     "metadata": {},
     "output_type": "execute_result"
    }
   ],
   "source": [
    "r_drop_first.sort_values(\"HSSSsqrtB\").HSSSsqrtB"
   ]
  },
  {
   "cell_type": "markdown",
   "metadata": {},
   "source": [
    "# Drop SumPtOfAllTracks"
   ]
  },
  {
   "cell_type": "code",
   "execution_count": 20,
   "metadata": {},
   "outputs": [
    {
     "data": {
      "text/plain": [
       "['CalRatio',\n",
       " 'SumPtOfAllTracks',\n",
       " 'JetWidth',\n",
       " 'JetPt',\n",
       " 'FirstClusterRadius',\n",
       " 'BIBDeltaTimingM',\n",
       " 'PredictedLz',\n",
       " 'JetLat',\n",
       " 'ShowerCenter',\n",
       " 'BIBDeltaTimingP',\n",
       " 'PredictedLxy',\n",
       " 'JetLong',\n",
       " 'MaxTrackPt',\n",
       " 'NTracks',\n",
       " 'HadronicLayer1Fraction']"
      ]
     },
     "execution_count": 20,
     "metadata": {},
     "output_type": "execute_result"
    }
   ],
   "source": [
    "down_one_list = list(set(default_training_variable_list) - set([\"EnergyDensity\"]))\n",
    "down_one_list"
   ]
  },
  {
   "cell_type": "code",
   "execution_count": 21,
   "metadata": {
    "collapsed": true
   },
   "outputs": [],
   "source": [
    "r_drop_second = calc_var_removal(all_events, down_one_list)"
   ]
  },
  {
   "cell_type": "code",
   "execution_count": 22,
   "metadata": {},
   "outputs": [
    {
     "data": {
      "text/plain": [
       "JetPt                     40.340262\n",
       "PredictedLz               46.544526\n",
       "PredictedLxy              49.913065\n",
       "HadronicLayer1Fraction    50.644301\n",
       "ShowerCenter              51.487157\n",
       "BIBDeltaTimingP           51.860469\n",
       "JetLat                    51.896442\n",
       "SumPtOfAllTracks          52.256830\n",
       "JetWidth                  53.725551\n",
       "BIBDeltaTimingM           54.989699\n",
       "MaxTrackPt                55.649745\n",
       "JetLong                   55.893929\n",
       "CalRatio                  58.136389\n",
       "FirstClusterRadius        58.404335\n",
       "None                      60.989457\n",
       "NTracks                   62.250806\n",
       "Name: HSSSsqrtB, dtype: float64"
      ]
     },
     "execution_count": 22,
     "metadata": {},
     "output_type": "execute_result"
    }
   ],
   "source": [
    "r_drop_second.sort_values(\"HSSSsqrtB\").HSSSsqrtB"
   ]
  },
  {
   "cell_type": "markdown",
   "metadata": {
    "collapsed": true
   },
   "source": [
    "# Drop NTracks"
   ]
  },
  {
   "cell_type": "code",
   "execution_count": 23,
   "metadata": {},
   "outputs": [
    {
     "data": {
      "text/plain": [
       "['CalRatio',\n",
       " 'JetLat',\n",
       " 'ShowerCenter',\n",
       " 'SumPtOfAllTracks',\n",
       " 'JetWidth',\n",
       " 'JetPt',\n",
       " 'BIBDeltaTimingP',\n",
       " 'PredictedLxy',\n",
       " 'JetLong',\n",
       " 'MaxTrackPt',\n",
       " 'FirstClusterRadius',\n",
       " 'BIBDeltaTimingM',\n",
       " 'PredictedLz',\n",
       " 'HadronicLayer1Fraction']"
      ]
     },
     "execution_count": 23,
     "metadata": {},
     "output_type": "execute_result"
    }
   ],
   "source": [
    "down_two_list = list(set(down_one_list) - set([\"NTracks\"]))\n",
    "down_two_list"
   ]
  },
  {
   "cell_type": "code",
   "execution_count": 24,
   "metadata": {
    "collapsed": true
   },
   "outputs": [],
   "source": [
    "r_drop_third = calc_var_removal(all_events, down_two_list)"
   ]
  },
  {
   "cell_type": "code",
   "execution_count": 28,
   "metadata": {},
   "outputs": [
    {
     "data": {
      "text/plain": [
       "JetPt                     41.108144\n",
       "BIBDeltaTimingP           47.157923\n",
       "PredictedLz               48.596636\n",
       "SumPtOfAllTracks          48.674995\n",
       "JetLong                   50.933884\n",
       "FirstClusterRadius        51.432953\n",
       "MaxTrackPt                51.839051\n",
       "JetLat                    53.836807\n",
       "HadronicLayer1Fraction    55.085178\n",
       "ShowerCenter              55.194859\n",
       "JetWidth                  55.590546\n",
       "PredictedLxy              56.320394\n",
       "CalRatio                  56.790429\n",
       "BIBDeltaTimingM           58.105604\n",
       "None                      62.250806\n",
       "Name: HSSSsqrtB, dtype: float64"
      ]
     },
     "execution_count": 28,
     "metadata": {},
     "output_type": "execute_result"
    }
   ],
   "source": [
    "r_drop_third.sort_values(\"HSSSsqrtB\").HSSSsqrtB"
   ]
  },
  {
   "cell_type": "code",
   "execution_count": null,
   "metadata": {
    "collapsed": true
   },
   "outputs": [],
   "source": []
  }
 ],
 "metadata": {
  "kernelspec": {
   "display_name": "Python 3",
   "language": "python",
   "name": "python3"
  },
  "language_info": {
   "codemirror_mode": {
    "name": "ipython",
    "version": 3
   },
   "file_extension": ".py",
   "mimetype": "text/x-python",
   "name": "python",
   "nbconvert_exporter": "python",
   "pygments_lexer": "ipython3",
   "version": "3.6.3"
  }
 },
 "nbformat": 4,
 "nbformat_minor": 2
}
