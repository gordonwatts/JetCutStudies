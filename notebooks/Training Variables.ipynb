{
 "cells": [
  {
   "cell_type": "markdown",
   "metadata": {},
   "source": [
    "What variables should be used for training. We look at the performance of the default training vs the training with each variable removed. If the performance improves when we remove a variable, we know that variable is making the training worse. Further, by looking at the change in performance we can rank the variables to first order."
   ]
  },
  {
   "cell_type": "markdown",
   "metadata": {},
   "source": [
    "# Initalization"
   ]
  },
  {
   "cell_type": "code",
   "execution_count": 1,
   "metadata": {},
   "outputs": [],
   "source": [
    "from bdt_training_scikit_tools import load_trimmed_sample, default_training_variable_list, \\\n",
    "    test_train_samples, prep_samples, default_training, calc_performance, fraction, calcDFFilter\n",
    "import matplotlib.pyplot as plt\n",
    "plt.rc('font', size=14)\n",
    "from matplotlib.colors import LogNorm\n",
    "import pandas as pd\n",
    "import numpy as np\n",
    "import multiprocessing as mp\n",
    "import itertools"
   ]
  },
  {
   "cell_type": "markdown",
   "metadata": {},
   "source": [
    "# Load Data Samples"
   ]
  },
  {
   "cell_type": "code",
   "execution_count": 2,
   "metadata": {},
   "outputs": [
    {
     "name": "stdout",
     "output_type": "stream",
     "text": [
      "Job 132:\n",
      "  BIB: 800000 events\n",
      "  Multijet: 800000 events\n",
      "  Signal: 800000 events\n",
      "  [800000, 800000, 504190]\n"
     ]
    }
   ],
   "source": [
    "all_events_all = load_trimmed_sample(\"132\")"
   ]
  },
  {
   "cell_type": "code",
   "execution_count": 3,
   "metadata": {},
   "outputs": [],
   "source": [
    "def get_fraction_of_events(events, fractionToUse):\n",
    "    '''Return a fraction of all events as training and testing samples.\n",
    "    \n",
    "    Args\n",
    "        fractionToUse - If less than 1 then the fraction of each sample to use.\n",
    "                        If > 1, then the total number of events\n",
    "        \n",
    "    Returns\n",
    "        training - Training tripple of events (bib, mj, sig)\n",
    "        testing - Testing tripple of events (bib, mj, sig)\n",
    "    \n",
    "    '''\n",
    "    # Parse out the first parameter.\n",
    "    fracsUC = (fractionToUse, fractionToUse, fractionToUse) if fractionToUse <= 1.0 else \\\n",
    "                (fractionToUse/len(e.index) for e in events)\n",
    "    fracs = (f if f <= 1.0 else 1.0 for f in fracsUC)\n",
    "    \n",
    "    # Create the per event filter. We have to do this against each\n",
    "    # of the three input samples.\n",
    "    seqs = (fraction(f) for f in fracs)\n",
    "    fracFilters = [calcDFFilter(df, seq) for df, seq in zip(events, seqs)]\n",
    "\n",
    "    fraction_events = [dfi[1][dfi[0]] for dfi in zip(fracFilters,events)]\n",
    "    return fraction_events"
   ]
  },
  {
   "cell_type": "code",
   "execution_count": 4,
   "metadata": {},
   "outputs": [
    {
     "name": "stdout",
     "output_type": "stream",
     "text": [
      "[200387, 199675, 198839]\n"
     ]
    }
   ],
   "source": [
    "all_events = get_fraction_of_events(all_events_all, 200000)\n",
    "print ([len(e.index) for e in all_events])"
   ]
  },
  {
   "cell_type": "markdown",
   "metadata": {},
   "source": [
    "# Determine Full Variable List\n",
    "We have to determine what variable list we want to start with before we start removing them according to their performance. Reasons for removal:\n",
    "\n",
    "- Weight variables are MC only things\n",
    "- Variables that have nothing to do with phyisics (like run #)\n",
    "- DR to closest track because it is used later in the analysis\n",
    "- JetPhi because physics *shouldn't* depend on that"
   ]
  },
  {
   "cell_type": "code",
   "execution_count": 5,
   "metadata": {},
   "outputs": [
    {
     "data": {
      "text/plain": [
       "Index(['RunNumber', 'Weight', 'WeightMCEvent', 'WeightXSection',\n",
       "       'WeightFlatten', 'mc_Lxy', 'mc_Lz', 'MHTOverHT', 'JetPt', 'JetPhi',\n",
       "       'CalRatio', 'JetEta', 'NTracks', 'SumPtOfAllTracks', 'MaxTrackPt',\n",
       "       'EventNumber', 'JetET', 'JetWidth', 'JetDRTo2GeVTrack', 'EnergyDensity',\n",
       "       'HadronicLayer1Fraction', 'JetLat', 'JetLong', 'FirstClusterRadius',\n",
       "       'NumberOfClusters', 'ShowerCenter', 'BIBDeltaTimingM',\n",
       "       'BIBDeltaTimingP', 'FirstCellTiming', 'InteractionsPerCrossing',\n",
       "       'RPredictedLxy', 'RPredictedLz', 'PredictedLxy', 'PredictedLz',\n",
       "       'PredictedLxyHighEta', 'PredictedLxyLowEta', 'PredictedLzHighEta',\n",
       "       'PredictedLzLowEta'],\n",
       "      dtype='object')"
      ]
     },
     "execution_count": 5,
     "metadata": {},
     "output_type": "execute_result"
    }
   ],
   "source": [
    "all_events_all[0].columns"
   ]
  },
  {
   "cell_type": "code",
   "execution_count": 6,
   "metadata": {},
   "outputs": [
    {
     "data": {
      "text/plain": [
       "{'BIBDeltaTimingM',\n",
       " 'BIBDeltaTimingP',\n",
       " 'CalRatio',\n",
       " 'EnergyDensity',\n",
       " 'FirstCellTiming',\n",
       " 'FirstClusterRadius',\n",
       " 'HadronicLayer1Fraction',\n",
       " 'JetET',\n",
       " 'JetEta',\n",
       " 'JetLat',\n",
       " 'JetLong',\n",
       " 'JetPt',\n",
       " 'JetWidth',\n",
       " 'MaxTrackPt',\n",
       " 'NTracks',\n",
       " 'NumberOfClusters',\n",
       " 'PredictedLxy',\n",
       " 'PredictedLxyHighEta',\n",
       " 'PredictedLxyLowEta',\n",
       " 'PredictedLz',\n",
       " 'PredictedLzHighEta',\n",
       " 'PredictedLzLowEta',\n",
       " 'RPredictedLxy',\n",
       " 'RPredictedLz',\n",
       " 'ShowerCenter',\n",
       " 'SumPtOfAllTracks'}"
      ]
     },
     "execution_count": 6,
     "metadata": {},
     "output_type": "execute_result"
    }
   ],
   "source": [
    "variable_list = set(all_events_all[0].columns) - set(['RunNumber', 'Weight', 'WeightMCEvent', 'WeightXSection', 'WeightFlatten', 'mc_Lxy', 'mc_Lz', 'MHTOverHT', 'JetPhi', 'EventNumber', 'InteractionsPerCrossing', 'JetDRTo2GeVTrack'])\n",
    "variable_list"
   ]
  },
  {
   "cell_type": "markdown",
   "metadata": {},
   "source": [
    "# Drop First Variable"
   ]
  },
  {
   "cell_type": "code",
   "execution_count": 7,
   "metadata": {},
   "outputs": [
    {
     "name": "stdout",
     "output_type": "stream",
     "text": [
      "Overwriting get_training_performance.py\n"
     ]
    }
   ],
   "source": [
    "%%writefile get_training_performance.py\n",
    "from bdt_training_scikit_tools import load_default_samples, default_training_variable_list, \\\n",
    "    test_train_samples, prep_samples, default_training, calc_performance\n",
    "    \n",
    "def do_training (vlist):\n",
    "    all_events, training_list = vlist\n",
    "    return get_training_performance (all_events, training_list)\n",
    "    \n",
    "def get_training_performance (all_events, training_list):\n",
    "    '''Run a training with the set of varaibles given. Return a performance table.'''\n",
    "    \n",
    "    # Split into testing and training samples\n",
    "    train, test = test_train_samples(all_events)\n",
    "        \n",
    "    # Prep samples for training\n",
    "    all_events, all_events_class, training_weight, evaluation_weight = prep_samples(train[0], train[1], train[2], training_variable_list=training_list)\n",
    "    \n",
    "    # Run training\n",
    "    bdt = default_training(all_events, training_weight, all_events_class, estimators=200)\n",
    "    \n",
    "    # Create a thing of all the results\n",
    "    return {tuple(training_list): calc_performance(bdt, test, training_variables = training_list)}"
   ]
  },
  {
   "cell_type": "code",
   "execution_count": 8,
   "metadata": {},
   "outputs": [],
   "source": [
    "def all_but_one (vlist, number_to_drop = 1):\n",
    "    '''Return vlist and vlist with each item removed\n",
    "    \n",
    "    Arguments:\n",
    "        vlist - the source list or tuple\n",
    "        number_to_drop - return a list that is len(vlist)-number_to_drop - all possible combinations\n",
    "        \n",
    "    Returns:\n",
    "        A list of tuples that have len(vlist)-number_to_drop items.\n",
    "    \n",
    "    '''\n",
    "    var_training_list = itertools.combinations(vlist, len(vlist)-number_to_drop)\n",
    "    var_training_list = list(var_training_list) + [tuple(vlist)]\n",
    "    return var_training_list"
   ]
  },
  {
   "cell_type": "code",
   "execution_count": 9,
   "metadata": {},
   "outputs": [],
   "source": [
    "import get_training_performance\n",
    "pool = mp.Pool(processes=5)\n",
    "\n",
    "def unused_var(original_list, used_list):\n",
    "    r = tuple(i for i in original_list if i not in used_list)\n",
    "    r = r if len(r) != 0 else ('None',)\n",
    "    return r\n",
    "\n",
    "def calc_var_removal(all_events, training_list = default_training_variable_list):\n",
    "    r_drop_first = pool.map(get_training_performance.do_training,\n",
    "             [(all_events, tvar_list) for tvar_list in all_but_one(training_list)])\n",
    "\n",
    "    one_dict = {}\n",
    "    for kp in r_drop_first:\n",
    "        one_dict.update(kp)\n",
    "\n",
    "    return pd.DataFrame({unused_var(training_list, k):one_dict[k] for k in one_dict}).T\n"
   ]
  },
  {
   "cell_type": "code",
   "execution_count": 10,
   "metadata": {},
   "outputs": [],
   "source": [
    "def remove_all_variables(all_events, training_list = variable_list):\n",
    "    done = False\n",
    "    count = 1\n",
    "    while not done:\n",
    "        print (\"Iteration #{0}\".format(count))\n",
    "        print ('  Training with variable list:')\n",
    "        print ('  ' + str(training_list))\n",
    "        result = calc_var_removal(all_events, training_list=training_list)\n",
    "        result_sorted = result.sort_values(\"HSSSsqrtB\")\n",
    "        print (result_sorted.HSSSsqrtB)\n",
    "        last_var_name = result_sorted.index[-1][0]\n",
    "        done = last_var_name == 'None'\n",
    "        if not done:\n",
    "            training_list = training_list - set([last_var_name])\n",
    "    return training_list        "
   ]
  },
  {
   "cell_type": "code",
   "execution_count": null,
   "metadata": {},
   "outputs": [],
   "source": [
    "%%time\n",
    "#r_drop_first = calc_var_removal(all_events)"
   ]
  },
  {
   "cell_type": "code",
   "execution_count": null,
   "metadata": {},
   "outputs": [],
   "source": [
    "#print (r_drop_first.sort_values(\"HSSSsqrtB\").HSSSsqrtB)"
   ]
  },
  {
   "cell_type": "code",
   "execution_count": null,
   "metadata": {},
   "outputs": [
    {
     "name": "stdout",
     "output_type": "stream",
     "text": [
      "Iteration #1\n",
      "  Training with variable list:\n",
      "  {'NTracks', 'JetLong', 'SumPtOfAllTracks', 'NumberOfClusters', 'CalRatio', 'PredictedLxyHighEta', 'JetWidth', 'JetPt', 'PredictedLzHighEta', 'BIBDeltaTimingM', 'JetET', 'FirstClusterRadius', 'FirstCellTiming', 'EnergyDensity', 'JetLat', 'PredictedLxy', 'BIBDeltaTimingP', 'ShowerCenter', 'HadronicLayer1Fraction', 'RPredictedLxy', 'PredictedLxyLowEta', 'PredictedLzLowEta', 'PredictedLz', 'JetEta', 'MaxTrackPt', 'RPredictedLz'}\n"
     ]
    }
   ],
   "source": [
    "r = remove_all_variables(all_events, variable_list)"
   ]
  },
  {
   "cell_type": "markdown",
   "metadata": {},
   "source": [
    "# Drop Second Variable"
   ]
  },
  {
   "cell_type": "code",
   "execution_count": 10,
   "metadata": {},
   "outputs": [
    {
     "data": {
      "text/plain": [
       "['NTracks',\n",
       " 'JetPt',\n",
       " 'ShowerCenter',\n",
       " 'JetLong',\n",
       " 'SumPtOfAllTracks',\n",
       " 'PredictedLz',\n",
       " 'EnergyDensity',\n",
       " 'JetWidth',\n",
       " 'BIBDeltaTimingM',\n",
       " 'HadronicLayer1Fraction',\n",
       " 'JetLat',\n",
       " 'FirstClusterRadius',\n",
       " 'MaxTrackPt',\n",
       " 'PredictedLxy',\n",
       " 'BIBDeltaTimingP']"
      ]
     },
     "execution_count": 10,
     "metadata": {},
     "output_type": "execute_result"
    }
   ],
   "source": [
    "down_one_list = list(set(default_training_variable_list) - set([\"CalRatio\"]))\n",
    "down_one_list"
   ]
  },
  {
   "cell_type": "code",
   "execution_count": 11,
   "metadata": {
    "collapsed": true
   },
   "outputs": [],
   "source": [
    "r_drop_second = calc_var_removal(all_events, down_one_list)"
   ]
  },
  {
   "cell_type": "code",
   "execution_count": 12,
   "metadata": {},
   "outputs": [
    {
     "data": {
      "text/plain": [
       "JetPt                     33.560652\n",
       "FirstClusterRadius        35.318773\n",
       "EnergyDensity             35.756891\n",
       "MaxTrackPt                36.731971\n",
       "ShowerCenter              37.015712\n",
       "BIBDeltaTimingP           37.628097\n",
       "HadronicLayer1Fraction    37.944158\n",
       "PredictedLz               38.863548\n",
       "BIBDeltaTimingM           40.418985\n",
       "NTracks                   40.636561\n",
       "PredictedLxy              40.825376\n",
       "JetLong                   41.256371\n",
       "SumPtOfAllTracks          41.398124\n",
       "None                      42.631388\n",
       "JetLat                    42.849140\n",
       "JetWidth                  43.121987\n",
       "Name: HSSSsqrtB, dtype: float64"
      ]
     },
     "execution_count": 12,
     "metadata": {},
     "output_type": "execute_result"
    }
   ],
   "source": [
    "r_drop_second.sort_values(\"HSSSsqrtB\").HSSSsqrtB"
   ]
  },
  {
   "cell_type": "markdown",
   "metadata": {
    "collapsed": true
   },
   "source": [
    "# Drop NTracks"
   ]
  },
  {
   "cell_type": "code",
   "execution_count": 13,
   "metadata": {},
   "outputs": [
    {
     "data": {
      "text/plain": [
       "['EnergyDensity',\n",
       " 'NTracks',\n",
       " 'BIBDeltaTimingM',\n",
       " 'JetPt',\n",
       " 'HadronicLayer1Fraction',\n",
       " 'ShowerCenter',\n",
       " 'JetLat',\n",
       " 'FirstClusterRadius',\n",
       " 'BIBDeltaTimingP',\n",
       " 'JetLong',\n",
       " 'MaxTrackPt',\n",
       " 'PredictedLxy',\n",
       " 'SumPtOfAllTracks',\n",
       " 'PredictedLz']"
      ]
     },
     "execution_count": 13,
     "metadata": {},
     "output_type": "execute_result"
    }
   ],
   "source": [
    "down_two_list = list(set(down_one_list) - set([\"JetWidth\"]))\n",
    "down_two_list"
   ]
  },
  {
   "cell_type": "code",
   "execution_count": 14,
   "metadata": {
    "collapsed": true
   },
   "outputs": [],
   "source": [
    "r_drop_third = calc_var_removal(all_events, down_two_list)"
   ]
  },
  {
   "cell_type": "code",
   "execution_count": 15,
   "metadata": {},
   "outputs": [
    {
     "data": {
      "text/plain": [
       "JetPt                     33.519731\n",
       "BIBDeltaTimingM           35.923559\n",
       "BIBDeltaTimingP           36.454895\n",
       "JetLong                   38.038265\n",
       "MaxTrackPt                38.789296\n",
       "EnergyDensity             39.070243\n",
       "ShowerCenter              39.447733\n",
       "PredictedLz               39.746835\n",
       "JetLat                    40.528748\n",
       "HadronicLayer1Fraction    41.187335\n",
       "FirstClusterRadius        41.811634\n",
       "PredictedLxy              42.050360\n",
       "SumPtOfAllTracks          42.644607\n",
       "None                      43.121987\n",
       "NTracks                   43.675357\n",
       "Name: HSSSsqrtB, dtype: float64"
      ]
     },
     "execution_count": 15,
     "metadata": {},
     "output_type": "execute_result"
    }
   ],
   "source": [
    "r_drop_third.sort_values(\"HSSSsqrtB\").HSSSsqrtB"
   ]
  },
  {
   "cell_type": "code",
   "execution_count": 19,
   "metadata": {},
   "outputs": [
    {
     "data": {
      "text/plain": [
       "['EnergyDensity',\n",
       " 'BIBDeltaTimingM',\n",
       " 'JetPt',\n",
       " 'HadronicLayer1Fraction',\n",
       " 'ShowerCenter',\n",
       " 'JetLat',\n",
       " 'FirstClusterRadius',\n",
       " 'JetLong',\n",
       " 'MaxTrackPt',\n",
       " 'PredictedLxy',\n",
       " 'BIBDeltaTimingP',\n",
       " 'PredictedLz',\n",
       " 'SumPtOfAllTracks']"
      ]
     },
     "execution_count": 19,
     "metadata": {},
     "output_type": "execute_result"
    }
   ],
   "source": [
    "down_three_list = list(set(down_two_list) - set([\"NTracks\"]))\n",
    "down_three_list"
   ]
  },
  {
   "cell_type": "code",
   "execution_count": 20,
   "metadata": {
    "collapsed": true
   },
   "outputs": [],
   "source": [
    "r_drop_forth = calc_var_removal(all_events, down_three_list)"
   ]
  },
  {
   "cell_type": "code",
   "execution_count": 40,
   "metadata": {},
   "outputs": [
    {
     "data": {
      "text/html": [
       "<div>\n",
       "<style>\n",
       "    .dataframe thead tr:only-child th {\n",
       "        text-align: right;\n",
       "    }\n",
       "\n",
       "    .dataframe thead th {\n",
       "        text-align: left;\n",
       "    }\n",
       "\n",
       "    .dataframe tbody tr th {\n",
       "        vertical-align: top;\n",
       "    }\n",
       "</style>\n",
       "<table border=\"1\" class=\"dataframe\">\n",
       "  <thead>\n",
       "    <tr style=\"text-align: right;\">\n",
       "      <th></th>\n",
       "      <th>HSSSsqrtB</th>\n",
       "      <th>HSSinHSS</th>\n",
       "      <th>MJinHSS</th>\n",
       "      <th>BIBinHSS</th>\n",
       "    </tr>\n",
       "  </thead>\n",
       "  <tbody>\n",
       "    <tr>\n",
       "      <th>JetPt</th>\n",
       "      <td>33.441069</td>\n",
       "      <td>161973.0</td>\n",
       "      <td>2.344880e+07</td>\n",
       "      <td>11034.0</td>\n",
       "    </tr>\n",
       "    <tr>\n",
       "      <th>FirstClusterRadius</th>\n",
       "      <td>35.885192</td>\n",
       "      <td>162550.0</td>\n",
       "      <td>2.050928e+07</td>\n",
       "      <td>9115.0</td>\n",
       "    </tr>\n",
       "    <tr>\n",
       "      <th>ShowerCenter</th>\n",
       "      <td>36.262187</td>\n",
       "      <td>157932.0</td>\n",
       "      <td>1.895916e+07</td>\n",
       "      <td>9313.0</td>\n",
       "    </tr>\n",
       "    <tr>\n",
       "      <th>BIBDeltaTimingP</th>\n",
       "      <td>36.510289</td>\n",
       "      <td>161893.0</td>\n",
       "      <td>1.964281e+07</td>\n",
       "      <td>19091.0</td>\n",
       "    </tr>\n",
       "    <tr>\n",
       "      <th>HadronicLayer1Fraction</th>\n",
       "      <td>36.783127</td>\n",
       "      <td>161026.0</td>\n",
       "      <td>1.915541e+07</td>\n",
       "      <td>8965.0</td>\n",
       "    </tr>\n",
       "    <tr>\n",
       "      <th>PredictedLxy</th>\n",
       "      <td>36.793246</td>\n",
       "      <td>161843.0</td>\n",
       "      <td>1.933952e+07</td>\n",
       "      <td>9174.0</td>\n",
       "    </tr>\n",
       "    <tr>\n",
       "      <th>JetLat</th>\n",
       "      <td>37.816710</td>\n",
       "      <td>160183.0</td>\n",
       "      <td>1.793335e+07</td>\n",
       "      <td>8425.0</td>\n",
       "    </tr>\n",
       "    <tr>\n",
       "      <th>JetLong</th>\n",
       "      <td>37.823360</td>\n",
       "      <td>161054.0</td>\n",
       "      <td>1.812252e+07</td>\n",
       "      <td>8526.0</td>\n",
       "    </tr>\n",
       "    <tr>\n",
       "      <th>EnergyDensity</th>\n",
       "      <td>38.584012</td>\n",
       "      <td>162664.0</td>\n",
       "      <td>1.776416e+07</td>\n",
       "      <td>9139.0</td>\n",
       "    </tr>\n",
       "    <tr>\n",
       "      <th>BIBDeltaTimingM</th>\n",
       "      <td>38.722234</td>\n",
       "      <td>160869.0</td>\n",
       "      <td>1.723944e+07</td>\n",
       "      <td>19889.0</td>\n",
       "    </tr>\n",
       "    <tr>\n",
       "      <th>MaxTrackPt</th>\n",
       "      <td>38.877412</td>\n",
       "      <td>162019.0</td>\n",
       "      <td>1.735901e+07</td>\n",
       "      <td>8484.0</td>\n",
       "    </tr>\n",
       "    <tr>\n",
       "      <th>SumPtOfAllTracks</th>\n",
       "      <td>40.058909</td>\n",
       "      <td>163249.0</td>\n",
       "      <td>1.659831e+07</td>\n",
       "      <td>9132.0</td>\n",
       "    </tr>\n",
       "    <tr>\n",
       "      <th>PredictedLz</th>\n",
       "      <td>40.068928</td>\n",
       "      <td>162995.0</td>\n",
       "      <td>1.653822e+07</td>\n",
       "      <td>9306.0</td>\n",
       "    </tr>\n",
       "    <tr>\n",
       "      <th>None</th>\n",
       "      <td>43.675357</td>\n",
       "      <td>163151.0</td>\n",
       "      <td>1.394434e+07</td>\n",
       "      <td>9913.0</td>\n",
       "    </tr>\n",
       "  </tbody>\n",
       "</table>\n",
       "</div>"
      ],
      "text/plain": [
       "                        HSSSsqrtB  HSSinHSS       MJinHSS  BIBinHSS\n",
       "JetPt                   33.441069  161973.0  2.344880e+07   11034.0\n",
       "FirstClusterRadius      35.885192  162550.0  2.050928e+07    9115.0\n",
       "ShowerCenter            36.262187  157932.0  1.895916e+07    9313.0\n",
       "BIBDeltaTimingP         36.510289  161893.0  1.964281e+07   19091.0\n",
       "HadronicLayer1Fraction  36.783127  161026.0  1.915541e+07    8965.0\n",
       "PredictedLxy            36.793246  161843.0  1.933952e+07    9174.0\n",
       "JetLat                  37.816710  160183.0  1.793335e+07    8425.0\n",
       "JetLong                 37.823360  161054.0  1.812252e+07    8526.0\n",
       "EnergyDensity           38.584012  162664.0  1.776416e+07    9139.0\n",
       "BIBDeltaTimingM         38.722234  160869.0  1.723944e+07   19889.0\n",
       "MaxTrackPt              38.877412  162019.0  1.735901e+07    8484.0\n",
       "SumPtOfAllTracks        40.058909  163249.0  1.659831e+07    9132.0\n",
       "PredictedLz             40.068928  162995.0  1.653822e+07    9306.0\n",
       "None                    43.675357  163151.0  1.394434e+07    9913.0"
      ]
     },
     "execution_count": 40,
     "metadata": {},
     "output_type": "execute_result"
    }
   ],
   "source": [
    "r_drop_forth.sort_values(\"HSSSsqrtB\")[['HSSSsqrtB', 'HSSinHSS', 'MJinHSS', 'BIBinHSS']]"
   ]
  },
  {
   "cell_type": "code",
   "execution_count": null,
   "metadata": {
    "collapsed": true
   },
   "outputs": [],
   "source": []
  }
 ],
 "metadata": {
  "kernelspec": {
   "display_name": "Python 3",
   "language": "python",
   "name": "python3"
  },
  "language_info": {
   "codemirror_mode": {
    "name": "ipython",
    "version": 3
   },
   "file_extension": ".py",
   "mimetype": "text/x-python",
   "name": "python",
   "nbconvert_exporter": "python",
   "pygments_lexer": "ipython3",
   "version": "3.6.4"
  }
 },
 "nbformat": 4,
 "nbformat_minor": 2
}
