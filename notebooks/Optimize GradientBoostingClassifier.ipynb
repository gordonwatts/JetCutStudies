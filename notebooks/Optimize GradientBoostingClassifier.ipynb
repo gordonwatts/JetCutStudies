{
 "cells": [
  {
   "cell_type": "markdown",
   "metadata": {},
   "source": [
    "# Optimize GradientBoostingClassifier\n",
    "Using the previously determined variable list, lets see what we get in terms of optimization for the training settings."
   ]
  },
  {
   "cell_type": "markdown",
   "metadata": {},
   "source": [
    "# Initalization"
   ]
  },
  {
   "cell_type": "code",
   "execution_count": 1,
   "metadata": {},
   "outputs": [],
   "source": [
    "from bdt_training_scikit_tools import load_trimmed_sample, default_training_variable_list, \\\n",
    "    test_train_samples, prep_samples, default_training, calc_performance\n",
    "import matplotlib.pyplot as plt\n",
    "plt.rc('font', size=14)\n",
    "from matplotlib.colors import LogNorm\n",
    "import pandas as pd\n",
    "import numpy as np\n",
    "import multiprocessing as mp\n",
    "import itertools\n",
    "from sklearn.ensemble import GradientBoostingClassifier"
   ]
  },
  {
   "cell_type": "markdown",
   "metadata": {},
   "source": [
    "## Load data"
   ]
  },
  {
   "cell_type": "code",
   "execution_count": 2,
   "metadata": {},
   "outputs": [
    {
     "name": "stdout",
     "output_type": "stream",
     "text": [
      "Job 106:\n",
      "  BIB: 800000 events\n",
      "  Multijet: 800000 events\n",
      "  Signal: 800000 events\n",
      "  [800000, 800000, 504190]\n",
      "CPU times: user 9.51 s, sys: 1.65 s, total: 11.2 s\n",
      "Wall time: 11.2 s\n"
     ]
    }
   ],
   "source": [
    "%%time\n",
    "input_events = load_trimmed_sample(106)"
   ]
  },
  {
   "cell_type": "code",
   "execution_count": 3,
   "metadata": {},
   "outputs": [],
   "source": [
    "def fraction (fractionGoal):\n",
    "    '''Return a function that will take from a randomly distributed number a fraction of events.\n",
    "    Meant to be used against an EventNumber to evenly pair down the number of events.\n",
    "    \n",
    "    Args\n",
    "        fractionGoal - the fraction of events we'd like to see\n",
    "        \n",
    "    Returns\n",
    "        func - A function that will return True or False when given an event number. True, then keep the event.\n",
    "    '''\n",
    "    if (fractionGoal < 0) | (fractionGoal > 1.0):\n",
    "        raise Exception(\"Fraction must be between 0.0 and 1.0 (not {0})\".format(fractionGoal))\n",
    "        \n",
    "    seq = ()\n",
    "    fg = fractionGoal\n",
    "    maxCount = 300\n",
    "    for i in range(1, maxCount):\n",
    "        frac = 1.0/i\n",
    "        if frac <= fg:\n",
    "            seq = seq + (i,)\n",
    "            remainingSequence = [i for i in range(maxCount) if len([j for j in seq if i%j == 0]) != 0]\n",
    "            actualFraction = len(remainingSequence)/maxCount\n",
    "            fg = fractionGoal - actualFraction\n",
    "\n",
    "    return seq\n",
    "    #return lambda x: len([i for i in seq if x%i == 0]) != 0\n",
    "    #return lambda x: x%i == 0\n",
    "    \n",
    "def calcDFFilter (df, seq):\n",
    "    gf, *gfRest = [df.EventNumber%i==0 for i in seq]\n",
    "    for g in gfRest:\n",
    "        gf = gf | g\n",
    "    return gf\n",
    "\n",
    "def get_fraction_of_events(events, fractionToUse):\n",
    "    '''Return a fraction of all events as training and testing samples.\n",
    "    \n",
    "    Args\n",
    "        fractionToUse - fraction of the full datasample we should be using\n",
    "        \n",
    "    Returns\n",
    "        training - Training tripple of events (bib, mj, sig)\n",
    "        testing - Testing tripple of events (bib, mj, sig)\n",
    "    \n",
    "    '''\n",
    "    # Create the per event filter. We have to do this against each\n",
    "    # of the three input samples.\n",
    "    seq = fraction(fractionToUse)\n",
    "    fracFilters = [calcDFFilter(df, seq) for df in events]\n",
    "\n",
    "    fraction_events = [dfi[1][dfi[0]] for dfi in zip(fracFilters,events)]\n",
    "    return fraction_events"
   ]
  },
  {
   "cell_type": "code",
   "execution_count": 4,
   "metadata": {},
   "outputs": [],
   "source": [
    "events_50 = get_fraction_of_events(input_events, 0.5)\n",
    "events_25 = get_fraction_of_events(input_events, 0.25)"
   ]
  },
  {
   "cell_type": "code",
   "execution_count": 5,
   "metadata": {},
   "outputs": [
    {
     "name": "stdout",
     "output_type": "stream",
     "text": [
      "[401512, 400246, 251612]\n",
      "[201018, 200123, 126005]\n"
     ]
    }
   ],
   "source": [
    "print ([len(i.index) for i in events_50])\n",
    "print ([len(i.index) for i in events_25])"
   ]
  },
  {
   "cell_type": "markdown",
   "metadata": {},
   "source": [
    "## Training\n",
    "We want to be able run multiple trainings in threads, so we have to be a little tricky here by writing out a file."
   ]
  },
  {
   "cell_type": "code",
   "execution_count": 6,
   "metadata": {},
   "outputs": [
    {
     "name": "stdout",
     "output_type": "stream",
     "text": [
      "Overwriting grad_perf_training.py\n"
     ]
    }
   ],
   "source": [
    "%%writefile grad_perf_training.py\n",
    "from bdt_training_scikit_tools import default_training_variable_list, \\\n",
    "    test_train_samples, prep_samples, calc_performance\n",
    "from sklearn.ensemble import GradientBoostingClassifier\n",
    "    \n",
    "def do_training (vlist):\n",
    "    all_events, test_events, leaf_depth, estimators = vlist\n",
    "    return get_training_performance (all_events, test_events, leaf_depth, estimators)\n",
    "    \n",
    "def get_training_performance (all_events, test_events, leaf_depth, estimators):\n",
    "    '''Run a training with the set of varaibles given. Return a performance table.'''\n",
    "    \n",
    "    # Split into testing and training samples\n",
    "    train, test = test_train_samples(all_events)\n",
    "    \n",
    "    # Prep samples for training\n",
    "    all_events, all_events_class, training_weight, evaluation_weight = prep_samples(train[0], train[1], train[2])\n",
    "    \n",
    "    # If a test sample was used, then use that instead.\n",
    "    if test_events != None:\n",
    "        test = test_events\n",
    "        \n",
    "    # Run training\n",
    "    bdt = GradientBoostingClassifier(max_depth=leaf_depth, n_estimators=estimators)\n",
    "    bdt.fit(all_events, all_events_class.Class, sample_weight = training_weight)\n",
    "    \n",
    "    # Create a thing of all the results\n",
    "    return {(leaf_depth, estimators): calc_performance(bdt, test)}"
   ]
  },
  {
   "cell_type": "markdown",
   "metadata": {},
   "source": [
    "Make sure this works well. The first implementation was generating some warnings while running - this will run on a small number of events and make sure it runs without errors"
   ]
  },
  {
   "cell_type": "code",
   "execution_count": 7,
   "metadata": {},
   "outputs": [
    {
     "name": "stdout",
     "output_type": "stream",
     "text": [
      "CPU times: user 4.56 s, sys: 106 ms, total: 4.67 s\n",
      "Wall time: 4.66 s\n"
     ]
    }
   ],
   "source": [
    "%%time\n",
    "train, test = test_train_samples(events_25)\n",
    "all_events, all_events_class, training_weight, evaluation_weight = prep_samples(train[0], train[1], train[2])\n",
    "bdt = GradientBoostingClassifier(max_depth=3, n_estimators=3)\n",
    "bdt.fit(all_events, all_events_class.Class, sample_weight=training_weight)"
   ]
  },
  {
   "cell_type": "code",
   "execution_count": 8,
   "metadata": {},
   "outputs": [],
   "source": [
    "import grad_perf_training\n",
    "pool = mp.Pool(processes=10)"
   ]
  },
  {
   "cell_type": "code",
   "execution_count": 9,
   "metadata": {},
   "outputs": [],
   "source": [
    "def scan_performance(all_events, leaf_depth_range=[3], estimators=[10], test_events = None):\n",
    "    results = pool.map(grad_perf_training.do_training,\n",
    "             [(all_events, test_events, ldepth, nest) for ldepth in leaf_depth_range for nest in estimators])\n",
    "\n",
    "    one_dict = {}\n",
    "    for kp in results:\n",
    "        one_dict.update(kp)\n",
    "\n",
    "    return pd.DataFrame(one_dict).T"
   ]
  },
  {
   "cell_type": "markdown",
   "metadata": {},
   "source": [
    "## Leaf Depth and Estimators\n",
    "These two have to be connected, right?\n",
    "\n",
    "First a short timing test to see how this works - this should be very quick (or order 2 minutes)."
   ]
  },
  {
   "cell_type": "code",
   "execution_count": 10,
   "metadata": {},
   "outputs": [
    {
     "name": "stdout",
     "output_type": "stream",
     "text": [
      "CPU times: user 314 ms, sys: 435 ms, total: 748 ms\n",
      "Wall time: 1min 47s\n"
     ]
    }
   ],
   "source": [
    "%%time\n",
    "lde = scan_performance(input_events)"
   ]
  },
  {
   "cell_type": "code",
   "execution_count": 11,
   "metadata": {},
   "outputs": [
    {
     "data": {
      "text/html": [
       "<div>\n",
       "<style scoped>\n",
       "    .dataframe tbody tr th:only-of-type {\n",
       "        vertical-align: middle;\n",
       "    }\n",
       "\n",
       "    .dataframe tbody tr th {\n",
       "        vertical-align: top;\n",
       "    }\n",
       "\n",
       "    .dataframe thead th {\n",
       "        text-align: right;\n",
       "    }\n",
       "</style>\n",
       "<table border=\"1\" class=\"dataframe\">\n",
       "  <thead>\n",
       "    <tr style=\"text-align: right;\">\n",
       "      <th></th>\n",
       "      <th></th>\n",
       "      <th>HSSSsqrtB</th>\n",
       "      <th>HSSEff</th>\n",
       "      <th>BIBEff</th>\n",
       "      <th>MJEff</th>\n",
       "    </tr>\n",
       "  </thead>\n",
       "  <tbody>\n",
       "    <tr>\n",
       "      <th>3</th>\n",
       "      <th>10</th>\n",
       "      <td>24.221105</td>\n",
       "      <td>0.964939</td>\n",
       "      <td>0.381099</td>\n",
       "      <td>0.849596</td>\n",
       "    </tr>\n",
       "  </tbody>\n",
       "</table>\n",
       "</div>"
      ],
      "text/plain": [
       "      HSSSsqrtB    HSSEff    BIBEff     MJEff\n",
       "3 10  24.221105  0.964939  0.381099  0.849596"
      ]
     },
     "execution_count": 11,
     "metadata": {},
     "output_type": "execute_result"
    }
   ],
   "source": [
    "lde[['HSSSsqrtB','HSSEff','BIBEff','MJEff']]"
   ]
  },
  {
   "cell_type": "markdown",
   "metadata": {},
   "source": [
    "Ok, now look a bit at what happens with more trees, but the same number of estimators.\n",
    "\n",
    "This is currently commented out because it takes a crazy amount of time to run"
   ]
  },
  {
   "cell_type": "code",
   "execution_count": 12,
   "metadata": {},
   "outputs": [
    {
     "name": "stdout",
     "output_type": "stream",
     "text": [
      "CPU times: user 2 µs, sys: 0 ns, total: 2 µs\n",
      "Wall time: 4.77 µs\n"
     ]
    }
   ],
   "source": [
    "%%time\n",
    "#treeDepth = scan_performance(input_events, leaf_depth_range=[10, 12, 15], estimators=[10])"
   ]
  },
  {
   "cell_type": "code",
   "execution_count": 13,
   "metadata": {},
   "outputs": [],
   "source": [
    "#treeDepth[['HSSSsqrtB','HSSEff','BIBEff','MJEff']]"
   ]
  },
  {
   "cell_type": "markdown",
   "metadata": {
    "collapsed": true
   },
   "source": [
    "## Number of events\n",
    "The number of events at 800,000 can take a crazy amount of time to run."
   ]
  },
  {
   "cell_type": "code",
   "execution_count": 14,
   "metadata": {},
   "outputs": [
    {
     "name": "stdout",
     "output_type": "stream",
     "text": [
      "CPU times: user 126 ms, sys: 239 ms, total: 365 ms\n",
      "Wall time: 42 s\n"
     ]
    }
   ],
   "source": [
    "%%time\n",
    "lde = scan_performance(events_50)\n",
    "lde[['HSSSsqrtB','HSSEff','BIBEff','MJEff']]"
   ]
  },
  {
   "cell_type": "code",
   "execution_count": 15,
   "metadata": {},
   "outputs": [
    {
     "data": {
      "text/html": [
       "<div>\n",
       "<style scoped>\n",
       "    .dataframe tbody tr th:only-of-type {\n",
       "        vertical-align: middle;\n",
       "    }\n",
       "\n",
       "    .dataframe tbody tr th {\n",
       "        vertical-align: top;\n",
       "    }\n",
       "\n",
       "    .dataframe thead th {\n",
       "        text-align: right;\n",
       "    }\n",
       "</style>\n",
       "<table border=\"1\" class=\"dataframe\">\n",
       "  <thead>\n",
       "    <tr style=\"text-align: right;\">\n",
       "      <th></th>\n",
       "      <th></th>\n",
       "      <th>HSSSsqrtB</th>\n",
       "      <th>HSSEff</th>\n",
       "      <th>BIBEff</th>\n",
       "      <th>MJEff</th>\n",
       "    </tr>\n",
       "  </thead>\n",
       "  <tbody>\n",
       "    <tr>\n",
       "      <th>3</th>\n",
       "      <th>10</th>\n",
       "      <td>16.74784</td>\n",
       "      <td>0.966165</td>\n",
       "      <td>0.378604</td>\n",
       "      <td>0.844676</td>\n",
       "    </tr>\n",
       "  </tbody>\n",
       "</table>\n",
       "</div>"
      ],
      "text/plain": [
       "      HSSSsqrtB    HSSEff    BIBEff     MJEff\n",
       "3 10   16.74784  0.966165  0.378604  0.844676"
      ]
     },
     "execution_count": 15,
     "metadata": {},
     "output_type": "execute_result"
    }
   ],
   "source": [
    "lde[['HSSSsqrtB','HSSEff','BIBEff','MJEff']]"
   ]
  },
  {
   "cell_type": "code",
   "execution_count": 16,
   "metadata": {},
   "outputs": [
    {
     "name": "stdout",
     "output_type": "stream",
     "text": [
      "CPU times: user 62.5 ms, sys: 115 ms, total: 177 ms\n",
      "Wall time: 15 s\n"
     ]
    }
   ],
   "source": [
    "%%time\n",
    "lde = scan_performance(events_25)\n",
    "lde[['HSSSsqrtB','HSSEff','BIBEff','MJEff']]"
   ]
  },
  {
   "cell_type": "code",
   "execution_count": 17,
   "metadata": {},
   "outputs": [
    {
     "data": {
      "text/html": [
       "<div>\n",
       "<style scoped>\n",
       "    .dataframe tbody tr th:only-of-type {\n",
       "        vertical-align: middle;\n",
       "    }\n",
       "\n",
       "    .dataframe tbody tr th {\n",
       "        vertical-align: top;\n",
       "    }\n",
       "\n",
       "    .dataframe thead th {\n",
       "        text-align: right;\n",
       "    }\n",
       "</style>\n",
       "<table border=\"1\" class=\"dataframe\">\n",
       "  <thead>\n",
       "    <tr style=\"text-align: right;\">\n",
       "      <th></th>\n",
       "      <th></th>\n",
       "      <th>HSSSsqrtB</th>\n",
       "      <th>HSSEff</th>\n",
       "      <th>BIBEff</th>\n",
       "      <th>MJEff</th>\n",
       "    </tr>\n",
       "  </thead>\n",
       "  <tbody>\n",
       "    <tr>\n",
       "      <th>3</th>\n",
       "      <th>10</th>\n",
       "      <td>12.107716</td>\n",
       "      <td>0.964335</td>\n",
       "      <td>0.379924</td>\n",
       "      <td>0.848643</td>\n",
       "    </tr>\n",
       "  </tbody>\n",
       "</table>\n",
       "</div>"
      ],
      "text/plain": [
       "      HSSSsqrtB    HSSEff    BIBEff     MJEff\n",
       "3 10  12.107716  0.964335  0.379924  0.848643"
      ]
     },
     "execution_count": 17,
     "metadata": {},
     "output_type": "execute_result"
    }
   ],
   "source": [
    "lde[['HSSSsqrtB','HSSEff','BIBEff','MJEff']]"
   ]
  },
  {
   "cell_type": "code",
   "execution_count": 18,
   "metadata": {},
   "outputs": [
    {
     "name": "stdout",
     "output_type": "stream",
     "text": [
      "CPU times: user 2 µs, sys: 0 ns, total: 2 µs\n",
      "Wall time: 3.58 µs\n"
     ]
    }
   ],
   "source": [
    "%%time\n",
    "#treeSmallEvents = scan_performance(events_25, leaf_depth_range=[10], estimators=[10])\n",
    "#treeDepth[['HSSSsqrtB','HSSEff','BIBEff','MJEff']]"
   ]
  },
  {
   "cell_type": "code",
   "execution_count": 19,
   "metadata": {},
   "outputs": [
    {
     "name": "stdout",
     "output_type": "stream",
     "text": [
      "CPU times: user 307 ms, sys: 506 ms, total: 812 ms\n",
      "Wall time: 19.1 s\n"
     ]
    }
   ],
   "source": [
    "%%time\n",
    "lde = scan_performance(events_25, test_events = input_events)"
   ]
  },
  {
   "cell_type": "code",
   "execution_count": 20,
   "metadata": {},
   "outputs": [
    {
     "data": {
      "text/html": [
       "<div>\n",
       "<style scoped>\n",
       "    .dataframe tbody tr th:only-of-type {\n",
       "        vertical-align: middle;\n",
       "    }\n",
       "\n",
       "    .dataframe tbody tr th {\n",
       "        vertical-align: top;\n",
       "    }\n",
       "\n",
       "    .dataframe thead th {\n",
       "        text-align: right;\n",
       "    }\n",
       "</style>\n",
       "<table border=\"1\" class=\"dataframe\">\n",
       "  <thead>\n",
       "    <tr style=\"text-align: right;\">\n",
       "      <th></th>\n",
       "      <th></th>\n",
       "      <th>HSSSsqrtB</th>\n",
       "      <th>HSSEff</th>\n",
       "      <th>BIBEff</th>\n",
       "      <th>MJEff</th>\n",
       "    </tr>\n",
       "  </thead>\n",
       "  <tbody>\n",
       "    <tr>\n",
       "      <th>3</th>\n",
       "      <th>10</th>\n",
       "      <td>40.929413</td>\n",
       "      <td>0.962974</td>\n",
       "      <td>0.380852</td>\n",
       "      <td>0.849645</td>\n",
       "    </tr>\n",
       "  </tbody>\n",
       "</table>\n",
       "</div>"
      ],
      "text/plain": [
       "      HSSSsqrtB    HSSEff    BIBEff     MJEff\n",
       "3 10  40.929413  0.962974  0.380852  0.849645"
      ]
     },
     "execution_count": 20,
     "metadata": {},
     "output_type": "execute_result"
    }
   ],
   "source": [
    "lde[['HSSSsqrtB','HSSEff','BIBEff','MJEff']]"
   ]
  },
  {
   "cell_type": "code",
   "execution_count": 21,
   "metadata": {},
   "outputs": [
    {
     "name": "stdout",
     "output_type": "stream",
     "text": [
      "CPU times: user 383 ms, sys: 619 ms, total: 1 s\n",
      "Wall time: 45.6 s\n"
     ]
    }
   ],
   "source": [
    "%%time\n",
    "lde = scan_performance(events_50, test_events = input_events)"
   ]
  },
  {
   "cell_type": "code",
   "execution_count": 22,
   "metadata": {},
   "outputs": [
    {
     "data": {
      "text/html": [
       "<div>\n",
       "<style scoped>\n",
       "    .dataframe tbody tr th:only-of-type {\n",
       "        vertical-align: middle;\n",
       "    }\n",
       "\n",
       "    .dataframe tbody tr th {\n",
       "        vertical-align: top;\n",
       "    }\n",
       "\n",
       "    .dataframe thead th {\n",
       "        text-align: right;\n",
       "    }\n",
       "</style>\n",
       "<table border=\"1\" class=\"dataframe\">\n",
       "  <thead>\n",
       "    <tr style=\"text-align: right;\">\n",
       "      <th></th>\n",
       "      <th></th>\n",
       "      <th>HSSSsqrtB</th>\n",
       "      <th>HSSEff</th>\n",
       "      <th>BIBEff</th>\n",
       "      <th>MJEff</th>\n",
       "    </tr>\n",
       "  </thead>\n",
       "  <tbody>\n",
       "    <tr>\n",
       "      <th>3</th>\n",
       "      <th>10</th>\n",
       "      <td>40.46175</td>\n",
       "      <td>0.965027</td>\n",
       "      <td>0.380593</td>\n",
       "      <td>0.848839</td>\n",
       "    </tr>\n",
       "  </tbody>\n",
       "</table>\n",
       "</div>"
      ],
      "text/plain": [
       "      HSSSsqrtB    HSSEff    BIBEff     MJEff\n",
       "3 10   40.46175  0.965027  0.380593  0.848839"
      ]
     },
     "execution_count": 22,
     "metadata": {},
     "output_type": "execute_result"
    }
   ],
   "source": [
    "lde[['HSSSsqrtB','HSSEff','BIBEff','MJEff']]"
   ]
  },
  {
   "cell_type": "markdown",
   "metadata": {},
   "source": [
    "SO, looking at this, it looks like the size of the event sample is not affecting things - so we can try training with the 25% list to see what happens from it. That is good news, since, above, the 50% is 46 seconds, and the 25% is 18.6s, and 100% is 109s. Wait. lets plot that. :-)"
   ]
  },
  {
   "cell_type": "code",
   "execution_count": 23,
   "metadata": {},
   "outputs": [
    {
     "data": {
      "image/png": "[encoded data removed]",
      "text/plain": [
       "<matplotlib.figure.Figure at 0x7fc2e697f8d0>"
      ]
     },
     "metadata": {},
     "output_type": "display_data"
    }
   ],
   "source": [
    "timing = [18.6, 46.0, 109.0]\n",
    "fraction = [0.25, 0.50, 1.0]\n",
    "fig = plt.figure()\n",
    "plt.plot(timing, fraction)\n",
    "plt.show()"
   ]
  },
  {
   "cell_type": "markdown",
   "metadata": {},
   "source": [
    "## Number of estimators\n",
    "The literature seems to say you want very shallow trees. Depth of 3, means 4 leaves, for example. And then you want to do sub-sampling. So lets see how the performance improves with more trees, but the same number of levels (3)."
   ]
  },
  {
   "cell_type": "code",
   "execution_count": 24,
   "metadata": {},
   "outputs": [
    {
     "name": "stdout",
     "output_type": "stream",
     "text": [
      "CPU times: user 6.74 s, sys: 8.8 s, total: 15.5 s\n",
      "Wall time: 52min 22s\n"
     ]
    }
   ],
   "source": [
    "%%time\n",
    "ntrees = scan_performance(events_25, leaf_depth_range=[3], estimators=[10, 50, 100, 200, 300, 400, 600, 800,1000], test_events = input_events)"
   ]
  },
  {
   "cell_type": "code",
   "execution_count": 29,
   "metadata": {},
   "outputs": [
    {
     "data": {
      "text/html": [
       "<div>\n",
       "<style scoped>\n",
       "    .dataframe tbody tr th:only-of-type {\n",
       "        vertical-align: middle;\n",
       "    }\n",
       "\n",
       "    .dataframe tbody tr th {\n",
       "        vertical-align: top;\n",
       "    }\n",
       "\n",
       "    .dataframe thead th {\n",
       "        text-align: right;\n",
       "    }\n",
       "</style>\n",
       "<table border=\"1\" class=\"dataframe\">\n",
       "  <thead>\n",
       "    <tr style=\"text-align: right;\">\n",
       "      <th></th>\n",
       "      <th></th>\n",
       "      <th>HSSSsqrtB</th>\n",
       "      <th>HSSEff</th>\n",
       "      <th>HSSinHSS</th>\n",
       "      <th>BIBinHSS</th>\n",
       "      <th>MJinHSS</th>\n",
       "    </tr>\n",
       "  </thead>\n",
       "  <tbody>\n",
       "    <tr>\n",
       "      <th rowspan=\"9\" valign=\"top\">3</th>\n",
       "      <th>10</th>\n",
       "      <td>40.929413</td>\n",
       "      <td>0.962974</td>\n",
       "      <td>485522.0</td>\n",
       "      <td>58637.0</td>\n",
       "      <td>1.406584e+08</td>\n",
       "    </tr>\n",
       "    <tr>\n",
       "      <th>50</th>\n",
       "      <td>49.595556</td>\n",
       "      <td>0.983415</td>\n",
       "      <td>495828.0</td>\n",
       "      <td>47522.0</td>\n",
       "      <td>9.990104e+07</td>\n",
       "    </tr>\n",
       "    <tr>\n",
       "      <th>100</th>\n",
       "      <td>55.631732</td>\n",
       "      <td>0.983820</td>\n",
       "      <td>496032.0</td>\n",
       "      <td>36775.0</td>\n",
       "      <td>7.946452e+07</td>\n",
       "    </tr>\n",
       "    <tr>\n",
       "      <th>200</th>\n",
       "      <td>63.431873</td>\n",
       "      <td>0.984294</td>\n",
       "      <td>496271.0</td>\n",
       "      <td>28305.0</td>\n",
       "      <td>6.118174e+07</td>\n",
       "    </tr>\n",
       "    <tr>\n",
       "      <th>300</th>\n",
       "      <td>68.722212</td>\n",
       "      <td>0.984607</td>\n",
       "      <td>496429.0</td>\n",
       "      <td>25003.0</td>\n",
       "      <td>5.215691e+07</td>\n",
       "    </tr>\n",
       "    <tr>\n",
       "      <th>400</th>\n",
       "      <td>73.531772</td>\n",
       "      <td>0.984964</td>\n",
       "      <td>496609.0</td>\n",
       "      <td>23166.0</td>\n",
       "      <td>4.558883e+07</td>\n",
       "    </tr>\n",
       "    <tr>\n",
       "      <th>600</th>\n",
       "      <td>80.185872</td>\n",
       "      <td>0.985139</td>\n",
       "      <td>496697.0</td>\n",
       "      <td>21038.0</td>\n",
       "      <td>3.834857e+07</td>\n",
       "    </tr>\n",
       "    <tr>\n",
       "      <th>800</th>\n",
       "      <td>86.881288</td>\n",
       "      <td>0.985353</td>\n",
       "      <td>496805.0</td>\n",
       "      <td>19717.0</td>\n",
       "      <td>3.267815e+07</td>\n",
       "    </tr>\n",
       "    <tr>\n",
       "      <th>1000</th>\n",
       "      <td>90.810437</td>\n",
       "      <td>0.985581</td>\n",
       "      <td>496920.0</td>\n",
       "      <td>18875.0</td>\n",
       "      <td>2.992455e+07</td>\n",
       "    </tr>\n",
       "  </tbody>\n",
       "</table>\n",
       "</div>"
      ],
      "text/plain": [
       "        HSSSsqrtB    HSSEff  HSSinHSS  BIBinHSS       MJinHSS\n",
       "3 10    40.929413  0.962974  485522.0   58637.0  1.406584e+08\n",
       "  50    49.595556  0.983415  495828.0   47522.0  9.990104e+07\n",
       "  100   55.631732  0.983820  496032.0   36775.0  7.946452e+07\n",
       "  200   63.431873  0.984294  496271.0   28305.0  6.118174e+07\n",
       "  300   68.722212  0.984607  496429.0   25003.0  5.215691e+07\n",
       "  400   73.531772  0.984964  496609.0   23166.0  4.558883e+07\n",
       "  600   80.185872  0.985139  496697.0   21038.0  3.834857e+07\n",
       "  800   86.881288  0.985353  496805.0   19717.0  3.267815e+07\n",
       "  1000  90.810437  0.985581  496920.0   18875.0  2.992455e+07"
      ]
     },
     "execution_count": 29,
     "metadata": {},
     "output_type": "execute_result"
    }
   ],
   "source": [
    "ntrees[['HSSSsqrtB','HSSEff', 'HSSinHSS', 'BIBinHSS','MJinHSS']]"
   ]
  },
  {
   "cell_type": "code",
   "execution_count": 30,
   "metadata": {},
   "outputs": [
    {
     "data": {
      "text/html": [
       "<div>\n",
       "<style scoped>\n",
       "    .dataframe tbody tr th:only-of-type {\n",
       "        vertical-align: middle;\n",
       "    }\n",
       "\n",
       "    .dataframe tbody tr th {\n",
       "        vertical-align: top;\n",
       "    }\n",
       "\n",
       "    .dataframe thead th {\n",
       "        text-align: right;\n",
       "    }\n",
       "</style>\n",
       "<table border=\"1\" class=\"dataframe\">\n",
       "  <thead>\n",
       "    <tr style=\"text-align: right;\">\n",
       "      <th></th>\n",
       "      <th></th>\n",
       "      <th>BIBBack</th>\n",
       "      <th>BIBEff</th>\n",
       "      <th>BIBSsqrtB</th>\n",
       "      <th>BIBTotalCount</th>\n",
       "      <th>BIBTotalWeight</th>\n",
       "      <th>BIBinBIB</th>\n",
       "      <th>BIBinHSS</th>\n",
       "      <th>BIBinMJ</th>\n",
       "      <th>HSSBack</th>\n",
       "      <th>HSSEff</th>\n",
       "      <th>...</th>\n",
       "      <th>HSSinHSS</th>\n",
       "      <th>HSSinMJ</th>\n",
       "      <th>MJBack</th>\n",
       "      <th>MJEff</th>\n",
       "      <th>MJSsqrtB</th>\n",
       "      <th>MJTotalCount</th>\n",
       "      <th>MJTotalWeight</th>\n",
       "      <th>MJinBIB</th>\n",
       "      <th>MJinHSS</th>\n",
       "      <th>MJinMJ</th>\n",
       "    </tr>\n",
       "  </thead>\n",
       "  <tbody>\n",
       "    <tr>\n",
       "      <th rowspan=\"9\" valign=\"top\">3</th>\n",
       "      <th>10</th>\n",
       "      <td>2.339620e+08</td>\n",
       "      <td>0.380852</td>\n",
       "      <td>19.919303</td>\n",
       "      <td>800000.0</td>\n",
       "      <td>800000.0</td>\n",
       "      <td>304682.0</td>\n",
       "      <td>58637.0</td>\n",
       "      <td>436681.0</td>\n",
       "      <td>1.407171e+08</td>\n",
       "      <td>0.962974</td>\n",
       "      <td>...</td>\n",
       "      <td>485522.0</td>\n",
       "      <td>6278.0</td>\n",
       "      <td>442959.0</td>\n",
       "      <td>0.849645</td>\n",
       "      <td>3.180653e+06</td>\n",
       "      <td>800000.0</td>\n",
       "      <td>2.491497e+09</td>\n",
       "      <td>2.339496e+08</td>\n",
       "      <td>1.406584e+08</td>\n",
       "      <td>2.116889e+09</td>\n",
       "    </tr>\n",
       "    <tr>\n",
       "      <th>50</th>\n",
       "      <td>4.607869e+08</td>\n",
       "      <td>0.507934</td>\n",
       "      <td>18.929843</td>\n",
       "      <td>800000.0</td>\n",
       "      <td>800000.0</td>\n",
       "      <td>406347.0</td>\n",
       "      <td>47522.0</td>\n",
       "      <td>346131.0</td>\n",
       "      <td>9.994857e+07</td>\n",
       "      <td>0.983415</td>\n",
       "      <td>...</td>\n",
       "      <td>495828.0</td>\n",
       "      <td>4603.0</td>\n",
       "      <td>350734.0</td>\n",
       "      <td>0.774961</td>\n",
       "      <td>3.260252e+06</td>\n",
       "      <td>800000.0</td>\n",
       "      <td>2.491497e+09</td>\n",
       "      <td>4.607831e+08</td>\n",
       "      <td>9.990104e+07</td>\n",
       "      <td>1.930813e+09</td>\n",
       "    </tr>\n",
       "    <tr>\n",
       "      <th>100</th>\n",
       "      <td>5.635909e+08</td>\n",
       "      <td>0.553306</td>\n",
       "      <td>18.645480</td>\n",
       "      <td>800000.0</td>\n",
       "      <td>800000.0</td>\n",
       "      <td>442645.0</td>\n",
       "      <td>36775.0</td>\n",
       "      <td>320580.0</td>\n",
       "      <td>7.950130e+07</td>\n",
       "      <td>0.983820</td>\n",
       "      <td>...</td>\n",
       "      <td>496032.0</td>\n",
       "      <td>4467.0</td>\n",
       "      <td>325047.0</td>\n",
       "      <td>0.741901</td>\n",
       "      <td>3.242153e+06</td>\n",
       "      <td>800000.0</td>\n",
       "      <td>2.491497e+09</td>\n",
       "      <td>5.635872e+08</td>\n",
       "      <td>7.946452e+07</td>\n",
       "      <td>1.848445e+09</td>\n",
       "    </tr>\n",
       "    <tr>\n",
       "      <th>200</th>\n",
       "      <td>6.382447e+08</td>\n",
       "      <td>0.591866</td>\n",
       "      <td>18.742174</td>\n",
       "      <td>800000.0</td>\n",
       "      <td>800000.0</td>\n",
       "      <td>473493.0</td>\n",
       "      <td>28305.0</td>\n",
       "      <td>298202.0</td>\n",
       "      <td>6.121005e+07</td>\n",
       "      <td>0.984294</td>\n",
       "      <td>...</td>\n",
       "      <td>496271.0</td>\n",
       "      <td>4119.0</td>\n",
       "      <td>302321.0</td>\n",
       "      <td>0.719276</td>\n",
       "      <td>3.259281e+06</td>\n",
       "      <td>800000.0</td>\n",
       "      <td>2.491497e+09</td>\n",
       "      <td>6.382409e+08</td>\n",
       "      <td>6.118174e+07</td>\n",
       "      <td>1.792074e+09</td>\n",
       "    </tr>\n",
       "    <tr>\n",
       "      <th>300</th>\n",
       "      <td>6.516685e+08</td>\n",
       "      <td>0.605357</td>\n",
       "      <td>18.970927</td>\n",
       "      <td>800000.0</td>\n",
       "      <td>800000.0</td>\n",
       "      <td>484286.0</td>\n",
       "      <td>25003.0</td>\n",
       "      <td>290711.0</td>\n",
       "      <td>5.218192e+07</td>\n",
       "      <td>0.984607</td>\n",
       "      <td>...</td>\n",
       "      <td>496429.0</td>\n",
       "      <td>3873.0</td>\n",
       "      <td>294584.0</td>\n",
       "      <td>0.717511</td>\n",
       "      <td>3.293700e+06</td>\n",
       "      <td>800000.0</td>\n",
       "      <td>2.491497e+09</td>\n",
       "      <td>6.516646e+08</td>\n",
       "      <td>5.215691e+07</td>\n",
       "      <td>1.787675e+09</td>\n",
       "    </tr>\n",
       "    <tr>\n",
       "      <th>400</th>\n",
       "      <td>6.637855e+08</td>\n",
       "      <td>0.614511</td>\n",
       "      <td>19.081211</td>\n",
       "      <td>800000.0</td>\n",
       "      <td>800000.0</td>\n",
       "      <td>491609.0</td>\n",
       "      <td>23166.0</td>\n",
       "      <td>285225.0</td>\n",
       "      <td>4.561200e+07</td>\n",
       "      <td>0.984964</td>\n",
       "      <td>...</td>\n",
       "      <td>496609.0</td>\n",
       "      <td>3723.0</td>\n",
       "      <td>288948.0</td>\n",
       "      <td>0.715283</td>\n",
       "      <td>3.315344e+06</td>\n",
       "      <td>800000.0</td>\n",
       "      <td>2.491497e+09</td>\n",
       "      <td>6.637817e+08</td>\n",
       "      <td>4.558883e+07</td>\n",
       "      <td>1.782126e+09</td>\n",
       "    </tr>\n",
       "    <tr>\n",
       "      <th>600</th>\n",
       "      <td>6.695869e+08</td>\n",
       "      <td>0.629149</td>\n",
       "      <td>19.450907</td>\n",
       "      <td>800000.0</td>\n",
       "      <td>800000.0</td>\n",
       "      <td>503319.0</td>\n",
       "      <td>21038.0</td>\n",
       "      <td>275643.0</td>\n",
       "      <td>3.836961e+07</td>\n",
       "      <td>0.985139</td>\n",
       "      <td>...</td>\n",
       "      <td>496697.0</td>\n",
       "      <td>3619.0</td>\n",
       "      <td>279262.0</td>\n",
       "      <td>0.715861</td>\n",
       "      <td>3.375072e+06</td>\n",
       "      <td>800000.0</td>\n",
       "      <td>2.491497e+09</td>\n",
       "      <td>6.695830e+08</td>\n",
       "      <td>3.834857e+07</td>\n",
       "      <td>1.783565e+09</td>\n",
       "    </tr>\n",
       "    <tr>\n",
       "      <th>800</th>\n",
       "      <td>6.683152e+08</td>\n",
       "      <td>0.640306</td>\n",
       "      <td>19.814680</td>\n",
       "      <td>800000.0</td>\n",
       "      <td>800000.0</td>\n",
       "      <td>512245.0</td>\n",
       "      <td>19717.0</td>\n",
       "      <td>268038.0</td>\n",
       "      <td>3.269787e+07</td>\n",
       "      <td>0.985353</td>\n",
       "      <td>...</td>\n",
       "      <td>496805.0</td>\n",
       "      <td>3560.0</td>\n",
       "      <td>271598.0</td>\n",
       "      <td>0.718647</td>\n",
       "      <td>3.435681e+06</td>\n",
       "      <td>800000.0</td>\n",
       "      <td>2.491497e+09</td>\n",
       "      <td>6.683114e+08</td>\n",
       "      <td>3.267815e+07</td>\n",
       "      <td>1.790507e+09</td>\n",
       "    </tr>\n",
       "    <tr>\n",
       "      <th>1000</th>\n",
       "      <td>6.778696e+08</td>\n",
       "      <td>0.649070</td>\n",
       "      <td>19.943825</td>\n",
       "      <td>800000.0</td>\n",
       "      <td>800000.0</td>\n",
       "      <td>519256.0</td>\n",
       "      <td>18875.0</td>\n",
       "      <td>261869.0</td>\n",
       "      <td>2.994342e+07</td>\n",
       "      <td>0.985581</td>\n",
       "      <td>...</td>\n",
       "      <td>496920.0</td>\n",
       "      <td>3432.0</td>\n",
       "      <td>265301.0</td>\n",
       "      <td>0.715918</td>\n",
       "      <td>3.463012e+06</td>\n",
       "      <td>800000.0</td>\n",
       "      <td>2.491497e+09</td>\n",
       "      <td>6.778657e+08</td>\n",
       "      <td>2.992455e+07</td>\n",
       "      <td>1.783707e+09</td>\n",
       "    </tr>\n",
       "  </tbody>\n",
       "</table>\n",
       "<p>9 rows × 24 columns</p>\n",
       "</div>"
      ],
      "text/plain": [
       "             BIBBack    BIBEff  BIBSsqrtB  BIBTotalCount  BIBTotalWeight  \\\n",
       "3 10    2.339620e+08  0.380852  19.919303       800000.0        800000.0   \n",
       "  50    4.607869e+08  0.507934  18.929843       800000.0        800000.0   \n",
       "  100   5.635909e+08  0.553306  18.645480       800000.0        800000.0   \n",
       "  200   6.382447e+08  0.591866  18.742174       800000.0        800000.0   \n",
       "  300   6.516685e+08  0.605357  18.970927       800000.0        800000.0   \n",
       "  400   6.637855e+08  0.614511  19.081211       800000.0        800000.0   \n",
       "  600   6.695869e+08  0.629149  19.450907       800000.0        800000.0   \n",
       "  800   6.683152e+08  0.640306  19.814680       800000.0        800000.0   \n",
       "  1000  6.778696e+08  0.649070  19.943825       800000.0        800000.0   \n",
       "\n",
       "        BIBinBIB  BIBinHSS   BIBinMJ       HSSBack    HSSEff      ...       \\\n",
       "3 10    304682.0   58637.0  436681.0  1.407171e+08  0.962974      ...        \n",
       "  50    406347.0   47522.0  346131.0  9.994857e+07  0.983415      ...        \n",
       "  100   442645.0   36775.0  320580.0  7.950130e+07  0.983820      ...        \n",
       "  200   473493.0   28305.0  298202.0  6.121005e+07  0.984294      ...        \n",
       "  300   484286.0   25003.0  290711.0  5.218192e+07  0.984607      ...        \n",
       "  400   491609.0   23166.0  285225.0  4.561200e+07  0.984964      ...        \n",
       "  600   503319.0   21038.0  275643.0  3.836961e+07  0.985139      ...        \n",
       "  800   512245.0   19717.0  268038.0  3.269787e+07  0.985353      ...        \n",
       "  1000  519256.0   18875.0  261869.0  2.994342e+07  0.985581      ...        \n",
       "\n",
       "        HSSinHSS  HSSinMJ    MJBack     MJEff      MJSsqrtB  MJTotalCount  \\\n",
       "3 10    485522.0   6278.0  442959.0  0.849645  3.180653e+06      800000.0   \n",
       "  50    495828.0   4603.0  350734.0  0.774961  3.260252e+06      800000.0   \n",
       "  100   496032.0   4467.0  325047.0  0.741901  3.242153e+06      800000.0   \n",
       "  200   496271.0   4119.0  302321.0  0.719276  3.259281e+06      800000.0   \n",
       "  300   496429.0   3873.0  294584.0  0.717511  3.293700e+06      800000.0   \n",
       "  400   496609.0   3723.0  288948.0  0.715283  3.315344e+06      800000.0   \n",
       "  600   496697.0   3619.0  279262.0  0.715861  3.375072e+06      800000.0   \n",
       "  800   496805.0   3560.0  271598.0  0.718647  3.435681e+06      800000.0   \n",
       "  1000  496920.0   3432.0  265301.0  0.715918  3.463012e+06      800000.0   \n",
       "\n",
       "        MJTotalWeight       MJinBIB       MJinHSS        MJinMJ  \n",
       "3 10     2.491497e+09  2.339496e+08  1.406584e+08  2.116889e+09  \n",
       "  50     2.491497e+09  4.607831e+08  9.990104e+07  1.930813e+09  \n",
       "  100    2.491497e+09  5.635872e+08  7.946452e+07  1.848445e+09  \n",
       "  200    2.491497e+09  6.382409e+08  6.118174e+07  1.792074e+09  \n",
       "  300    2.491497e+09  6.516646e+08  5.215691e+07  1.787675e+09  \n",
       "  400    2.491497e+09  6.637817e+08  4.558883e+07  1.782126e+09  \n",
       "  600    2.491497e+09  6.695830e+08  3.834857e+07  1.783565e+09  \n",
       "  800    2.491497e+09  6.683114e+08  3.267815e+07  1.790507e+09  \n",
       "  1000   2.491497e+09  6.778657e+08  2.992455e+07  1.783707e+09  \n",
       "\n",
       "[9 rows x 24 columns]"
      ]
     },
     "execution_count": 30,
     "metadata": {},
     "output_type": "execute_result"
    }
   ],
   "source": [
    "ntrees"
   ]
  },
  {
   "cell_type": "code",
   "execution_count": null,
   "metadata": {},
   "outputs": [],
   "source": [
    "%%time\n",
    "ntrees = scan_performance(events_25, leaf_depth_range=[3], estimators=[200, 300], test_events = input_events)"
   ]
  },
  {
   "cell_type": "code",
   "execution_count": null,
   "metadata": {},
   "outputs": [],
   "source": [
    "ntrees[['HSSSsqrtB','HSSEff','BIBEff','MJEff']]"
   ]
  },
  {
   "cell_type": "code",
   "execution_count": null,
   "metadata": {},
   "outputs": [],
   "source": [
    "%%time\n",
    "ntrees = scan_performance(events_25, leaf_depth_range=[3], estimators=[400, 600], test_events = input_events)"
   ]
  },
  {
   "cell_type": "code",
   "execution_count": null,
   "metadata": {},
   "outputs": [],
   "source": [
    "ntrees[['HSSSsqrtB','HSSEff','BIBEff','MJEff']]"
   ]
  },
  {
   "cell_type": "code",
   "execution_count": null,
   "metadata": {},
   "outputs": [],
   "source": [
    "%%time\n",
    "ntrees = scan_performance(events_25, leaf_depth_range=[3], estimators=[800, 1000], test_events = input_events)"
   ]
  },
  {
   "cell_type": "code",
   "execution_count": null,
   "metadata": {},
   "outputs": [],
   "source": [
    "ntrees[['HSSSsqrtB','HSSEff','BIBEff','MJEff']]"
   ]
  },
  {
   "cell_type": "code",
   "execution_count": null,
   "metadata": {},
   "outputs": [],
   "source": [
    "%%time\n",
    "ntrees = scan_performance(events_25, leaf_depth_range=[3], estimators=[800, 1000], test_events = input_events)"
   ]
  },
  {
   "cell_type": "code",
   "execution_count": null,
   "metadata": {},
   "outputs": [],
   "source": [
    "ntrees[['HSSSsqrtB','HSSEff','BIBEff','MJEff']]"
   ]
  },
  {
   "cell_type": "code",
   "execution_count": null,
   "metadata": {},
   "outputs": [],
   "source": []
  }
 ],
 "metadata": {
  "kernelspec": {
   "display_name": "Python 3",
   "language": "python",
   "name": "python3"
  },
  "language_info": {
   "codemirror_mode": {
    "name": "ipython",
    "version": 3
   },
   "file_extension": ".py",
   "mimetype": "text/x-python",
   "name": "python",
   "nbconvert_exporter": "python",
   "pygments_lexer": "ipython3",
   "version": "3.6.4"
  }
 },
 "nbformat": 4,
 "nbformat_minor": 2
}
