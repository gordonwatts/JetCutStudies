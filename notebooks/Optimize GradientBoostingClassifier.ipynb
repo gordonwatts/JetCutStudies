{
 "cells": [
  {
   "cell_type": "markdown",
   "metadata": {},
   "source": [
    "# Optimize GradientBoostingClassifier\n",
    "Using the previously determined variable list, lets see what we get in terms of optimization for the training settings."
   ]
  },
  {
   "cell_type": "markdown",
   "metadata": {},
   "source": [
    "# Initalization"
   ]
  },
  {
   "cell_type": "code",
   "execution_count": null,
   "metadata": {
    "collapsed": true
   },
   "outputs": [],
   "source": [
    "from bdt_training_scikit_tools import load_trimmed_sample, default_training_variable_list, \\\n",
    "    test_train_samples, prep_samples, default_training, calc_performance\n",
    "import matplotlib.pyplot as plt\n",
    "plt.rc('font', size=14)\n",
    "from matplotlib.colors import LogNorm\n",
    "import pandas as pd\n",
    "import numpy as np\n",
    "import multiprocessing as mp\n",
    "import itertools"
   ]
  },
  {
   "cell_type": "markdown",
   "metadata": {},
   "source": [
    "## Load data"
   ]
  },
  {
   "cell_type": "code",
   "execution_count": null,
   "metadata": {},
   "outputs": [],
   "source": [
    "%%time\n",
    "input_events = load_trimmed_sample(106)"
   ]
  },
  {
   "cell_type": "markdown",
   "metadata": {},
   "source": [
    "## Training\n",
    "We want to be able run multiple trainings in threads, so we have to be a little tricky here by writing out a file."
   ]
  },
  {
   "cell_type": "code",
   "execution_count": 7,
   "metadata": {},
   "outputs": [
    {
     "name": "stdout",
     "output_type": "stream",
     "text": [
      "Overwriting grad_perf_training.py\n"
     ]
    }
   ],
   "source": [
    "%%writefile grad_perf_training.py\n",
    "from bdt_training_scikit_tools import default_training_variable_list, \\\n",
    "    test_train_samples, prep_samples, calc_performance\n",
    "from sklearn.ensemble import GradientBoostingClassifier\n",
    "    \n",
    "def do_training (vlist):\n",
    "    all_events, leaf_depth, estimators = vlist\n",
    "    return get_training_performance (all_events, leaf_depth, estimators)\n",
    "    \n",
    "def get_training_performance (all_events, leaf_depth, estimators):\n",
    "    '''Run a training with the set of varaibles given. Return a performance table.'''\n",
    "    \n",
    "    # Split into testing and training samples\n",
    "    train, test = test_train_samples(all_events)\n",
    "        \n",
    "    # Prep samples for training\n",
    "    all_events, all_events_class, training_weight, evaluation_weight = prep_samples(train[0], train[1], train[2])\n",
    "    \n",
    "    # Run training\n",
    "    bdt = GradientBoostingClassifier(max_depth=leaf_depth, n_estimators=estimators)\n",
    "    bdt.fit(all_events, all_events_class, sample_weight = training_weight)\n",
    "    \n",
    "    # Create a thing of all the results\n",
    "    return {(leaf_depth, estimators): calc_performance(bdt, test)}"
   ]
  },
  {
   "cell_type": "code",
   "execution_count": 4,
   "metadata": {
    "collapsed": true
   },
   "outputs": [],
   "source": [
    "import grad_perf_training\n",
    "pool = mp.Pool(processes=4)"
   ]
  },
  {
   "cell_type": "code",
   "execution_count": 5,
   "metadata": {
    "collapsed": true
   },
   "outputs": [],
   "source": [
    "def scan_performance(all_events, leaf_depth_range=[3], estimators=[10]):\n",
    "    results = pool.map(grad_perf_training.do_training,\n",
    "             [(all_events, ldepth, nest) for ldepth in leaf_depth_range for nest in estimators])\n",
    "\n",
    "    one_dict = {}\n",
    "    for kp in results:\n",
    "        one_dict.update(kp)\n",
    "\n",
    "    return pd.DataFrame(one_dict).T"
   ]
  },
  {
   "cell_type": "markdown",
   "metadata": {},
   "source": [
    "## Leaf Depth and Estimators\n",
    "These two have to be connected, rigth?"
   ]
  },
  {
   "cell_type": "code",
   "execution_count": null,
   "metadata": {
    "collapsed": true
   },
   "outputs": [],
   "source": [
    "%%time\n",
    "lde = scan_performance(input_events, leaf_depth_range=[3,10,50], estimators=[10,50,100])"
   ]
  },
  {
   "cell_type": "code",
   "execution_count": null,
   "metadata": {
    "collapsed": true
   },
   "outputs": [],
   "source": [
    "lde[['HSSSsqrtB','HSSEff','BIBEff','MJEff']]"
   ]
  },
  {
   "cell_type": "code",
   "execution_count": null,
   "metadata": {
    "collapsed": true
   },
   "outputs": [],
   "source": []
  }
 ],
 "metadata": {
  "kernelspec": {
   "display_name": "Python 3",
   "language": "python",
   "name": "python3"
  },
  "language_info": {
   "codemirror_mode": {
    "name": "ipython",
    "version": 3
   },
   "file_extension": ".py",
   "mimetype": "text/x-python",
   "name": "python",
   "nbconvert_exporter": "python",
   "pygments_lexer": "ipython3",
   "version": "3.6.3"
  }
 },
 "nbformat": 4,
 "nbformat_minor": 2
}
