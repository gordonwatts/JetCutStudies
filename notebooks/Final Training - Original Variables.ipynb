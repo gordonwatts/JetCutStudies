{
 "cells": [
  {
   "cell_type": "markdown",
   "metadata": {},
   "source": [
    "# Final Training\n",
    "The final version of the training, minus the timing varaiables.\n",
    "\n",
    "Set the name of this training, and the job number it is based on. This will keep the resulting output xml files seperate below."
   ]
  },
  {
   "cell_type": "code",
   "execution_count": 39,
   "metadata": {},
   "outputs": [],
   "source": [
    "jobId = 133\n",
    "training_name = \"full_event_prev_final_timeing_grad1000\""
   ]
  },
  {
   "cell_type": "markdown",
   "metadata": {},
   "source": [
    "## Initalization"
   ]
  },
  {
   "cell_type": "code",
   "execution_count": 40,
   "metadata": {},
   "outputs": [],
   "source": [
    "from bdt_training_scikit_tools import load_trimmed_sample, default_training_variable_list, \\\n",
    "    test_train_samples, prep_samples, default_training, calc_performance, get_fraction_of_events\n",
    "import matplotlib.pyplot as plt\n",
    "plt.rc('font', size=14)\n",
    "from matplotlib.colors import LogNorm\n",
    "import pandas as pd\n",
    "import numpy as np\n",
    "import multiprocessing as mp\n",
    "import itertools"
   ]
  },
  {
   "cell_type": "code",
   "execution_count": 41,
   "metadata": {},
   "outputs": [],
   "source": [
    "training_file_stub = 'training_{0}_{1}'.format(jobId, training_name)"
   ]
  },
  {
   "cell_type": "markdown",
   "metadata": {},
   "source": [
    "## Load data"
   ]
  },
  {
   "cell_type": "code",
   "execution_count": 42,
   "metadata": {},
   "outputs": [
    {
     "name": "stdout",
     "output_type": "stream",
     "text": [
      "Job 133:\n",
      "  BIB: 800000 events\n",
      "  Multijet: 800000 events\n",
      "  Signal: 800000 events\n",
      "  [800000, 800000, 473600]\n",
      "CPU times: user 41.4 s, sys: 6.69 s, total: 48.1 s\n",
      "Wall time: 32.2 s\n"
     ]
    }
   ],
   "source": [
    "%%time\n",
    "input_events = load_trimmed_sample(jobId)"
   ]
  },
  {
   "cell_type": "code",
   "execution_count": 43,
   "metadata": {},
   "outputs": [
    {
     "name": "stdout",
     "output_type": "stream",
     "text": [
      "[200387, 199675, 118454]\n"
     ]
    }
   ],
   "source": [
    "events_25 = get_fraction_of_events(input_events, 0.25)\n",
    "print ([len(i.index) for i in events_25])"
   ]
  },
  {
   "cell_type": "code",
   "execution_count": 44,
   "metadata": {},
   "outputs": [],
   "source": [
    "events_to_use = input_events"
   ]
  },
  {
   "cell_type": "markdown",
   "metadata": {},
   "source": [
    "## Training\n",
    "Default training variables. Likely were arrived at by analysis in the Training Variables workbook."
   ]
  },
  {
   "cell_type": "code",
   "execution_count": 45,
   "metadata": {},
   "outputs": [],
   "source": [
    "training_variables = ['EnergyDensity',\n",
    " 'BIBDeltaTimingM',\n",
    " 'JetPt',\n",
    " 'HadronicLayer1Fraction',\n",
    " 'ShowerCenter',\n",
    " 'JetLat',\n",
    " 'FirstClusterRadius',\n",
    " 'JetLong',\n",
    " 'MaxTrackPt',\n",
    " 'PredictedLxy',\n",
    " 'BIBDeltaTimingP',\n",
    " 'PredictedLz',\n",
    " 'SumPtOfAllTracks']"
   ]
  },
  {
   "cell_type": "markdown",
   "metadata": {},
   "source": [
    "Run the training to get a bdt back."
   ]
  },
  {
   "cell_type": "code",
   "execution_count": 46,
   "metadata": {},
   "outputs": [
    {
     "name": "stdout",
     "output_type": "stream",
     "text": [
      "CPU times: user 5.01 s, sys: 1.14 s, total: 6.15 s\n",
      "Wall time: 3.1 s\n"
     ]
    }
   ],
   "source": [
    "%%time\n",
    "# Split into testing and training samples\n",
    "train, test = test_train_samples(events_to_use)\n",
    "\n",
    "# Prep samples for training\n",
    "all_events, all_events_class, training_weight, evaluation_weight = prep_samples(train[0], train[1], train[2], training_variable_list=training_variables)"
   ]
  },
  {
   "cell_type": "code",
   "execution_count": 47,
   "metadata": {},
   "outputs": [
    {
     "name": "stdout",
     "output_type": "stream",
     "text": [
      "CPU times: user 4h 23min 41s, sys: 58.9 s, total: 4h 24min 40s\n",
      "Wall time: 3h 30min 53s\n"
     ]
    }
   ],
   "source": [
    "%%time\n",
    "bdt = default_training(all_events, training_weight, all_events_class)"
   ]
  },
  {
   "cell_type": "markdown",
   "metadata": {},
   "source": [
    "Calculate the performance for this training"
   ]
  },
  {
   "cell_type": "code",
   "execution_count": 48,
   "metadata": {},
   "outputs": [
    {
     "name": "stdout",
     "output_type": "stream",
     "text": [
      "CPU times: user 56.1 s, sys: 1.73 s, total: 57.8 s\n",
      "Wall time: 52.4 s\n"
     ]
    },
    {
     "data": {
      "text/plain": [
       "{'BIBinBIB': 773156.0,\n",
       " 'MJinBIB': 15898371.660312472,\n",
       " 'HSSinBIB': 15430.0,\n",
       " 'BIBinMJ': 2269.0,\n",
       " 'MJinMJ': 729652474.900382,\n",
       " 'HSSinMJ': 4543.0,\n",
       " 'BIBinHSS': 24575.0,\n",
       " 'MJinHSS': 5514622.748610274,\n",
       " 'HSSinHSS': 453627.0,\n",
       " 'BIBEff': 0.966445,\n",
       " 'MJEff': 0.9714898430510795,\n",
       " 'HSSEff': 0.9578272804054054,\n",
       " 'BIBBack': 15913801.660312472,\n",
       " 'MJBack': 6812.0,\n",
       " 'HSSBack': 5539197.748610274,\n",
       " 'BIBSsqrtB': 193.8117754648011,\n",
       " 'MJSsqrtB': 8840538.91580271,\n",
       " 'HSSSsqrtB': 192.7416005681729,\n",
       " 'BIBTotalWeight': 800000.0,\n",
       " 'MJTotalWeight': 751065469.309305,\n",
       " 'HSSTotalWeight': 473600.0,\n",
       " 'BIBTotalCount': 800000,\n",
       " 'MJTotalCount': 800000,\n",
       " 'HSSTotalCount': 473600}"
      ]
     },
     "execution_count": 48,
     "metadata": {},
     "output_type": "execute_result"
    }
   ],
   "source": [
    "%%time\n",
    "calc_performance(bdt, input_events, training_variables=training_variables)"
   ]
  },
  {
   "cell_type": "code",
   "execution_count": 49,
   "metadata": {},
   "outputs": [
    {
     "data": {
      "text/plain": [
       "['training_133_full_event_prev_final_timeing_grad1000.pkl']"
      ]
     },
     "execution_count": 49,
     "metadata": {},
     "output_type": "execute_result"
    }
   ],
   "source": [
    "from sklearn.externals import joblib\n",
    "joblib.dump(bdt, training_file_stub + '.pkl') "
   ]
  },
  {
   "cell_type": "markdown",
   "metadata": {},
   "source": [
    "## Conversion to TMVA format"
   ]
  },
  {
   "cell_type": "code",
   "execution_count": 50,
   "metadata": {},
   "outputs": [
    {
     "name": "stdout",
     "output_type": "stream",
     "text": [
      "norm is 1.0\n"
     ]
    }
   ],
   "source": [
    "import mlglue\n",
    "import mlglue.tree\n",
    "from sklearn.externals import joblib\n",
    "bdt1 = joblib.load(training_file_stub + '.pkl')\n",
    "bdtGeneral = mlglue.tree.BDTsklearn(bdt1, list(all_events.columns), ['BIB', 'MJ', 'Signal'])\n",
    "bdtGeneral.to_tmva(training_file_stub + \".xml\")"
   ]
  },
  {
   "cell_type": "markdown",
   "metadata": {},
   "source": [
    "## Performance\n",
    "Look at some generic performance plots for the bdt."
   ]
  },
  {
   "cell_type": "code",
   "execution_count": 51,
   "metadata": {},
   "outputs": [],
   "source": [
    "perf_events, perf_events_class, perf_training_weight, perf_evaluation_weight = prep_samples(input_events[0], input_events[1], input_events[2], training_variable_list=training_variables)"
   ]
  },
  {
   "cell_type": "code",
   "execution_count": 52,
   "metadata": {},
   "outputs": [],
   "source": [
    "predicted_class = bdt1.predict(perf_events)"
   ]
  },
  {
   "cell_type": "code",
   "execution_count": 53,
   "metadata": {
    "scrolled": false
   },
   "outputs": [
    {
     "data": {
      "image/png": "[encoded data removed]",
      "text/plain": [
       "<Figure size 1080x1080 with 3 Axes>"
      ]
     },
     "metadata": {},
     "output_type": "display_data"
    }
   ],
   "source": [
    "fig = plt.figure(figsize=(15,15))\n",
    "\n",
    "ax = plt.subplot(221)\n",
    "ax.hist(predicted_class[perf_events_class.Class == 0], weights=perf_training_weight[perf_events_class.Class == 0], bins=3)\n",
    "ax.set_xlabel('Class')\n",
    "ax.set_title('BIB')\n",
    "ax.set_yscale('log')\n",
    "\n",
    "ax = plt.subplot(222)\n",
    "ax.hist(predicted_class[perf_events_class.Class == 1], weights=perf_training_weight[perf_events_class.Class == 1], bins=3)\n",
    "ax.set_xlabel('Class')\n",
    "ax.set_title('MJ')\n",
    "ax.set_yscale('log')\n",
    "\n",
    "ax = plt.subplot(223)\n",
    "ax.hist(predicted_class[perf_events_class.Class == 2], weights=perf_training_weight[perf_events_class.Class == 2], bins=3)\n",
    "ax.set_xlabel('Class')\n",
    "ax.set_title('HSS')\n",
    "ax.set_yscale('log')"
   ]
  },
  {
   "cell_type": "code",
   "execution_count": 54,
   "metadata": {},
   "outputs": [],
   "source": [
    "predicted_prob = bdt1.predict_proba(perf_events)"
   ]
  },
  {
   "cell_type": "code",
   "execution_count": 55,
   "metadata": {},
   "outputs": [],
   "source": [
    "def make_weights (cls):\n",
    "    w = np.array([perf_training_weight[perf_events_class.Class == cls],\n",
    "        perf_training_weight[perf_events_class.Class == cls],\n",
    "        perf_training_weight[perf_events_class.Class == cls]])\n",
    "    return w.T"
   ]
  },
  {
   "cell_type": "code",
   "execution_count": 56,
   "metadata": {},
   "outputs": [
    {
     "data": {
      "text/plain": [
       "<matplotlib.legend.Legend at 0x7f900679b588>"
      ]
     },
     "execution_count": 56,
     "metadata": {},
     "output_type": "execute_result"
    },
    {
     "data": {
      "image/png": "[encoded data removed]",
      "text/plain": [
       "<Figure size 1080x720 with 3 Axes>"
      ]
     },
     "metadata": {},
     "output_type": "display_data"
    }
   ],
   "source": [
    "fig = plt.figure(figsize=(15,10))\n",
    "\n",
    "ax = plt.subplot(221)\n",
    "ax.hist(predicted_prob[perf_events_class.Class == 0], weights=make_weights(0), label=('BiB', \"MJ\", 'HSS'), bins=50, histtype = 'step')\n",
    "ax.set_xlabel('Weight')\n",
    "ax.set_title('Class: BIB')\n",
    "ax.legend()\n",
    "\n",
    "ax = plt.subplot(222)\n",
    "ax.hist(predicted_prob[perf_events_class.Class == 1], weights=make_weights(1), label=('BiB', \"MJ\", 'HSS'), bins=50, histtype = 'step')\n",
    "ax.set_xlabel('Weight')\n",
    "ax.set_title('Class: MJ')\n",
    "ax.legend()\n",
    "\n",
    "ax = plt.subplot(223)\n",
    "ax.hist(predicted_prob[perf_events_class.Class == 2], weights=make_weights(2), label=('BiB', \"MJ\", 'HSS'), bins=50, histtype = 'step')\n",
    "ax.set_xlabel('Weight')\n",
    "ax.set_title('Class: HSS')\n",
    "ax.legend()"
   ]
  },
  {
   "cell_type": "markdown",
   "metadata": {},
   "source": [
    "## TMVA Cross Check\n",
    "We always have trouble with that. We need to look to see what we can expect with TMVA. Below there is Bib, MJ, and Signal, all three classes. 5 events are taken (first jet pt eta phi are shown along with event number so they can be correlated with the real full root trees). The full inputs are shown, in the proper order to be fed to the bdt. Then the result of the TMVA translation is evaluated, and then the probabilities from the sklean classifier are shown. A direct match isn't expected, but the trents (e.g. signal has the class2 column always larger than the bib or mj columns).\n",
    "\n",
    "### What is wrong with this translation?\n",
    "I'm using a slightly modified version of mlglue to do the translation. Yet, as you can see below, the MJ, Sig, and background come out almost alike. And the classifier works rather well when it is run internally. So... what is going on?\n",
    "\n",
    "### BiB (class 0)\n",
    "First lets look at BiB. We'll get some absolute numbers out of the weight calculations"
   ]
  },
  {
   "cell_type": "code",
   "execution_count": 57,
   "metadata": {},
   "outputs": [
    {
     "data": {
      "text/html": [
       "<div>\n",
       "<style scoped>\n",
       "    .dataframe tbody tr th:only-of-type {\n",
       "        vertical-align: middle;\n",
       "    }\n",
       "\n",
       "    .dataframe tbody tr th {\n",
       "        vertical-align: top;\n",
       "    }\n",
       "\n",
       "    .dataframe thead th {\n",
       "        text-align: right;\n",
       "    }\n",
       "</style>\n",
       "<table border=\"1\" class=\"dataframe\">\n",
       "  <thead>\n",
       "    <tr style=\"text-align: right;\">\n",
       "      <th></th>\n",
       "      <th>RunNumber</th>\n",
       "      <th>EventNumber</th>\n",
       "      <th>JetPt</th>\n",
       "      <th>JetEta</th>\n",
       "      <th>JetPhi</th>\n",
       "    </tr>\n",
       "  </thead>\n",
       "  <tbody>\n",
       "    <tr>\n",
       "      <th>0</th>\n",
       "      <td>303846</td>\n",
       "      <td>1290270786</td>\n",
       "      <td>101.7680</td>\n",
       "      <td>0.671180</td>\n",
       "      <td>0.668020</td>\n",
       "    </tr>\n",
       "    <tr>\n",
       "      <th>1</th>\n",
       "      <td>303846</td>\n",
       "      <td>1289734246</td>\n",
       "      <td>143.2400</td>\n",
       "      <td>1.302650</td>\n",
       "      <td>-0.141964</td>\n",
       "    </tr>\n",
       "    <tr>\n",
       "      <th>2</th>\n",
       "      <td>303846</td>\n",
       "      <td>1291357297</td>\n",
       "      <td>109.4470</td>\n",
       "      <td>0.757105</td>\n",
       "      <td>3.096500</td>\n",
       "    </tr>\n",
       "    <tr>\n",
       "      <th>3</th>\n",
       "      <td>303846</td>\n",
       "      <td>1294629602</td>\n",
       "      <td>135.7760</td>\n",
       "      <td>0.011375</td>\n",
       "      <td>-1.721400</td>\n",
       "    </tr>\n",
       "    <tr>\n",
       "      <th>4</th>\n",
       "      <td>303846</td>\n",
       "      <td>1288767250</td>\n",
       "      <td>59.3792</td>\n",
       "      <td>0.628752</td>\n",
       "      <td>-0.494102</td>\n",
       "    </tr>\n",
       "  </tbody>\n",
       "</table>\n",
       "</div>"
      ],
      "text/plain": [
       "   RunNumber  EventNumber     JetPt    JetEta    JetPhi\n",
       "0     303846   1290270786  101.7680  0.671180  0.668020\n",
       "1     303846   1289734246  143.2400  1.302650 -0.141964\n",
       "2     303846   1291357297  109.4470  0.757105  3.096500\n",
       "3     303846   1294629602  135.7760  0.011375 -1.721400\n",
       "4     303846   1288767250   59.3792  0.628752 -0.494102"
      ]
     },
     "execution_count": 57,
     "metadata": {},
     "output_type": "execute_result"
    }
   ],
   "source": [
    "events_to_use[0][:5][['RunNumber', 'EventNumber', 'JetPt', 'JetEta', 'JetPhi']]"
   ]
  },
  {
   "cell_type": "code",
   "execution_count": 58,
   "metadata": {},
   "outputs": [
    {
     "data": {
      "text/html": [
       "<div>\n",
       "<style scoped>\n",
       "    .dataframe tbody tr th:only-of-type {\n",
       "        vertical-align: middle;\n",
       "    }\n",
       "\n",
       "    .dataframe tbody tr th {\n",
       "        vertical-align: top;\n",
       "    }\n",
       "\n",
       "    .dataframe thead th {\n",
       "        text-align: right;\n",
       "    }\n",
       "</style>\n",
       "<table border=\"1\" class=\"dataframe\">\n",
       "  <thead>\n",
       "    <tr style=\"text-align: right;\">\n",
       "      <th></th>\n",
       "      <th>EnergyDensity</th>\n",
       "      <th>BIBDeltaTimingM</th>\n",
       "      <th>JetPt</th>\n",
       "      <th>HadronicLayer1Fraction</th>\n",
       "      <th>ShowerCenter</th>\n",
       "      <th>JetLat</th>\n",
       "      <th>FirstClusterRadius</th>\n",
       "      <th>JetLong</th>\n",
       "      <th>MaxTrackPt</th>\n",
       "      <th>PredictedLxy</th>\n",
       "      <th>BIBDeltaTimingP</th>\n",
       "      <th>PredictedLz</th>\n",
       "      <th>SumPtOfAllTracks</th>\n",
       "    </tr>\n",
       "  </thead>\n",
       "  <tbody>\n",
       "    <tr>\n",
       "      <th>0</th>\n",
       "      <td>0.002670</td>\n",
       "      <td>26.887600</td>\n",
       "      <td>143.2400</td>\n",
       "      <td>0.968134</td>\n",
       "      <td>1864.0</td>\n",
       "      <td>0.159180</td>\n",
       "      <td>4800</td>\n",
       "      <td>0.271484</td>\n",
       "      <td>0.538194</td>\n",
       "      <td>2102.600</td>\n",
       "      <td>-0.646996</td>\n",
       "      <td>4188.720</td>\n",
       "      <td>0.538194</td>\n",
       "    </tr>\n",
       "    <tr>\n",
       "      <th>1</th>\n",
       "      <td>0.000935</td>\n",
       "      <td>17.486100</td>\n",
       "      <td>109.4470</td>\n",
       "      <td>-0.001545</td>\n",
       "      <td>2864.0</td>\n",
       "      <td>0.373047</td>\n",
       "      <td>3904</td>\n",
       "      <td>0.292969</td>\n",
       "      <td>0.000000</td>\n",
       "      <td>2912.970</td>\n",
       "      <td>0.914904</td>\n",
       "      <td>2571.480</td>\n",
       "      <td>0.000000</td>\n",
       "    </tr>\n",
       "    <tr>\n",
       "      <th>2</th>\n",
       "      <td>0.002579</td>\n",
       "      <td>0.029894</td>\n",
       "      <td>135.7760</td>\n",
       "      <td>0.990177</td>\n",
       "      <td>964.0</td>\n",
       "      <td>0.423828</td>\n",
       "      <td>2448</td>\n",
       "      <td>0.291016</td>\n",
       "      <td>0.000000</td>\n",
       "      <td>2111.500</td>\n",
       "      <td>0.458046</td>\n",
       "      <td>438.670</td>\n",
       "      <td>0.000000</td>\n",
       "    </tr>\n",
       "    <tr>\n",
       "      <th>3</th>\n",
       "      <td>0.000139</td>\n",
       "      <td>-22.359300</td>\n",
       "      <td>59.3792</td>\n",
       "      <td>0.563293</td>\n",
       "      <td>1024.0</td>\n",
       "      <td>0.953125</td>\n",
       "      <td>2768</td>\n",
       "      <td>0.738281</td>\n",
       "      <td>0.818729</td>\n",
       "      <td>824.584</td>\n",
       "      <td>-30.330000</td>\n",
       "      <td>686.581</td>\n",
       "      <td>0.818729</td>\n",
       "    </tr>\n",
       "    <tr>\n",
       "      <th>4</th>\n",
       "      <td>0.000809</td>\n",
       "      <td>2.662320</td>\n",
       "      <td>133.3790</td>\n",
       "      <td>0.014341</td>\n",
       "      <td>1688.0</td>\n",
       "      <td>0.281250</td>\n",
       "      <td>3056</td>\n",
       "      <td>0.078125</td>\n",
       "      <td>0.000000</td>\n",
       "      <td>2579.500</td>\n",
       "      <td>-0.719869</td>\n",
       "      <td>655.392</td>\n",
       "      <td>0.000000</td>\n",
       "    </tr>\n",
       "  </tbody>\n",
       "</table>\n",
       "</div>"
      ],
      "text/plain": [
       "   EnergyDensity  BIBDeltaTimingM     JetPt  HadronicLayer1Fraction  \\\n",
       "0       0.002670        26.887600  143.2400                0.968134   \n",
       "1       0.000935        17.486100  109.4470               -0.001545   \n",
       "2       0.002579         0.029894  135.7760                0.990177   \n",
       "3       0.000139       -22.359300   59.3792                0.563293   \n",
       "4       0.000809         2.662320  133.3790                0.014341   \n",
       "\n",
       "   ShowerCenter    JetLat  FirstClusterRadius   JetLong  MaxTrackPt  \\\n",
       "0        1864.0  0.159180                4800  0.271484    0.538194   \n",
       "1        2864.0  0.373047                3904  0.292969    0.000000   \n",
       "2         964.0  0.423828                2448  0.291016    0.000000   \n",
       "3        1024.0  0.953125                2768  0.738281    0.818729   \n",
       "4        1688.0  0.281250                3056  0.078125    0.000000   \n",
       "\n",
       "   PredictedLxy  BIBDeltaTimingP  PredictedLz  SumPtOfAllTracks  \n",
       "0      2102.600        -0.646996     4188.720          0.538194  \n",
       "1      2912.970         0.914904     2571.480          0.000000  \n",
       "2      2111.500         0.458046      438.670          0.000000  \n",
       "3       824.584       -30.330000      686.581          0.818729  \n",
       "4      2579.500        -0.719869      655.392          0.000000  "
      ]
     },
     "execution_count": 58,
     "metadata": {},
     "output_type": "execute_result"
    }
   ],
   "source": [
    "subsample = all_events[all_events_class.Class==0][:5]\n",
    "subsample"
   ]
  },
  {
   "cell_type": "code",
   "execution_count": 59,
   "metadata": {},
   "outputs": [
    {
     "data": {
      "text/plain": [
       "array([[0.35952712, 0.3181333 , 0.32233959],\n",
       "       [0.35365084, 0.31985102, 0.32649814],\n",
       "       [0.36226331, 0.32243323, 0.31530346],\n",
       "       [0.35517507, 0.33159679, 0.31322814],\n",
       "       [0.36253888, 0.32296546, 0.31449566]])"
      ]
     },
     "execution_count": 59,
     "metadata": {},
     "output_type": "execute_result"
    }
   ],
   "source": [
    "bdtGeneral.eval(subsample)"
   ]
  },
  {
   "cell_type": "code",
   "execution_count": 60,
   "metadata": {},
   "outputs": [
    {
     "data": {
      "text/plain": [
       "array([[9.99979475e-01, 4.88417125e-06, 1.56407397e-05],\n",
       "       [9.99663762e-01, 4.34720737e-05, 2.92766196e-04],\n",
       "       [9.99990432e-01, 8.76177589e-06, 8.06308504e-07],\n",
       "       [9.98956160e-01, 1.04083819e-03, 3.00222409e-06],\n",
       "       [9.99989846e-01, 9.57629455e-06, 5.78187830e-07]])"
      ]
     },
     "execution_count": 60,
     "metadata": {},
     "output_type": "execute_result"
    }
   ],
   "source": [
    "bdt1.predict_proba(subsample)"
   ]
  },
  {
   "cell_type": "markdown",
   "metadata": {},
   "source": [
    "### MultiJet (class 1)\n",
    "\n",
    "Ok, now lets look at MJ, which is class 1. Note that the run number is not pulled correctly here. :("
   ]
  },
  {
   "cell_type": "code",
   "execution_count": 61,
   "metadata": {},
   "outputs": [
    {
     "data": {
      "text/html": [
       "<div>\n",
       "<style scoped>\n",
       "    .dataframe tbody tr th:only-of-type {\n",
       "        vertical-align: middle;\n",
       "    }\n",
       "\n",
       "    .dataframe tbody tr th {\n",
       "        vertical-align: top;\n",
       "    }\n",
       "\n",
       "    .dataframe thead th {\n",
       "        text-align: right;\n",
       "    }\n",
       "</style>\n",
       "<table border=\"1\" class=\"dataframe\">\n",
       "  <thead>\n",
       "    <tr style=\"text-align: right;\">\n",
       "      <th></th>\n",
       "      <th>RunNumber</th>\n",
       "      <th>EventNumber</th>\n",
       "      <th>JetPt</th>\n",
       "      <th>JetEta</th>\n",
       "      <th>JetPhi</th>\n",
       "    </tr>\n",
       "  </thead>\n",
       "  <tbody>\n",
       "    <tr>\n",
       "      <th>0</th>\n",
       "      <td>284500</td>\n",
       "      <td>1652343</td>\n",
       "      <td>243.0610</td>\n",
       "      <td>-0.890647</td>\n",
       "      <td>2.14866</td>\n",
       "    </tr>\n",
       "    <tr>\n",
       "      <th>1</th>\n",
       "      <td>284500</td>\n",
       "      <td>1652343</td>\n",
       "      <td>98.8450</td>\n",
       "      <td>-0.419785</td>\n",
       "      <td>1.96751</td>\n",
       "    </tr>\n",
       "    <tr>\n",
       "      <th>2</th>\n",
       "      <td>284500</td>\n",
       "      <td>1652343</td>\n",
       "      <td>93.1911</td>\n",
       "      <td>-0.242547</td>\n",
       "      <td>2.80465</td>\n",
       "    </tr>\n",
       "    <tr>\n",
       "      <th>3</th>\n",
       "      <td>284500</td>\n",
       "      <td>1652221</td>\n",
       "      <td>121.9710</td>\n",
       "      <td>-0.935860</td>\n",
       "      <td>2.44594</td>\n",
       "    </tr>\n",
       "    <tr>\n",
       "      <th>4</th>\n",
       "      <td>284500</td>\n",
       "      <td>1652221</td>\n",
       "      <td>102.9700</td>\n",
       "      <td>-0.691468</td>\n",
       "      <td>1.25401</td>\n",
       "    </tr>\n",
       "  </tbody>\n",
       "</table>\n",
       "</div>"
      ],
      "text/plain": [
       "   RunNumber  EventNumber     JetPt    JetEta   JetPhi\n",
       "0     284500      1652343  243.0610 -0.890647  2.14866\n",
       "1     284500      1652343   98.8450 -0.419785  1.96751\n",
       "2     284500      1652343   93.1911 -0.242547  2.80465\n",
       "3     284500      1652221  121.9710 -0.935860  2.44594\n",
       "4     284500      1652221  102.9700 -0.691468  1.25401"
      ]
     },
     "execution_count": 61,
     "metadata": {},
     "output_type": "execute_result"
    }
   ],
   "source": [
    "events_to_use[1][:5][['RunNumber', 'EventNumber', 'JetPt', 'JetEta', 'JetPhi']]"
   ]
  },
  {
   "cell_type": "code",
   "execution_count": 62,
   "metadata": {},
   "outputs": [
    {
     "data": {
      "text/html": [
       "<div>\n",
       "<style scoped>\n",
       "    .dataframe tbody tr th:only-of-type {\n",
       "        vertical-align: middle;\n",
       "    }\n",
       "\n",
       "    .dataframe tbody tr th {\n",
       "        vertical-align: top;\n",
       "    }\n",
       "\n",
       "    .dataframe thead th {\n",
       "        text-align: right;\n",
       "    }\n",
       "</style>\n",
       "<table border=\"1\" class=\"dataframe\">\n",
       "  <thead>\n",
       "    <tr style=\"text-align: right;\">\n",
       "      <th></th>\n",
       "      <th>EnergyDensity</th>\n",
       "      <th>BIBDeltaTimingM</th>\n",
       "      <th>JetPt</th>\n",
       "      <th>HadronicLayer1Fraction</th>\n",
       "      <th>ShowerCenter</th>\n",
       "      <th>JetLat</th>\n",
       "      <th>FirstClusterRadius</th>\n",
       "      <th>JetLong</th>\n",
       "      <th>MaxTrackPt</th>\n",
       "      <th>PredictedLxy</th>\n",
       "      <th>BIBDeltaTimingP</th>\n",
       "      <th>PredictedLz</th>\n",
       "      <th>SumPtOfAllTracks</th>\n",
       "    </tr>\n",
       "  </thead>\n",
       "  <tbody>\n",
       "    <tr>\n",
       "      <th>532863</th>\n",
       "      <td>0.004791</td>\n",
       "      <td>2.61928</td>\n",
       "      <td>121.9710</td>\n",
       "      <td>0.901575</td>\n",
       "      <td>366.0</td>\n",
       "      <td>0.902344</td>\n",
       "      <td>2512</td>\n",
       "      <td>0.968750</td>\n",
       "      <td>16.8386</td>\n",
       "      <td>737.983</td>\n",
       "      <td>14.73670</td>\n",
       "      <td>810.791</td>\n",
       "      <td>29.6025</td>\n",
       "    </tr>\n",
       "    <tr>\n",
       "      <th>532864</th>\n",
       "      <td>0.003418</td>\n",
       "      <td>2.18392</td>\n",
       "      <td>102.9700</td>\n",
       "      <td>0.693256</td>\n",
       "      <td>244.0</td>\n",
       "      <td>0.847656</td>\n",
       "      <td>2352</td>\n",
       "      <td>0.691406</td>\n",
       "      <td>16.4385</td>\n",
       "      <td>744.055</td>\n",
       "      <td>12.99140</td>\n",
       "      <td>487.665</td>\n",
       "      <td>45.4132</td>\n",
       "    </tr>\n",
       "    <tr>\n",
       "      <th>532865</th>\n",
       "      <td>0.000725</td>\n",
       "      <td>31.37850</td>\n",
       "      <td>424.5490</td>\n",
       "      <td>0.505638</td>\n",
       "      <td>2272.0</td>\n",
       "      <td>0.972656</td>\n",
       "      <td>5056</td>\n",
       "      <td>0.734375</td>\n",
       "      <td>110.9180</td>\n",
       "      <td>587.731</td>\n",
       "      <td>2.54659</td>\n",
       "      <td>886.868</td>\n",
       "      <td>211.9560</td>\n",
       "    </tr>\n",
       "    <tr>\n",
       "      <th>532866</th>\n",
       "      <td>0.005554</td>\n",
       "      <td>14.10390</td>\n",
       "      <td>73.6816</td>\n",
       "      <td>0.672046</td>\n",
       "      <td>197.0</td>\n",
       "      <td>0.871094</td>\n",
       "      <td>2464</td>\n",
       "      <td>0.832031</td>\n",
       "      <td>16.8371</td>\n",
       "      <td>860.230</td>\n",
       "      <td>1.84075</td>\n",
       "      <td>1009.950</td>\n",
       "      <td>38.7491</td>\n",
       "    </tr>\n",
       "    <tr>\n",
       "      <th>532867</th>\n",
       "      <td>0.004181</td>\n",
       "      <td>7.23076</td>\n",
       "      <td>67.8031</td>\n",
       "      <td>1.000000</td>\n",
       "      <td>163.0</td>\n",
       "      <td>0.972656</td>\n",
       "      <td>1704</td>\n",
       "      <td>0.941406</td>\n",
       "      <td>54.0849</td>\n",
       "      <td>889.963</td>\n",
       "      <td>4.37807</td>\n",
       "      <td>-128.344</td>\n",
       "      <td>299.8710</td>\n",
       "    </tr>\n",
       "  </tbody>\n",
       "</table>\n",
       "</div>"
      ],
      "text/plain": [
       "        EnergyDensity  BIBDeltaTimingM     JetPt  HadronicLayer1Fraction  \\\n",
       "532863       0.004791          2.61928  121.9710                0.901575   \n",
       "532864       0.003418          2.18392  102.9700                0.693256   \n",
       "532865       0.000725         31.37850  424.5490                0.505638   \n",
       "532866       0.005554         14.10390   73.6816                0.672046   \n",
       "532867       0.004181          7.23076   67.8031                1.000000   \n",
       "\n",
       "        ShowerCenter    JetLat  FirstClusterRadius   JetLong  MaxTrackPt  \\\n",
       "532863         366.0  0.902344                2512  0.968750     16.8386   \n",
       "532864         244.0  0.847656                2352  0.691406     16.4385   \n",
       "532865        2272.0  0.972656                5056  0.734375    110.9180   \n",
       "532866         197.0  0.871094                2464  0.832031     16.8371   \n",
       "532867         163.0  0.972656                1704  0.941406     54.0849   \n",
       "\n",
       "        PredictedLxy  BIBDeltaTimingP  PredictedLz  SumPtOfAllTracks  \n",
       "532863       737.983         14.73670      810.791           29.6025  \n",
       "532864       744.055         12.99140      487.665           45.4132  \n",
       "532865       587.731          2.54659      886.868          211.9560  \n",
       "532866       860.230          1.84075     1009.950           38.7491  \n",
       "532867       889.963          4.37807     -128.344          299.8710  "
      ]
     },
     "execution_count": 62,
     "metadata": {},
     "output_type": "execute_result"
    }
   ],
   "source": [
    "subsample = all_events[all_events_class.Class==1][:5]\n",
    "subsample"
   ]
  },
  {
   "cell_type": "code",
   "execution_count": 63,
   "metadata": {},
   "outputs": [
    {
     "data": {
      "text/plain": [
       "array([[0.32327419, 0.34872271, 0.32800311],\n",
       "       [0.32313453, 0.35107687, 0.3257886 ],\n",
       "       [0.31750565, 0.35536056, 0.32713379],\n",
       "       [0.33016535, 0.3445149 , 0.32531975],\n",
       "       [0.32077259, 0.35786571, 0.3213617 ]])"
      ]
     },
     "execution_count": 63,
     "metadata": {},
     "output_type": "execute_result"
    }
   ],
   "source": [
    "bdtGeneral.eval(subsample)"
   ]
  },
  {
   "cell_type": "code",
   "execution_count": 64,
   "metadata": {},
   "outputs": [
    {
     "data": {
      "text/plain": [
       "array([[5.09319014e-04, 9.97612450e-01, 1.87823049e-03],\n",
       "       [2.49311386e-04, 9.99263092e-01, 4.87596479e-04],\n",
       "       [1.27959045e-05, 9.99768160e-01, 2.19044112e-04],\n",
       "       [1.39313996e-02, 9.83327309e-01, 2.74129191e-03],\n",
       "       [1.76460830e-05, 9.99964056e-01, 1.82979296e-05]])"
      ]
     },
     "execution_count": 64,
     "metadata": {},
     "output_type": "execute_result"
    }
   ],
   "source": [
    "bdt1.predict_proba(subsample)"
   ]
  },
  {
   "cell_type": "markdown",
   "metadata": {},
   "source": [
    "### Signal (class 2)\n",
    "\n",
    "Finally, lets look at signal"
   ]
  },
  {
   "cell_type": "code",
   "execution_count": 65,
   "metadata": {},
   "outputs": [
    {
     "data": {
      "text/html": [
       "<div>\n",
       "<style scoped>\n",
       "    .dataframe tbody tr th:only-of-type {\n",
       "        vertical-align: middle;\n",
       "    }\n",
       "\n",
       "    .dataframe tbody tr th {\n",
       "        vertical-align: top;\n",
       "    }\n",
       "\n",
       "    .dataframe thead th {\n",
       "        text-align: right;\n",
       "    }\n",
       "</style>\n",
       "<table border=\"1\" class=\"dataframe\">\n",
       "  <thead>\n",
       "    <tr style=\"text-align: right;\">\n",
       "      <th></th>\n",
       "      <th>RunNumber</th>\n",
       "      <th>EventNumber</th>\n",
       "      <th>JetPt</th>\n",
       "      <th>JetEta</th>\n",
       "      <th>JetPhi</th>\n",
       "    </tr>\n",
       "  </thead>\n",
       "  <tbody>\n",
       "    <tr>\n",
       "      <th>0</th>\n",
       "      <td>284500</td>\n",
       "      <td>171076</td>\n",
       "      <td>158.9240</td>\n",
       "      <td>-0.985681</td>\n",
       "      <td>0.255070</td>\n",
       "    </tr>\n",
       "    <tr>\n",
       "      <th>1</th>\n",
       "      <td>284500</td>\n",
       "      <td>171242</td>\n",
       "      <td>117.5200</td>\n",
       "      <td>-0.328739</td>\n",
       "      <td>3.004210</td>\n",
       "    </tr>\n",
       "    <tr>\n",
       "      <th>2</th>\n",
       "      <td>284500</td>\n",
       "      <td>171705</td>\n",
       "      <td>200.1870</td>\n",
       "      <td>1.260690</td>\n",
       "      <td>-0.629426</td>\n",
       "    </tr>\n",
       "    <tr>\n",
       "      <th>3</th>\n",
       "      <td>284500</td>\n",
       "      <td>171165</td>\n",
       "      <td>80.9756</td>\n",
       "      <td>1.358970</td>\n",
       "      <td>0.033844</td>\n",
       "    </tr>\n",
       "    <tr>\n",
       "      <th>6</th>\n",
       "      <td>284500</td>\n",
       "      <td>171034</td>\n",
       "      <td>248.2560</td>\n",
       "      <td>0.501694</td>\n",
       "      <td>-0.495947</td>\n",
       "    </tr>\n",
       "  </tbody>\n",
       "</table>\n",
       "</div>"
      ],
      "text/plain": [
       "   RunNumber  EventNumber     JetPt    JetEta    JetPhi\n",
       "0     284500       171076  158.9240 -0.985681  0.255070\n",
       "1     284500       171242  117.5200 -0.328739  3.004210\n",
       "2     284500       171705  200.1870  1.260690 -0.629426\n",
       "3     284500       171165   80.9756  1.358970  0.033844\n",
       "6     284500       171034  248.2560  0.501694 -0.495947"
      ]
     },
     "execution_count": 65,
     "metadata": {},
     "output_type": "execute_result"
    }
   ],
   "source": [
    "events_to_use[2][:5][['RunNumber', 'EventNumber', 'JetPt', 'JetEta', 'JetPhi']]"
   ]
  },
  {
   "cell_type": "code",
   "execution_count": 66,
   "metadata": {},
   "outputs": [
    {
     "data": {
      "text/html": [
       "<div>\n",
       "<style scoped>\n",
       "    .dataframe tbody tr th:only-of-type {\n",
       "        vertical-align: middle;\n",
       "    }\n",
       "\n",
       "    .dataframe tbody tr th {\n",
       "        vertical-align: top;\n",
       "    }\n",
       "\n",
       "    .dataframe thead th {\n",
       "        text-align: right;\n",
       "    }\n",
       "</style>\n",
       "<table border=\"1\" class=\"dataframe\">\n",
       "  <thead>\n",
       "    <tr style=\"text-align: right;\">\n",
       "      <th></th>\n",
       "      <th>EnergyDensity</th>\n",
       "      <th>BIBDeltaTimingM</th>\n",
       "      <th>JetPt</th>\n",
       "      <th>HadronicLayer1Fraction</th>\n",
       "      <th>ShowerCenter</th>\n",
       "      <th>JetLat</th>\n",
       "      <th>FirstClusterRadius</th>\n",
       "      <th>JetLong</th>\n",
       "      <th>MaxTrackPt</th>\n",
       "      <th>PredictedLxy</th>\n",
       "      <th>BIBDeltaTimingP</th>\n",
       "      <th>PredictedLz</th>\n",
       "      <th>SumPtOfAllTracks</th>\n",
       "    </tr>\n",
       "  </thead>\n",
       "  <tbody>\n",
       "    <tr>\n",
       "      <th>1066442</th>\n",
       "      <td>0.000671</td>\n",
       "      <td>4.37826</td>\n",
       "      <td>158.924</td>\n",
       "      <td>0.000286</td>\n",
       "      <td>2992.0</td>\n",
       "      <td>0.910156</td>\n",
       "      <td>5312</td>\n",
       "      <td>0.617188</td>\n",
       "      <td>0.000000</td>\n",
       "      <td>3185.480</td>\n",
       "      <td>31.25680</td>\n",
       "      <td>3068.820</td>\n",
       "      <td>0.000000</td>\n",
       "    </tr>\n",
       "    <tr>\n",
       "      <th>1066443</th>\n",
       "      <td>0.000385</td>\n",
       "      <td>13.06520</td>\n",
       "      <td>117.520</td>\n",
       "      <td>0.223429</td>\n",
       "      <td>1464.0</td>\n",
       "      <td>0.640625</td>\n",
       "      <td>3056</td>\n",
       "      <td>0.785156</td>\n",
       "      <td>0.000000</td>\n",
       "      <td>2509.270</td>\n",
       "      <td>19.67940</td>\n",
       "      <td>826.910</td>\n",
       "      <td>0.000000</td>\n",
       "    </tr>\n",
       "    <tr>\n",
       "      <th>1066444</th>\n",
       "      <td>0.028931</td>\n",
       "      <td>9.72733</td>\n",
       "      <td>248.256</td>\n",
       "      <td>0.493671</td>\n",
       "      <td>218.0</td>\n",
       "      <td>0.832031</td>\n",
       "      <td>1928</td>\n",
       "      <td>0.679688</td>\n",
       "      <td>0.432695</td>\n",
       "      <td>886.061</td>\n",
       "      <td>3.61386</td>\n",
       "      <td>313.347</td>\n",
       "      <td>0.432695</td>\n",
       "    </tr>\n",
       "    <tr>\n",
       "      <th>1066445</th>\n",
       "      <td>0.017700</td>\n",
       "      <td>2.52680</td>\n",
       "      <td>105.639</td>\n",
       "      <td>0.408885</td>\n",
       "      <td>314.0</td>\n",
       "      <td>0.863281</td>\n",
       "      <td>3184</td>\n",
       "      <td>0.941406</td>\n",
       "      <td>0.706930</td>\n",
       "      <td>796.294</td>\n",
       "      <td>20.72640</td>\n",
       "      <td>1204.780</td>\n",
       "      <td>0.706930</td>\n",
       "    </tr>\n",
       "    <tr>\n",
       "      <th>1066446</th>\n",
       "      <td>0.000610</td>\n",
       "      <td>13.39250</td>\n",
       "      <td>159.514</td>\n",
       "      <td>0.009390</td>\n",
       "      <td>1552.0</td>\n",
       "      <td>0.632812</td>\n",
       "      <td>3056</td>\n",
       "      <td>0.640625</td>\n",
       "      <td>1.214390</td>\n",
       "      <td>2622.160</td>\n",
       "      <td>10.79180</td>\n",
       "      <td>569.214</td>\n",
       "      <td>1.214390</td>\n",
       "    </tr>\n",
       "  </tbody>\n",
       "</table>\n",
       "</div>"
      ],
      "text/plain": [
       "         EnergyDensity  BIBDeltaTimingM    JetPt  HadronicLayer1Fraction  \\\n",
       "1066442       0.000671          4.37826  158.924                0.000286   \n",
       "1066443       0.000385         13.06520  117.520                0.223429   \n",
       "1066444       0.028931          9.72733  248.256                0.493671   \n",
       "1066445       0.017700          2.52680  105.639                0.408885   \n",
       "1066446       0.000610         13.39250  159.514                0.009390   \n",
       "\n",
       "         ShowerCenter    JetLat  FirstClusterRadius   JetLong  MaxTrackPt  \\\n",
       "1066442        2992.0  0.910156                5312  0.617188    0.000000   \n",
       "1066443        1464.0  0.640625                3056  0.785156    0.000000   \n",
       "1066444         218.0  0.832031                1928  0.679688    0.432695   \n",
       "1066445         314.0  0.863281                3184  0.941406    0.706930   \n",
       "1066446        1552.0  0.632812                3056  0.640625    1.214390   \n",
       "\n",
       "         PredictedLxy  BIBDeltaTimingP  PredictedLz  SumPtOfAllTracks  \n",
       "1066442      3185.480         31.25680     3068.820          0.000000  \n",
       "1066443      2509.270         19.67940      826.910          0.000000  \n",
       "1066444       886.061          3.61386      313.347          0.432695  \n",
       "1066445       796.294         20.72640     1204.780          0.706930  \n",
       "1066446      2622.160         10.79180      569.214          1.214390  "
      ]
     },
     "execution_count": 66,
     "metadata": {},
     "output_type": "execute_result"
    }
   ],
   "source": [
    "subsample = all_events[all_events_class.Class==2][:5]\n",
    "subsample"
   ]
  },
  {
   "cell_type": "code",
   "execution_count": 67,
   "metadata": {},
   "outputs": [
    {
     "data": {
      "text/plain": [
       "array([[0.32744427, 0.32211439, 0.35044134],\n",
       "       [0.33739162, 0.3186497 , 0.34395869],\n",
       "       [0.3239724 , 0.33087848, 0.34514911],\n",
       "       [0.32599329, 0.33290358, 0.34110313],\n",
       "       [0.3374154 , 0.31937639, 0.34320821]])"
      ]
     },
     "execution_count": 67,
     "metadata": {},
     "output_type": "execute_result"
    }
   ],
   "source": [
    "bdtGeneral.eval(subsample)"
   ]
  },
  {
   "cell_type": "code",
   "execution_count": 68,
   "metadata": {},
   "outputs": [
    {
     "data": {
      "text/plain": [
       "array([[1.30455436e-03, 2.53389479e-04, 9.98442056e-01],\n",
       "       [1.44171386e-01, 4.76270688e-04, 8.55352343e-01],\n",
       "       [2.02230805e-03, 1.67090056e-02, 9.81268686e-01],\n",
       "       [1.11992278e-02, 9.14579564e-02, 8.97342816e-01],\n",
       "       [1.74235317e-01, 7.17760413e-04, 8.25046922e-01]])"
      ]
     },
     "execution_count": 68,
     "metadata": {},
     "output_type": "execute_result"
    }
   ],
   "source": [
    "bdt1.predict_proba(subsample)"
   ]
  },
  {
   "cell_type": "markdown",
   "metadata": {},
   "source": [
    "## Plots of TMVA Translation Performance"
   ]
  },
  {
   "cell_type": "code",
   "execution_count": 69,
   "metadata": {},
   "outputs": [
    {
     "name": "stdout",
     "output_type": "stream",
     "text": [
      "CPU times: user 21min 41s, sys: 5min 38s, total: 27min 20s\n",
      "Wall time: 6min 50s\n"
     ]
    }
   ],
   "source": [
    "%%time\n",
    "predicted_tmva_weights = bdtGeneral.eval(perf_events)"
   ]
  },
  {
   "cell_type": "code",
   "execution_count": 70,
   "metadata": {},
   "outputs": [
    {
     "data": {
      "text/plain": [
       "<matplotlib.legend.Legend at 0x7f9006980a90>"
      ]
     },
     "execution_count": 70,
     "metadata": {},
     "output_type": "execute_result"
    },
    {
     "data": {
      "image/png": "[encoded data removed]",
      "text/plain": [
       "<Figure size 1080x720 with 3 Axes>"
      ]
     },
     "metadata": {},
     "output_type": "display_data"
    }
   ],
   "source": [
    "fig = plt.figure(figsize=(15,10))\n",
    "\n",
    "ax = plt.subplot(221)\n",
    "ax.hist(predicted_tmva_weights[perf_events_class.Class == 0], label=('BiB', \"MJ\", 'HSS'), bins=50, histtype = 'step', range=[0.3, 0.37])\n",
    "ax.set_xlabel('Weight')\n",
    "ax.set_title('Class: BIB')\n",
    "ax.legend()\n",
    "\n",
    "ax = plt.subplot(222)\n",
    "ax.hist(predicted_tmva_weights[perf_events_class.Class == 1], label=('BiB', \"MJ\", 'HSS'), bins=50, histtype = 'step', range=[0.3, 0.37])\n",
    "ax.set_xlabel('Weight')\n",
    "ax.set_title('Class: MJ')\n",
    "ax.legend()\n",
    "\n",
    "ax = plt.subplot(223)\n",
    "ax.hist(predicted_tmva_weights[perf_events_class.Class == 2], label=('BiB', \"MJ\", 'HSS'), bins=50, histtype = 'step', range=[0.3, 0.37])\n",
    "ax.set_xlabel('Weight')\n",
    "ax.set_title('Class: HSS')\n",
    "ax.legend()"
   ]
  },
  {
   "cell_type": "markdown",
   "metadata": {},
   "source": [
    "Note in this version how everything is on top of itself. :("
   ]
  },
  {
   "cell_type": "code",
   "execution_count": null,
   "metadata": {},
   "outputs": [],
   "source": []
  }
 ],
 "metadata": {
  "kernelspec": {
   "display_name": "Python 3",
   "language": "python",
   "name": "python3"
  },
  "language_info": {
   "codemirror_mode": {
    "name": "ipython",
    "version": 3
   },
   "file_extension": ".py",
   "mimetype": "text/x-python",
   "name": "python",
   "nbconvert_exporter": "python",
   "pygments_lexer": "ipython3",
   "version": "3.6.5"
  }
 },
 "nbformat": 4,
 "nbformat_minor": 2
}
